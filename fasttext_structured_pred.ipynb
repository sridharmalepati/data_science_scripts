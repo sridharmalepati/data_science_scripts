{
  "nbformat": 4,
  "nbformat_minor": 0,
  "metadata": {
    "colab": {
      "name": "fasttext structured pred",
      "provenance": [],
      "collapsed_sections": [],
      "machine_shape": "hm",
      "authorship_tag": "ABX9TyMTH0eSK2wgNP4DzwIv/eDZ",
      "include_colab_link": true
    },
    "kernelspec": {
      "name": "python3",
      "display_name": "Python 3"
    }
  },
  "cells": [
    {
      "cell_type": "markdown",
      "metadata": {
        "id": "view-in-github",
        "colab_type": "text"
      },
      "source": [
        "<a href=\"https://colab.research.google.com/github/DuyguA/data_science_scripts/blob/master/fasttext_structured_pred.ipynb\" target=\"_parent\"><img src=\"https://colab.research.google.com/assets/colab-badge.svg\" alt=\"Open In Colab\"/></a>"
      ]
    },
    {
      "cell_type": "code",
      "metadata": {
        "id": "k0sXqx9ZC4JO",
        "colab": {
          "base_uri": "https://localhost:8080/",
          "height": 384
        },
        "outputId": "7de1ebf5-e9aa-48f6-c2d3-3ae851ce10fe"
      },
      "source": [
        "!!pip3 install fasttext"
      ],
      "execution_count": null,
      "outputs": [
        {
          "output_type": "execute_result",
          "data": {
            "text/plain": [
              "['Collecting fasttext',\n",
              " '\\x1b[?25l  Downloading https://files.pythonhosted.org/packages/f8/85/e2b368ab6d3528827b147fdb814f8189acc981a4bc2f99ab894650e05c40/fasttext-0.9.2.tar.gz (68kB)',\n",
              " '',\n",
              " '\\x1b[K     |████▊                           | 10kB 8.9MB/s eta 0:00:01',\n",
              " '\\x1b[K     |█████████▌                      | 20kB 1.5MB/s eta 0:00:01',\n",
              " '\\x1b[K     |██████████████▎                 | 30kB 1.8MB/s eta 0:00:01',\n",
              " '\\x1b[K     |███████████████████             | 40kB 1.6MB/s eta 0:00:01',\n",
              " '\\x1b[K     |███████████████████████▉        | 51kB 1.8MB/s eta 0:00:01',\n",
              " '\\x1b[K     |████████████████████████████▋   | 61kB 2.2MB/s eta 0:00:01',\n",
              " '\\x1b[K     |████████████████████████████████| 71kB 2.0MB/s ',\n",
              " '\\x1b[?25hRequirement already satisfied: pybind11>=2.2 in /usr/local/lib/python3.6/dist-packages (from fasttext) (2.5.0)',\n",
              " 'Requirement already satisfied: setuptools>=0.7.0 in /usr/local/lib/python3.6/dist-packages (from fasttext) (46.1.3)',\n",
              " 'Requirement already satisfied: numpy in /usr/local/lib/python3.6/dist-packages (from fasttext) (1.18.3)',\n",
              " 'Building wheels for collected packages: fasttext',\n",
              " '  Building wheel for fasttext (setup.py) ... \\x1b[?25l\\x1b[?25hdone',\n",
              " '  Created wheel for fasttext: filename=fasttext-0.9.2-cp36-cp36m-linux_x86_64.whl size=3016293 sha256=b70d225c5e3311f104805081d26e04e86d4a0f171c1df7da3ec8a0b16ed0855e',\n",
              " '  Stored in directory: /root/.cache/pip/wheels/98/ba/7f/b154944a1cf5a8cee91c154b75231136cc3a3321ab0e30f592',\n",
              " 'Successfully built fasttext',\n",
              " 'Installing collected packages: fasttext',\n",
              " 'Successfully installed fasttext-0.9.2']"
            ]
          },
          "metadata": {
            "tags": []
          },
          "execution_count": 1
        }
      ]
    },
    {
      "cell_type": "code",
      "metadata": {
        "id": "uzobhMIbDCel"
      },
      "source": [
        "import fasttext"
      ],
      "execution_count": null,
      "outputs": []
    },
    {
      "cell_type": "code",
      "metadata": {
        "id": "xlOrTTPNDOJo",
        "colab": {
          "base_uri": "https://localhost:8080/",
          "height": 382
        },
        "outputId": "f7565eaa-25d6-49b1-8608-c3d26afd15f8"
      },
      "source": [
        "!wget https://dl.fbaipublicfiles.com/fasttext/vectors-crawl/cc.tr.300.bin.gz"
      ],
      "execution_count": null,
      "outputs": [
        {
          "output_type": "stream",
          "text": [
            "--2020-05-04 13:23:37--  https://dl.fbaipublicfiles.com/fasttext/vectors-crawl/cc.tr.300.bin.gz\n",
            "Resolving dl.fbaipublicfiles.com (dl.fbaipublicfiles.com)... 104.22.74.142, 104.22.75.142, 2606:4700:10::6816:4a8e, ...\n",
            "Connecting to dl.fbaipublicfiles.com (dl.fbaipublicfiles.com)|104.22.74.142|:443... connected.\n",
            "HTTP request sent, awaiting response... 200 OK\n",
            "Length: 4506977940 (4.2G) [application/octet-stream]\n",
            "Saving to: ‘cc.tr.300.bin.gz’\n",
            "\n",
            "cc.tr.300.bin.gz     44%[=======>            ]   1.85G  25.9MB/s    in 75s     \n",
            "\n",
            "2020-05-04 13:24:52 (25.5 MB/s) - Read error at byte 1991684312/4506977940 (Connection reset by peer). Retrying.\n",
            "\n",
            "--2020-05-04 13:24:53--  (try: 2)  https://dl.fbaipublicfiles.com/fasttext/vectors-crawl/cc.tr.300.bin.gz\n",
            "Connecting to dl.fbaipublicfiles.com (dl.fbaipublicfiles.com)|104.22.74.142|:443... connected.\n",
            "HTTP request sent, awaiting response... 206 Partial Content\n",
            "Length: 4506977940 (4.2G), 2515293628 (2.3G) remaining [application/octet-stream]\n",
            "Saving to: ‘cc.tr.300.bin.gz’\n",
            "\n",
            "cc.tr.300.bin.gz    100%[++++++++===========>]   4.20G  21.2MB/s    in 1m 54s  \n",
            "\n",
            "2020-05-04 13:26:48 (21.0 MB/s) - ‘cc.tr.300.bin.gz’ saved [4506977940/4506977940]\n",
            "\n"
          ],
          "name": "stdout"
        }
      ]
    },
    {
      "cell_type": "code",
      "metadata": {
        "id": "mNN_hKGkDavB"
      },
      "source": [
        "!gzip -d cc.tr.300.bin.gz"
      ],
      "execution_count": null,
      "outputs": []
    },
    {
      "cell_type": "code",
      "metadata": {
        "id": "2ynYKIM2DbIv",
        "colab": {
          "base_uri": "https://localhost:8080/",
          "height": 34
        },
        "outputId": "53c0b916-66dd-4d4d-eac2-97a9aed3696b"
      },
      "source": [
        "m = fasttext.load_model(\"cc.tr.300.bin\")"
      ],
      "execution_count": null,
      "outputs": [
        {
          "output_type": "stream",
          "text": [
            "Warning : `load_model` does not return WordVectorModel or SupervisedModel any more, but a `FastText` object which is very similar.\n"
          ],
          "name": "stderr"
        }
      ]
    },
    {
      "cell_type": "code",
      "metadata": {
        "id": "KXbX2sPCDbZz",
        "colab": {
          "base_uri": "https://localhost:8080/",
          "height": 1000
        },
        "outputId": "98085da7-3390-4730-ba57-4c9230f546f4"
      },
      "source": [
        "dir(m)"
      ],
      "execution_count": null,
      "outputs": [
        {
          "output_type": "execute_result",
          "data": {
            "text/plain": [
              "['__class__',\n",
              " '__contains__',\n",
              " '__delattr__',\n",
              " '__dict__',\n",
              " '__dir__',\n",
              " '__doc__',\n",
              " '__eq__',\n",
              " '__format__',\n",
              " '__ge__',\n",
              " '__getattribute__',\n",
              " '__getitem__',\n",
              " '__gt__',\n",
              " '__hash__',\n",
              " '__init__',\n",
              " '__init_subclass__',\n",
              " '__le__',\n",
              " '__lt__',\n",
              " '__module__',\n",
              " '__ne__',\n",
              " '__new__',\n",
              " '__reduce__',\n",
              " '__reduce_ex__',\n",
              " '__repr__',\n",
              " '__setattr__',\n",
              " '__sizeof__',\n",
              " '__str__',\n",
              " '__subclasshook__',\n",
              " '__weakref__',\n",
              " '_labels',\n",
              " '_words',\n",
              " 'f',\n",
              " 'get_analogies',\n",
              " 'get_dimension',\n",
              " 'get_input_matrix',\n",
              " 'get_input_vector',\n",
              " 'get_label_id',\n",
              " 'get_labels',\n",
              " 'get_line',\n",
              " 'get_meter',\n",
              " 'get_nearest_neighbors',\n",
              " 'get_output_matrix',\n",
              " 'get_sentence_vector',\n",
              " 'get_subword_id',\n",
              " 'get_subwords',\n",
              " 'get_word_id',\n",
              " 'get_word_vector',\n",
              " 'get_words',\n",
              " 'is_quantized',\n",
              " 'labels',\n",
              " 'predict',\n",
              " 'quantize',\n",
              " 'save_model',\n",
              " 'set_args',\n",
              " 'set_matrices',\n",
              " 'test',\n",
              " 'test_label',\n",
              " 'words']"
            ]
          },
          "metadata": {
            "tags": []
          },
          "execution_count": 7
        }
      ]
    },
    {
      "cell_type": "code",
      "metadata": {
        "id": "SEm98caKDbpf"
      },
      "source": [
        ""
      ],
      "execution_count": null,
      "outputs": []
    },
    {
      "cell_type": "code",
      "metadata": {
        "id": "Z7B3xFoQrwyg"
      },
      "source": [
        "import re\n",
        "\n",
        "#from emoticon_smiley import replace_smileys\n",
        "\n",
        "opponents = [\"bimcell\", \"pttcell\", \"ttnet\", \"vodafone\", \"avea\", \"netcell\", \"vestelcell\", \"turk telekom\", \"turktelekom\", \"turknet\"]\n",
        "opp_regex = r\"@?(\" + r\"|\".join(opponents) + r\")(\\w+)?\"\n",
        "\n",
        "\n",
        "def replace_opponents(sentence):\n",
        "  sentence = re.sub(opp_regex, \" rakip şirket \", sentence, flags=re.I)\n",
        "  return sentence\n",
        "\n",
        "def replace_self_mentions(sentence):\n",
        "  sentence = re.sub(\"t.?rkcll?\", \"turkcell\", sentence)\n",
        "  return sentence\n",
        "\n",
        "def replace_entities(sentence):\n",
        "  #sentence = replace_ceo(sentence)\n",
        "  sentence = replace_opponents(sentence)\n",
        "  sentence = replace_self_mentions(sentence)\n",
        "  return sentence\n",
        "\n",
        "def replace_dots(sentence):\n",
        "  sentence = sentence.replace(u\"\\u2026\", \"...\").replace(u\"\\u2025\", \"..\").replace(u\"\\u1427\", \".\")\n",
        "  return sentence\n",
        "\n",
        "def replace_brackets(sentence):\n",
        "  sentence = sentence.replace(\"}\", \" \").replace(\"{\", \" \").replace(\"]\", \" \").replace(\"[\", \" \")\n",
        "  return sentence\n",
        "\n",
        "def replace_quotation_marks(sentence):\n",
        "  rlist = [ u\"\\u2018\", u\"\\u201c\", u\"\\u201d\", '\"', u\"\\u0060\", u\"\\u00b4\", u\"\\u2019\"]\n",
        "  for r in rlist:\n",
        "    sentence = sentence.replace(r, \" \")\n",
        "  return sentence\n",
        "\n",
        "def replace_url(sentence):\n",
        "  url_string = r\"(http:\\/\\/www\\.|https:\\/\\/www\\.|http:\\/\\/|https:\\/\\/)?[a-z0-9]+([\\-\\.]{1}[a-z0-9]+)*\\.[a-z]{2,5}(:[0-9]{1,5})?(\\/.*)?\"\n",
        "  return re.sub(url_string, \" websitesi \", sentence)\n",
        "\n",
        "def process_quotation(sentence):\n",
        "  sentence = re.sub(r\"(?<![.\\d])\\.\", \" .\", sentence)\n",
        "  sentence = re.sub(r\"\\.(?![.\\d])\", \". \", sentence)\n",
        "  sentence = re.sub(r\"(?<=\\w)([,:;])\", r\" \\1\", sentence)\n",
        "  sentence = sentence.replace(\"?\", \" ? \").replace(\"!\", \" ! \")\n",
        "  sentence = re.sub(r\"[\\s#\\@_<>|-]\", \" \", sentence)\n",
        "  return sentence\n",
        "\n",
        "\n",
        "def preprocess(sentence):\n",
        "  sentence = sentence.strip()\n",
        "  sentence = sentence.lower()\n",
        "  sentence = replace_entities(sentence)\n",
        "  sentence = replace_dots(sentence)\n",
        "  sentence = replace_brackets(sentence)\n",
        "  sentence = replace_quotation_marks(sentence)\n",
        "  sentence = process_quotation(sentence)\n",
        "  tokens = sentence.strip().split()\n",
        "  #t = replace_smileys(tokens)\n",
        "  return  tokens"
      ],
      "execution_count": null,
      "outputs": []
    },
    {
      "cell_type": "code",
      "metadata": {
        "id": "eyi7XqSXsbc1"
      },
      "source": [
        ""
      ],
      "execution_count": null,
      "outputs": []
    },
    {
      "cell_type": "code",
      "metadata": {
        "id": "ZxRcCjH6sbvA"
      },
      "source": [
        ""
      ],
      "execution_count": null,
      "outputs": []
    },
    {
      "cell_type": "code",
      "metadata": {
        "id": "u0sc7dmQscCz"
      },
      "source": [
        "import pandas as pd\n",
        "import numpy as np"
      ],
      "execution_count": null,
      "outputs": []
    },
    {
      "cell_type": "code",
      "metadata": {
        "id": "C0I6B33ls-VY"
      },
      "source": [
        ""
      ],
      "execution_count": null,
      "outputs": []
    },
    {
      "cell_type": "code",
      "metadata": {
        "id": "-LZneeHtncUa"
      },
      "source": [
        ""
      ],
      "execution_count": null,
      "outputs": []
    },
    {
      "cell_type": "code",
      "metadata": {
        "id": "-UYyffRNs-nm"
      },
      "source": [
        ""
      ],
      "execution_count": null,
      "outputs": []
    },
    {
      "cell_type": "code",
      "metadata": {
        "id": "e5rK794ki4W0"
      },
      "source": [
        ""
      ],
      "execution_count": null,
      "outputs": []
    },
    {
      "cell_type": "code",
      "metadata": {
        "id": "FtlW6_AjgDDT"
      },
      "source": [
        "data = pd.read_csv('all.csv', encoding='utf8', sep=',')"
      ],
      "execution_count": null,
      "outputs": []
    },
    {
      "cell_type": "code",
      "metadata": {
        "id": "i2ngUMMankvr"
      },
      "source": [
        "\n",
        "  "
      ],
      "execution_count": null,
      "outputs": []
    },
    {
      "cell_type": "code",
      "metadata": {
        "id": "-iXq0Bf7gmFG",
        "colab": {
          "base_uri": "https://localhost:8080/",
          "height": 206
        },
        "outputId": "7b49ec63-3cee-4815-a9fe-4352e515a5c5"
      },
      "source": [
        "data.head()"
      ],
      "execution_count": null,
      "outputs": [
        {
          "output_type": "execute_result",
          "data": {
            "text/html": [
              "<div>\n",
              "<style scoped>\n",
              "    .dataframe tbody tr th:only-of-type {\n",
              "        vertical-align: middle;\n",
              "    }\n",
              "\n",
              "    .dataframe tbody tr th {\n",
              "        vertical-align: top;\n",
              "    }\n",
              "\n",
              "    .dataframe thead th {\n",
              "        text-align: right;\n",
              "    }\n",
              "</style>\n",
              "<table border=\"1\" class=\"dataframe\">\n",
              "  <thead>\n",
              "    <tr style=\"text-align: right;\">\n",
              "      <th></th>\n",
              "      <th>ORJINAL</th>\n",
              "      <th>SORU</th>\n",
              "      <th>PROBLEM</th>\n",
              "      <th>TALEP</th>\n",
              "      <th>ANAHTAR</th>\n",
              "      <th>EMIR</th>\n",
              "      <th>OTHER</th>\n",
              "    </tr>\n",
              "  </thead>\n",
              "  <tbody>\n",
              "    <tr>\n",
              "      <th>0</th>\n",
              "      <td>Sana müthiş bir haberim var</td>\n",
              "      <td>0</td>\n",
              "      <td>0</td>\n",
              "      <td>0</td>\n",
              "      <td>0</td>\n",
              "      <td>0</td>\n",
              "      <td>1</td>\n",
              "    </tr>\n",
              "    <tr>\n",
              "      <th>1</th>\n",
              "      <td>Sana git dedim</td>\n",
              "      <td>0</td>\n",
              "      <td>0</td>\n",
              "      <td>0</td>\n",
              "      <td>0</td>\n",
              "      <td>1</td>\n",
              "      <td>0</td>\n",
              "    </tr>\n",
              "    <tr>\n",
              "      <th>2</th>\n",
              "      <td>Sakın bir daha böyle düşünme</td>\n",
              "      <td>0</td>\n",
              "      <td>0</td>\n",
              "      <td>0</td>\n",
              "      <td>0</td>\n",
              "      <td>1</td>\n",
              "      <td>0</td>\n",
              "    </tr>\n",
              "    <tr>\n",
              "      <th>3</th>\n",
              "      <td>Görev süresinin uzatılmasını istedi</td>\n",
              "      <td>0</td>\n",
              "      <td>0</td>\n",
              "      <td>1</td>\n",
              "      <td>0</td>\n",
              "      <td>0</td>\n",
              "      <td>0</td>\n",
              "    </tr>\n",
              "    <tr>\n",
              "      <th>4</th>\n",
              "      <td>Bu da neyin nesi</td>\n",
              "      <td>1</td>\n",
              "      <td>0</td>\n",
              "      <td>0</td>\n",
              "      <td>0</td>\n",
              "      <td>0</td>\n",
              "      <td>0</td>\n",
              "    </tr>\n",
              "  </tbody>\n",
              "</table>\n",
              "</div>"
            ],
            "text/plain": [
              "                               ORJINAL  SORU  PROBLEM  ...  ANAHTAR  EMIR  OTHER\n",
              "0          Sana müthiş bir haberim var     0        0  ...        0     0      1\n",
              "1                       Sana git dedim     0        0  ...        0     1      0\n",
              "2         Sakın bir daha böyle düşünme     0        0  ...        0     1      0\n",
              "3  Görev süresinin uzatılmasını istedi     0        0  ...        0     0      0\n",
              "4                     Bu da neyin nesi     1        0  ...        0     0      0\n",
              "\n",
              "[5 rows x 7 columns]"
            ]
          },
          "metadata": {
            "tags": []
          },
          "execution_count": 121
        }
      ]
    },
    {
      "cell_type": "code",
      "metadata": {
        "id": "gMutdd-ToNVR",
        "colab": {
          "base_uri": "https://localhost:8080/",
          "height": 34
        },
        "outputId": "5676fe97-61c2-470d-aab1-b9395d91e552"
      },
      "source": [
        "data.isnull().values.any()"
      ],
      "execution_count": null,
      "outputs": [
        {
          "output_type": "execute_result",
          "data": {
            "text/plain": [
              "False"
            ]
          },
          "metadata": {
            "tags": []
          },
          "execution_count": 14
        }
      ]
    },
    {
      "cell_type": "code",
      "metadata": {
        "id": "hu_WAXEbfLWO"
      },
      "source": [
        ""
      ],
      "execution_count": null,
      "outputs": []
    },
    {
      "cell_type": "code",
      "metadata": {
        "id": "LCQaVHn9s-8b"
      },
      "source": [
        "sentences = []\n",
        "y = []"
      ],
      "execution_count": null,
      "outputs": []
    },
    {
      "cell_type": "code",
      "metadata": {
        "id": "dARL26YSoZDo"
      },
      "source": [
        "for index, row in data.iterrows():\n",
        "    sentences.append(row[\"ORJINAL\"])\n",
        "    y.append([row[\"SORU\"], row[\"PROBLEM\"], row[\"TALEP\"], row[\"ANAHTAR\"], row[\"EMIR\"], row[\"OTHER\"]])"
      ],
      "execution_count": null,
      "outputs": []
    },
    {
      "cell_type": "code",
      "metadata": {
        "id": "geQLwoMcgYZC"
      },
      "source": [
        "sequences = [preprocess(sentence) for sentence in sentences]"
      ],
      "execution_count": null,
      "outputs": []
    },
    {
      "cell_type": "code",
      "metadata": {
        "id": "EIvDF6fcrxW-"
      },
      "source": [
        ""
      ],
      "execution_count": null,
      "outputs": []
    },
    {
      "cell_type": "code",
      "metadata": {
        "id": "p7wTofK0VesF"
      },
      "source": [
        ""
      ],
      "execution_count": null,
      "outputs": []
    },
    {
      "cell_type": "code",
      "metadata": {
        "id": "XW9ARwGqJS5k"
      },
      "source": [
        "words = set()\n",
        "for sentence in sequences:\n",
        "    for word in sentence:\n",
        "        words.add(word)\n",
        "\n",
        "n_words = len(words)"
      ],
      "execution_count": null,
      "outputs": []
    },
    {
      "cell_type": "code",
      "metadata": {
        "id": "9sCQOsKH3Bcc"
      },
      "source": [
        "test_sentences = []\n",
        "test_y = []\n",
        "\n",
        "testdata = pd.read_csv('test_sentiment_general.csv', encoding='utf8', sep=',')\n",
        "\n",
        "for index, row in testdata.iterrows():\n",
        "    test_sentences.append(row[\"ORJINAL\"])\n",
        "    test_y.append([row[\"SORU\"], row[\"PROBLEM\"], row[\"TALEP\"], row[\"ANAHTAR\"], row[\"EMIR\"], row[\"OTHER\"]])"
      ],
      "execution_count": null,
      "outputs": []
    },
    {
      "cell_type": "code",
      "metadata": {
        "id": "Y8FNCtB7xggr"
      },
      "source": [
        "test_seqs = [preprocess(sentence) for sentence in test_sentences]\n"
      ],
      "execution_count": null,
      "outputs": []
    },
    {
      "cell_type": "code",
      "metadata": {
        "id": "Vc0cJMg6tvc9",
        "colab": {
          "base_uri": "https://localhost:8080/",
          "height": 34
        },
        "outputId": "0cc007ed-ffb9-49ea-9948-b7c4bc643ff6"
      },
      "source": [
        "from keras.preprocessing.text import Tokenizer\n",
        "from keras.preprocessing.sequence import pad_sequences\n",
        "from keras.layers import Dense, Input, LSTM, Embedding, Dropout, Activation\n",
        "from keras.layers import Bidirectional, GlobalMaxPool1D, TimeDistributed\n",
        "from keras.models import Model\n",
        "from keras.initializers import Constant\n",
        "from keras import initializers, regularizers, constraints, optimizers, layers"
      ],
      "execution_count": null,
      "outputs": [
        {
          "output_type": "stream",
          "text": [
            "Using TensorFlow backend.\n"
          ],
          "name": "stderr"
        }
      ]
    },
    {
      "cell_type": "code",
      "metadata": {
        "id": "mdbKDaWOuuMb",
        "colab": {
          "base_uri": "https://localhost:8080/",
          "height": 34
        },
        "outputId": "1aa283d1-df6e-4686-f43e-f6dca989c6c1"
      },
      "source": [
        "max([len(s) for s in sequences])"
      ],
      "execution_count": null,
      "outputs": [
        {
          "output_type": "execute_result",
          "data": {
            "text/plain": [
              "47"
            ]
          },
          "metadata": {
            "tags": []
          },
          "execution_count": 109
        }
      ]
    },
    {
      "cell_type": "code",
      "metadata": {
        "id": "tOatna3ZuugK"
      },
      "source": [
        "tok = Tokenizer(n_words+1, lower=True)\n",
        "tok.fit_on_texts(sequences)\n",
        "X_word = tok.texts_to_sequences(sequences)\n",
        "X_word = pad_sequences(X_word, maxlen=MAX_LEN, padding=\"post\")"
      ],
      "execution_count": null,
      "outputs": []
    },
    {
      "cell_type": "code",
      "metadata": {
        "id": "z2Yuza8svgDD"
      },
      "source": [
        "test_sequences = tok.texts_to_sequences(test_seqs)\n",
        "X_test = pad_sequences(test_sequences, MAX_LEN, padding=\"post\")\n",
        "\n",
        "X_test = np.array(X_test)\n",
        "test_y = np.array(test_y)"
      ],
      "execution_count": null,
      "outputs": []
    },
    {
      "cell_type": "code",
      "metadata": {
        "id": "fva_c95vv7TM"
      },
      "source": [
        "MAX_LEN =50"
      ],
      "execution_count": null,
      "outputs": []
    },
    {
      "cell_type": "code",
      "metadata": {
        "id": "UkFLUb_9wAfZ"
      },
      "source": [
        "word_index = tok.word_index\n",
        "embed_size=300\n",
        "embedding_matrix = np.zeros((n_words+1, embed_size))\n",
        "for word, i in word_index.items():\n",
        "    if i >= n_words: continue\n",
        "    embedding_vector = m.get_word_vector(word)\n",
        "    if embedding_vector is not None: embedding_matrix[i] = embedding_vector"
      ],
      "execution_count": null,
      "outputs": []
    },
    {
      "cell_type": "code",
      "metadata": {
        "id": "lIoRIdyMxZcp"
      },
      "source": [
        "X_word = np.array(X_word)\n",
        "y = np.array(y)"
      ],
      "execution_count": null,
      "outputs": []
    },
    {
      "cell_type": "code",
      "metadata": {
        "id": "rALlHlRiwwRS"
      },
      "source": [
        "word_in = Input(shape=(MAX_LEN,))\n",
        "x = Embedding(n_words+1, embed_size, embeddings_initializer=Constant(embedding_matrix), input_length=MAX_LEN, trainable=True)(word_in)\n",
        "x = Bidirectional(LSTM(100, return_sequences=True, dropout=0.1, recurrent_dropout=0.1))(x)\n",
        "x = GlobalMaxPool1D()(x)\n",
        "x = Dense(100, activation=\"relu\")(x)\n",
        "x = Dropout(0.1)(x)\n",
        "x = Dense(6, activation=\"sigmoid\")(x)\n",
        "model = Model(inputs=word_in, outputs=x)\n",
        "model.compile(loss='binary_crossentropy', optimizer='adam', metrics=['accuracy'])"
      ],
      "execution_count": null,
      "outputs": []
    },
    {
      "cell_type": "code",
      "metadata": {
        "id": "I1_LsHzTyCbU",
        "colab": {
          "base_uri": "https://localhost:8080/",
          "height": 245
        },
        "outputId": "b17f0ad4-2469-4fcc-c892-c3bb5c5db580"
      },
      "source": [
        "history = model.fit(X_word, y, batch_size=64, epochs=5, verbose=1)"
      ],
      "execution_count": null,
      "outputs": [
        {
          "output_type": "stream",
          "text": [
            "/usr/local/lib/python3.6/dist-packages/tensorflow/python/framework/indexed_slices.py:434: UserWarning: Converting sparse IndexedSlices to a dense Tensor of unknown shape. This may consume a large amount of memory.\n",
            "  \"Converting sparse IndexedSlices to a dense Tensor of unknown shape. \"\n"
          ],
          "name": "stderr"
        },
        {
          "output_type": "stream",
          "text": [
            "Epoch 1/5\n",
            "5775/5775 [==============================] - 17s 3ms/step - loss: 0.3809 - accuracy: 0.8519\n",
            "Epoch 2/5\n",
            "5775/5775 [==============================] - 16s 3ms/step - loss: 0.1857 - accuracy: 0.9254\n",
            "Epoch 3/5\n",
            "5775/5775 [==============================] - 15s 3ms/step - loss: 0.1081 - accuracy: 0.9603\n",
            "Epoch 4/5\n",
            "5775/5775 [==============================] - 15s 3ms/step - loss: 0.0668 - accuracy: 0.9765\n",
            "Epoch 5/5\n",
            "5775/5775 [==============================] - 16s 3ms/step - loss: 0.0446 - accuracy: 0.9859\n"
          ],
          "name": "stdout"
        }
      ]
    },
    {
      "cell_type": "code",
      "metadata": {
        "id": "n2mEb83_z-x_"
      },
      "source": [
        "examples = [ \n",
        "    \"nerede buluşacaksınız\",\n",
        "    \"devlet\",\n",
        "    \"anahtar\",\n",
        "    \"faturam ne kadar\",\n",
        "    \"toplantıda alınan kararları beğenmedi\",\n",
        "    \"yetkiliyle görüşmek istiyorum\",\n",
        "    \"internetim çalışmıyor\",\n",
        "    \"fırtınalı havada dikkatli olmamızı istedi\",\n",
        "    \"bardağı bana verin\",\n",
        "    \"bardağı bana ver\"\n",
        "]"
      ],
      "execution_count": null,
      "outputs": []
    },
    {
      "cell_type": "code",
      "metadata": {
        "id": "ie8eQolm7Hpf"
      },
      "source": [
        ""
      ],
      "execution_count": null,
      "outputs": []
    },
    {
      "cell_type": "code",
      "metadata": {
        "id": "F8zCbXMi6kgK"
      },
      "source": [
        ""
      ],
      "execution_count": null,
      "outputs": []
    },
    {
      "cell_type": "code",
      "metadata": {
        "id": "ebsKqiBA6k8L",
        "colab": {
          "base_uri": "https://localhost:8080/",
          "height": 799
        },
        "outputId": "942802c1-3270-40d1-a5e9-8d011fd29f06"
      },
      "source": [
        "for ex in examples:\n",
        "    tt = tok.texts_to_sequences([ex])\n",
        "    ptt = pad_sequences(tt, MAX_LEN, padding=\"post\")\n",
        "    pred = model.predict(ptt)\n",
        "    print(ex)\n",
        "    show_pred(pred[0])\n",
        "    print(\"---------------\")\n",
        "    print(\"\\n\")"
      ],
      "execution_count": null,
      "outputs": [
        {
          "output_type": "stream",
          "text": [
            "nerede buluşacaksınız\n",
            "Prediction: SORU (0.997) | ANAHTAR (0.00466) | TALEP (0.000806) | OTHER (0.000581) | PROBLEM (0.000504) | EMIR (7.19e-05)\n",
            "---------------\n",
            "\n",
            "\n",
            "devlet\n",
            "Prediction: ANAHTAR (0.483) | EMIR (0.439) | OTHER (0.31) | TALEP (0.012) | SORU (0.00559) | PROBLEM (0.00455)\n",
            "---------------\n",
            "\n",
            "\n",
            "anahtar\n",
            "Prediction: ANAHTAR (0.483) | EMIR (0.439) | OTHER (0.31) | TALEP (0.012) | SORU (0.00559) | PROBLEM (0.00455)\n",
            "---------------\n",
            "\n",
            "\n",
            "faturam ne kadar\n",
            "Prediction: SORU (0.998) | OTHER (0.00278) | ANAHTAR (0.00149) | PROBLEM (0.000633) | TALEP (8.06e-05) | EMIR (1.09e-05)\n",
            "---------------\n",
            "\n",
            "\n",
            "toplantıda alınan kararları beğenmedi\n",
            "Prediction: ANAHTAR (0.483) | EMIR (0.439) | OTHER (0.31) | TALEP (0.012) | SORU (0.00559) | PROBLEM (0.00455)\n",
            "---------------\n",
            "\n",
            "\n",
            "yetkiliyle görüşmek istiyorum\n",
            "Prediction: TALEP (0.996) | EMIR (0.0137) | PROBLEM (0.0101) | OTHER (0.000973) | SORU (0.000604) | ANAHTAR (7.13e-05)\n",
            "---------------\n",
            "\n",
            "\n",
            "internetim çalışmıyor\n",
            "Prediction: PROBLEM (0.992) | OTHER (0.0138) | EMIR (0.00605) | SORU (0.00415) | TALEP (0.00122) | ANAHTAR (1.66e-05)\n",
            "---------------\n",
            "\n",
            "\n",
            "fırtınalı havada dikkatli olmamızı istedi\n",
            "Prediction: TALEP (0.965) | EMIR (0.0452) | OTHER (0.0143) | PROBLEM (0.00229) | ANAHTAR (0.00126) | SORU (0.000667)\n",
            "---------------\n",
            "\n",
            "\n",
            "bardağı bana ver\n",
            "Prediction: EMIR (0.927) | TALEP (0.0465) | ANAHTAR (0.0291) | PROBLEM (0.0218) | OTHER (0.0141) | SORU (0.0004)\n",
            "---------------\n",
            "\n",
            "\n"
          ],
          "name": "stdout"
        }
      ]
    },
    {
      "cell_type": "code",
      "metadata": {
        "id": "Q5Csk-Rf6qez",
        "colab": {
          "base_uri": "https://localhost:8080/",
          "height": 52
        },
        "outputId": "968253a7-fd7c-4486-dc63-aa2ba55a2dce"
      },
      "source": [
        "results = model.evaluate(X_test, test_y, batch_size=32)\n",
        "results"
      ],
      "execution_count": null,
      "outputs": [
        {
          "output_type": "stream",
          "text": [
            "100/100 [==============================] - 0s 2ms/step\n"
          ],
          "name": "stdout"
        },
        {
          "output_type": "execute_result",
          "data": {
            "text/plain": [
              "[0.3983259654045105, 0.8833333849906921]"
            ]
          },
          "metadata": {
            "tags": []
          },
          "execution_count": 83
        }
      ]
    },
    {
      "cell_type": "code",
      "metadata": {
        "id": "W19BCFAu7HnD"
      },
      "source": [
        ""
      ],
      "execution_count": null,
      "outputs": []
    },
    {
      "cell_type": "code",
      "metadata": {
        "id": "ZniIhvkP8KHu"
      },
      "source": [
        "label_dict = {0: \"SORU\", 1: \"PROBLEM\", 2:\"TALEP\", 3:\"ANAHTAR\", 4:\"EMIR\", 5:\"OTHER\"}\n",
        "\n",
        "def show_pred(pred):\n",
        "    print(\"Prediction: {}\".format(\" | \".join([\"{} ({:.3})\".format(label_dict[s],\n",
        "                                                                pred[s])\n",
        "                                            for s in pred.argsort()[::-1]])))"
      ],
      "execution_count": null,
      "outputs": []
    },
    {
      "cell_type": "code",
      "metadata": {
        "id": "OK3GAGuk9BJm"
      },
      "source": [
        ""
      ],
      "execution_count": null,
      "outputs": []
    },
    {
      "cell_type": "code",
      "metadata": {
        "id": "JB82A27u9IA6"
      },
      "source": [
        ""
      ],
      "execution_count": null,
      "outputs": []
    },
    {
      "cell_type": "code",
      "metadata": {
        "id": "C0uEO0i29RGf"
      },
      "source": [
        ""
      ],
      "execution_count": null,
      "outputs": []
    },
    {
      "cell_type": "code",
      "metadata": {
        "id": "81Ge8TKs1EPU",
        "colab": {
          "base_uri": "https://localhost:8080/",
          "height": 54
        },
        "outputId": "2512279b-18c0-40fd-a471-3e212277d1f2"
      },
      "source": [
        "from keras.preprocessing.text import Tokenizer\n",
        "from keras.preprocessing.sequence import pad_sequences\n",
        "from keras.layers import Dense, Input, LSTM, Embedding, Dropout, Activation\n",
        "from keras.layers import Bidirectional, GlobalMaxPool1D, TimeDistributed\n",
        "from keras.models import Model\n",
        "from keras.initializers import Constant\n",
        "from keras import initializers, regularizers, constraints, optimizers, layers\n",
        "from keras.layers import Conv1D, MaxPooling1D, GlobalMaxPooling1D, GlobalAveragePooling1D, concatenate, BatchNormalization\n",
        "from keras.optimizers import Adam\n",
        "\n",
        "weight_decay = 1e-4\n",
        "num_filters=64\n",
        "\n",
        "word_in = Input(shape=(MAX_LEN,))\n",
        "x = Embedding(n_words+1, embed_size, embeddings_initializer=Constant(embedding_matrix), input_length=MAX_LEN, trainable=True)(word_in)\n",
        "conv = Conv1D(num_filters, 7, activation='relu', padding='same')(x)\n",
        "mp1 = MaxPooling1D(2)(conv)\n",
        "conv1 = Conv1D(num_filters, 7, activation='relu', padding='same')(mp1)\n",
        "mp2 = GlobalMaxPooling1D()(conv1)\n",
        "dp1 = Dropout(0.5)(mp2)\n",
        "dense1  = Dense(32, activation='relu', kernel_regularizer=regularizers.l2(weight_decay))(dp1)\n",
        "dense2 = Dense(6, activation='sigmoid')(dense1)\n",
        "\n",
        "adam = optimizers.Adam(lr=0.001, beta_1=0.9, beta_2=0.999, epsilon=1e-08, decay=0.0)\n",
        "model2 = Model(input=word_in, outputs=dense2)\n",
        "model2.compile(loss='binary_crossentropy', optimizer=adam, metrics=['accuracy'])"
      ],
      "execution_count": null,
      "outputs": [
        {
          "output_type": "stream",
          "text": [
            "/usr/local/lib/python3.6/dist-packages/ipykernel_launcher.py:25: UserWarning: Update your `Model` call to the Keras 2 API: `Model(outputs=Tensor(\"de..., inputs=Tensor(\"in...)`\n"
          ],
          "name": "stderr"
        }
      ]
    },
    {
      "cell_type": "code",
      "metadata": {
        "id": "9UFJi89o1Lgn",
        "colab": {
          "base_uri": "https://localhost:8080/",
          "height": 436
        },
        "outputId": "3f5f374c-65db-4c5b-aca7-d8909a587239"
      },
      "source": [
        "model2.fit(X_word,y, batch_size=32, epochs=10)"
      ],
      "execution_count": null,
      "outputs": [
        {
          "output_type": "stream",
          "text": [
            "/usr/local/lib/python3.6/dist-packages/tensorflow/python/framework/indexed_slices.py:434: UserWarning: Converting sparse IndexedSlices to a dense Tensor of unknown shape. This may consume a large amount of memory.\n",
            "  \"Converting sparse IndexedSlices to a dense Tensor of unknown shape. \"\n"
          ],
          "name": "stderr"
        },
        {
          "output_type": "stream",
          "text": [
            "Epoch 1/10\n",
            "5775/5775 [==============================] - 7s 1ms/step - loss: 0.3592 - accuracy: 0.8575\n",
            "Epoch 2/10\n",
            "5775/5775 [==============================] - 6s 1ms/step - loss: 0.1812 - accuracy: 0.9311\n",
            "Epoch 3/10\n",
            "5775/5775 [==============================] - 6s 1ms/step - loss: 0.1062 - accuracy: 0.9648\n",
            "Epoch 4/10\n",
            "5775/5775 [==============================] - 7s 1ms/step - loss: 0.0674 - accuracy: 0.9786\n",
            "Epoch 5/10\n",
            "5775/5775 [==============================] - 7s 1ms/step - loss: 0.0514 - accuracy: 0.9859\n",
            "Epoch 6/10\n",
            "5775/5775 [==============================] - 7s 1ms/step - loss: 0.0407 - accuracy: 0.9897\n",
            "Epoch 7/10\n",
            "5775/5775 [==============================] - 7s 1ms/step - loss: 0.0346 - accuracy: 0.9911\n",
            "Epoch 8/10\n",
            "5775/5775 [==============================] - 7s 1ms/step - loss: 0.0309 - accuracy: 0.9921\n",
            "Epoch 9/10\n",
            "5775/5775 [==============================] - 7s 1ms/step - loss: 0.0284 - accuracy: 0.9926\n",
            "Epoch 10/10\n",
            "5775/5775 [==============================] - 7s 1ms/step - loss: 0.0254 - accuracy: 0.9927\n"
          ],
          "name": "stdout"
        },
        {
          "output_type": "execute_result",
          "data": {
            "text/plain": [
              "<keras.callbacks.callbacks.History at 0x7f499e17edd8>"
            ]
          },
          "metadata": {
            "tags": []
          },
          "execution_count": 133
        }
      ]
    },
    {
      "cell_type": "code",
      "metadata": {
        "id": "zpliDhXt8DLK",
        "colab": {
          "base_uri": "https://localhost:8080/",
          "height": 52
        },
        "outputId": "822a6b9b-d9b5-44d4-c177-cdacc50ad89a"
      },
      "source": [
        "results = model2.evaluate(X_test, test_y, batch_size=32)\n",
        "results"
      ],
      "execution_count": null,
      "outputs": [
        {
          "output_type": "stream",
          "text": [
            "100/100 [==============================] - 0s 537us/step\n"
          ],
          "name": "stdout"
        },
        {
          "output_type": "execute_result",
          "data": {
            "text/plain": [
              "[0.005102657452225685, 1.0]"
            ]
          },
          "metadata": {
            "tags": []
          },
          "execution_count": 134
        }
      ]
    },
    {
      "cell_type": "code",
      "metadata": {
        "id": "yjeuqgVLLXDV",
        "colab": {
          "base_uri": "https://localhost:8080/",
          "height": 885
        },
        "outputId": "62d0cde4-310d-4fb4-fa3f-1e352437a3e2"
      },
      "source": [
        "for ex in examples:\n",
        "    tt = tok.texts_to_sequences([ex])\n",
        "    ptt = pad_sequences(tt, MAX_LEN, padding=\"post\")\n",
        "    pred = model2.predict(ptt)\n",
        "    print(ex)\n",
        "    show_pred(pred[0])\n",
        "    print(\"---------------\")\n",
        "    print(\"\\n\")"
      ],
      "execution_count": null,
      "outputs": [
        {
          "output_type": "stream",
          "text": [
            "nerede buluşacaksınız\n",
            "Prediction: SORU (1.0) | ANAHTAR (0.000775) | TALEP (0.000115) | PROBLEM (0.0001) | OTHER (6.08e-06) | EMIR (1.17e-06)\n",
            "---------------\n",
            "\n",
            "\n",
            "devlet\n",
            "Prediction: ANAHTAR (0.981) | OTHER (0.0318) | PROBLEM (0.00367) | EMIR (0.00227) | SORU (0.0017) | TALEP (0.000177)\n",
            "---------------\n",
            "\n",
            "\n",
            "anahtar\n",
            "Prediction: ANAHTAR (0.939) | OTHER (0.0922) | PROBLEM (0.029) | EMIR (0.0258) | SORU (0.00903) | TALEP (0.00606)\n",
            "---------------\n",
            "\n",
            "\n",
            "faturam ne kadar\n",
            "Prediction: SORU (1.0) | ANAHTAR (0.000114) | PROBLEM (3.06e-05) | TALEP (1.77e-05) | OTHER (6.91e-07) | EMIR (1.8e-07)\n",
            "---------------\n",
            "\n",
            "\n",
            "toplantıda alınan kararları beğenmedi\n",
            "Prediction: PROBLEM (1.0) | SORU (8.99e-06) | OTHER (8.37e-07) | ANAHTAR (3.26e-07) | TALEP (2.45e-07) | EMIR (1.79e-08)\n",
            "---------------\n",
            "\n",
            "\n",
            "yetkiliyle görüşmek istiyorum\n",
            "Prediction: TALEP (0.999) | OTHER (0.0031) | SORU (0.000494) | PROBLEM (0.000265) | EMIR (0.000121) | ANAHTAR (5.01e-08)\n",
            "---------------\n",
            "\n",
            "\n",
            "internetim çalışmıyor\n",
            "Prediction: PROBLEM (0.989) | ANAHTAR (0.0494) | SORU (0.00973) | OTHER (0.00495) | TALEP (0.00207) | EMIR (0.00131)\n",
            "---------------\n",
            "\n",
            "\n",
            "fırtınalı havada dikkatli olmamızı istedi\n",
            "Prediction: TALEP (1.0) | OTHER (0.000115) | SORU (5.56e-05) | PROBLEM (5.26e-06) | EMIR (2.11e-06) | ANAHTAR (1.28e-11)\n",
            "---------------\n",
            "\n",
            "\n",
            "bardağı bana verin\n",
            "Prediction: EMIR (1.0) | ANAHTAR (4.83e-05) | TALEP (4.24e-05) | SORU (3.33e-05) | OTHER (2.67e-05) | PROBLEM (3.71e-09)\n",
            "---------------\n",
            "\n",
            "\n",
            "bardağı bana ver\n",
            "Prediction: EMIR (1.0) | SORU (2.61e-06) | TALEP (2.55e-06) | OTHER (7.73e-07) | ANAHTAR (3.23e-07) | PROBLEM (5.19e-12)\n",
            "---------------\n",
            "\n",
            "\n"
          ],
          "name": "stdout"
        }
      ]
    },
    {
      "cell_type": "code",
      "metadata": {
        "id": "xpaC0t9667fC"
      },
      "source": [
        ""
      ],
      "execution_count": null,
      "outputs": []
    },
    {
      "cell_type": "code",
      "metadata": {
        "id": "g43lxLQq675l"
      },
      "source": [
        "model2.save(\"structured_model.hd5\")\n",
        "\n",
        "import json, codecs\n",
        "\n",
        "tokenizer_json = tok.to_json()\n",
        "with codecs.open('structured_tokenizer.json', 'w', encoding='utf-8') as f:\n",
        "    f.write(json.dumps(tokenizer_json, ensure_ascii=False))"
      ],
      "execution_count": null,
      "outputs": []
    },
    {
      "cell_type": "code",
      "metadata": {
        "id": "prnw7TZR_J32"
      },
      "source": [
        ""
      ],
      "execution_count": null,
      "outputs": []
    },
    {
      "cell_type": "code",
      "metadata": {
        "id": "HPMH7GWtnYPe"
      },
      "source": [
        "preds = model2.predict(X_test)"
      ],
      "execution_count": null,
      "outputs": []
    },
    {
      "cell_type": "code",
      "metadata": {
        "id": "mbqsULh0c1Qa",
        "colab": {
          "base_uri": "https://localhost:8080/",
          "height": 1000
        },
        "outputId": "c04f1894-de2c-443c-adeb-338b9cb533c9"
      },
      "source": [
        "for i in range(100):\n",
        "  print(test_sentences[i], \"\\n\")\n",
        "  show_pred(preds[i])\n",
        "  print(\"\\n-------------   \\n\")"
      ],
      "execution_count": null,
      "outputs": [
        {
          "output_type": "stream",
          "text": [
            "Sana müthiş bir haberim var \n",
            "\n",
            "Prediction: OTHER (0.669) | PROBLEM (0.397) | ANAHTAR (0.0275) | SORU (0.00509) | TALEP (0.00119) | EMIR (0.00109)\n",
            "\n",
            "-------------   \n",
            "\n",
            "Sana git dedim \n",
            "\n",
            "Prediction: EMIR (1.0) | PROBLEM (0.0137) | OTHER (0.000264) | ANAHTAR (6.18e-05) | TALEP (1.6e-05) | SORU (8.15e-07)\n",
            "\n",
            "-------------   \n",
            "\n",
            "Sakın bir daha böyle düşünme \n",
            "\n",
            "Prediction: EMIR (0.995) | OTHER (0.00711) | PROBLEM (0.00194) | TALEP (0.0017) | ANAHTAR (0.00024) | SORU (6.33e-05)\n",
            "\n",
            "-------------   \n",
            "\n",
            "Görev süresinin uzatılmasını istedi \n",
            "\n",
            "Prediction: TALEP (0.981) | PROBLEM (0.0296) | OTHER (0.00487) | SORU (0.00178) | EMIR (0.000382) | ANAHTAR (4.33e-07)\n",
            "\n",
            "-------------   \n",
            "\n",
            "Bu da neyin nesi \n",
            "\n",
            "Prediction: SORU (1.0) | ANAHTAR (0.000189) | PROBLEM (0.000121) | TALEP (9.28e-06) | OTHER (5e-07) | EMIR (8.23e-08)\n",
            "\n",
            "-------------   \n",
            "\n",
            "Ne istiyorsunuz \n",
            "\n",
            "Prediction: SORU (1.0) | ANAHTAR (0.000537) | OTHER (0.000176) | PROBLEM (4.34e-05) | TALEP (2.59e-05) | EMIR (4.48e-06)\n",
            "\n",
            "-------------   \n",
            "\n",
            "Allah günah yazmasın \n",
            "\n",
            "Prediction: EMIR (1.0) | PROBLEM (0.000481) | ANAHTAR (0.00018) | OTHER (0.000119) | TALEP (1.27e-05) | SORU (1.89e-06)\n",
            "\n",
            "-------------   \n",
            "\n",
            "Akıllı telefonların çocuklara erken yaşta verilmesini doğru bulmuyorum \n",
            "\n",
            "Prediction: PROBLEM (0.999) | TALEP (0.147) | SORU (0.00294) | EMIR (0.000676) | OTHER (0.000382) | ANAHTAR (2.56e-05)\n",
            "\n",
            "-------------   \n",
            "\n",
            "Herkes yarın erken gelsin \n",
            "\n",
            "Prediction: EMIR (1.0) | PROBLEM (0.00025) | OTHER (0.000127) | ANAHTAR (3.59e-05) | TALEP (1.01e-05) | SORU (7.79e-07)\n",
            "\n",
            "-------------   \n",
            "\n",
            "Bu otomobilde uçak motorlarına benzer bir motor tasarımı kullanılmış \n",
            "\n",
            "Prediction: OTHER (0.998) | TALEP (0.000899) | ANAHTAR (0.000499) | SORU (0.000215) | PROBLEM (0.000196) | EMIR (0.000177)\n",
            "\n",
            "-------------   \n",
            "\n",
            "sosyoloji \n",
            "\n",
            "Prediction: ANAHTAR (0.881) | OTHER (0.118) | EMIR (0.0833) | PROBLEM (0.0682) | SORU (0.0175) | TALEP (0.00155)\n",
            "\n",
            "-------------   \n",
            "\n",
            "Yüzleri kirli kıyafetleri eski olabilirdi \n",
            "\n",
            "Prediction: OTHER (0.91) | ANAHTAR (0.334) | PROBLEM (0.00034) | SORU (0.000109) | EMIR (4.39e-05) | TALEP (9.2e-07)\n",
            "\n",
            "-------------   \n",
            "\n",
            "Bu akşam bize gelecek misin \n",
            "\n",
            "Prediction: SORU (0.978) | ANAHTAR (0.158) | EMIR (0.00512) | PROBLEM (0.00312) | OTHER (0.00235) | TALEP (0.000108)\n",
            "\n",
            "-------------   \n",
            "\n",
            "Mercedes kiralamanı bekliyorum \n",
            "\n",
            "Prediction: OTHER (0.996) | TALEP (0.00452) | EMIR (0.000639) | SORU (0.000248) | ANAHTAR (0.000215) | PROBLEM (0.00012)\n",
            "\n",
            "-------------   \n",
            "\n",
            "yaş \n",
            "\n",
            "Prediction: ANAHTAR (0.975) | OTHER (0.0115) | SORU (0.00654) | PROBLEM (0.000286) | EMIR (0.000193) | TALEP (1.07e-07)\n",
            "\n",
            "-------------   \n",
            "\n",
            "Alışveriş merkezine gider \n",
            "\n",
            "Prediction: ANAHTAR (0.953) | OTHER (0.0995) | SORU (0.00402) | PROBLEM (0.00101) | EMIR (0.000854) | TALEP (1.74e-06)\n",
            "\n",
            "-------------   \n",
            "\n",
            "Bu seneki bilgi yarışmasında birinci olduğunuz doğru mu \n",
            "\n",
            "Prediction: SORU (1.0) | TALEP (0.00061) | PROBLEM (0.000162) | ANAHTAR (0.00012) | OTHER (1.49e-05) | EMIR (2.76e-07)\n",
            "\n",
            "-------------   \n",
            "\n",
            "Kahveyi yaparken sütü geçenkinden biraz daha fazla koyabilir misin \n",
            "\n",
            "Prediction: SORU (0.941) | ANAHTAR (0.0447) | OTHER (0.0163) | EMIR (0.00687) | PROBLEM (0.00254) | TALEP (0.00103)\n",
            "\n",
            "-------------   \n",
            "\n",
            "Suriye ateşkes talep etti \n",
            "\n",
            "Prediction: TALEP (0.986) | OTHER (0.0355) | SORU (0.00075) | EMIR (0.000374) | PROBLEM (5.56e-05) | ANAHTAR (3.34e-08)\n",
            "\n",
            "-------------   \n",
            "\n",
            "Sağlık problemlerimin üstesinden gelemiyorum \n",
            "\n",
            "Prediction: PROBLEM (1.0) | SORU (0.000122) | TALEP (1.49e-05) | EMIR (6.81e-07) | ANAHTAR (7.43e-08) | OTHER (4.29e-08)\n",
            "\n",
            "-------------   \n",
            "\n",
            "Bakkala gidip iki yumurta iki ekmek alsın mı \n",
            "\n",
            "Prediction: SORU (0.999) | ANAHTAR (0.0273) | EMIR (0.000207) | OTHER (0.000175) | PROBLEM (0.000109) | TALEP (8.46e-06)\n",
            "\n",
            "-------------   \n",
            "\n",
            "Zayıflama konusunda diyet yapmak da düzenli spor yapmak kadar önemlidir \n",
            "\n",
            "Prediction: PROBLEM (0.861) | OTHER (0.113) | SORU (0.0399) | TALEP (0.00808) | ANAHTAR (0.0046) | EMIR (0.000469)\n",
            "\n",
            "-------------   \n",
            "\n",
            "Yeni oyuncağını öncekinden fazla seviyormuş \n",
            "\n",
            "Prediction: ANAHTAR (0.561) | EMIR (0.174) | OTHER (0.169) | PROBLEM (0.0444) | SORU (0.00114) | TALEP (0.000657)\n",
            "\n",
            "-------------   \n",
            "\n",
            "Teknolojik gelişmeler sayesinde insanların yaşam kalitesi arttı \n",
            "\n",
            "Prediction: OTHER (1.0) | ANAHTAR (3.08e-06) | SORU (2.63e-06) | PROBLEM (8.8e-07) | TALEP (5.27e-07) | EMIR (5.61e-08)\n",
            "\n",
            "-------------   \n",
            "\n",
            "Ahmet hoca bazı websitelerinden data toplamamı talep etti \n",
            "\n",
            "Prediction: TALEP (1.0) | SORU (3.69e-05) | OTHER (1.13e-05) | PROBLEM (3.72e-07) | EMIR (1.42e-07) | ANAHTAR (3.43e-13)\n",
            "\n",
            "-------------   \n",
            "\n",
            "Kardeşin kaç yaşında \n",
            "\n",
            "Prediction: SORU (1.0) | ANAHTAR (0.000249) | PROBLEM (4.8e-06) | TALEP (1.51e-06) | OTHER (3.38e-07) | EMIR (1.84e-07)\n",
            "\n",
            "-------------   \n",
            "\n",
            "Bu ürünler zamlanmış mı \n",
            "\n",
            "Prediction: SORU (0.997) | ANAHTAR (0.0836) | PROBLEM (0.00155) | EMIR (0.00116) | TALEP (0.000178) | OTHER (0.000142)\n",
            "\n",
            "-------------   \n",
            "\n",
            "Bağlama Anadolu’da en çok rağbet gören çalgıdır \n",
            "\n",
            "Prediction: OTHER (0.999) | ANAHTAR (0.000286) | TALEP (0.000103) | PROBLEM (8.67e-05) | SORU (8.52e-05) | EMIR (3.82e-05)\n",
            "\n",
            "-------------   \n",
            "\n",
            "İtalya’da da korona virüsüne rastlandı \n",
            "\n",
            "Prediction: OTHER (0.872) | ANAHTAR (0.114) | EMIR (0.02) | PROBLEM (0.00714) | SORU (0.00217) | TALEP (0.000502)\n",
            "\n",
            "-------------   \n",
            "\n",
            "akıl \n",
            "\n",
            "Prediction: ANAHTAR (0.881) | OTHER (0.118) | EMIR (0.0833) | PROBLEM (0.0682) | SORU (0.0175) | TALEP (0.00155)\n",
            "\n",
            "-------------   \n",
            "\n",
            "Bardağı bana ver \n",
            "\n",
            "Prediction: EMIR (1.0) | PROBLEM (1.16e-05) | ANAHTAR (1.02e-06) | TALEP (9.7e-07) | OTHER (8.98e-07) | SORU (4.84e-08)\n",
            "\n",
            "-------------   \n",
            "\n",
            "Beni duyuyor musun \n",
            "\n",
            "Prediction: ANAHTAR (0.27) | OTHER (0.148) | EMIR (0.116) | SORU (0.0993) | PROBLEM (0.00586) | TALEP (0.00496)\n",
            "\n",
            "-------------   \n",
            "\n",
            "Türkiye'de sekiz ay kalacağım \n",
            "\n",
            "Prediction: OTHER (1.0) | ANAHTAR (3.31e-05) | SORU (3.84e-06) | PROBLEM (1.4e-06) | TALEP (3.08e-08) | EMIR (8.84e-09)\n",
            "\n",
            "-------------   \n",
            "\n",
            "Kendini tanımayan insanları tanıyamaz \n",
            "\n",
            "Prediction: OTHER (0.994) | ANAHTAR (0.00917) | PROBLEM (0.00109) | EMIR (0.000209) | SORU (0.00014) | TALEP (0.000133)\n",
            "\n",
            "-------------   \n",
            "\n",
            "Kaç ekmek alayım \n",
            "\n",
            "Prediction: SORU (1.0) | OTHER (5.18e-05) | ANAHTAR (3.49e-05) | TALEP (3.66e-06) | PROBLEM (1.17e-06) | EMIR (1.45e-07)\n",
            "\n",
            "-------------   \n",
            "\n",
            "Yüzmeyi sevmem \n",
            "\n",
            "Prediction: OTHER (0.828) | ANAHTAR (0.315) | PROBLEM (0.00351) | SORU (0.00165) | EMIR (0.00136) | TALEP (0.000144)\n",
            "\n",
            "-------------   \n",
            "\n",
            "Kızılcıklar oldu mu \n",
            "\n",
            "Prediction: SORU (1.0) | ANAHTAR (0.00151) | PROBLEM (0.000101) | TALEP (1.67e-05) | OTHER (4.41e-06) | EMIR (3.11e-06)\n",
            "\n",
            "-------------   \n",
            "\n",
            "Treni yakaladın mı \n",
            "\n",
            "Prediction: SORU (0.994) | ANAHTAR (0.135) | PROBLEM (0.00165) | EMIR (0.00132) | OTHER (0.000209) | TALEP (0.000137)\n",
            "\n",
            "-------------   \n",
            "\n",
            "Korona virüsü dünyaya hızla yayılıyor \n",
            "\n",
            "Prediction: ANAHTAR (0.881) | OTHER (0.118) | EMIR (0.0833) | PROBLEM (0.0682) | SORU (0.0175) | TALEP (0.00155)\n",
            "\n",
            "-------------   \n",
            "\n",
            "Bugün oraya gitmemelisin \n",
            "\n",
            "Prediction: PROBLEM (1.0) | SORU (0.00041) | TALEP (0.000243) | OTHER (0.000154) | EMIR (0.000107) | ANAHTAR (4.71e-05)\n",
            "\n",
            "-------------   \n",
            "\n",
            "bölüm \n",
            "\n",
            "Prediction: ANAHTAR (0.881) | OTHER (0.118) | EMIR (0.0833) | PROBLEM (0.0682) | SORU (0.0175) | TALEP (0.00155)\n",
            "\n",
            "-------------   \n",
            "\n",
            "Sanatla uğraşmak insana huzur verebilir \n",
            "\n",
            "Prediction: OTHER (1.0) | ANAHTAR (8.32e-07) | PROBLEM (2.82e-07) | SORU (7.01e-08) | TALEP (4.67e-08) | EMIR (9.31e-09)\n",
            "\n",
            "-------------   \n",
            "\n",
            "Benden fotoğraflarını vermemi istedi \n",
            "\n",
            "Prediction: TALEP (0.983) | OTHER (0.0417) | SORU (0.000389) | EMIR (0.000231) | PROBLEM (0.000104) | ANAHTAR (1.8e-08)\n",
            "\n",
            "-------------   \n",
            "\n",
            "Ortak yapabileceğimiz bir şey yok \n",
            "\n",
            "Prediction: OTHER (0.498) | PROBLEM (0.229) | TALEP (0.192) | EMIR (0.0639) | SORU (0.00737) | ANAHTAR (0.00518)\n",
            "\n",
            "-------------   \n",
            "\n",
            "Tantuni ne kadar \n",
            "\n",
            "Prediction: SORU (1.0) | ANAHTAR (4.15e-05) | PROBLEM (4.26e-06) | OTHER (3.23e-06) | TALEP (2.29e-06) | EMIR (4.11e-08)\n",
            "\n",
            "-------------   \n",
            "\n",
            "Maç saat kaçta \n",
            "\n",
            "Prediction: SORU (1.0) | ANAHTAR (7.22e-05) | OTHER (1.96e-06) | PROBLEM (1.27e-06) | TALEP (1.12e-07) | EMIR (5.23e-08)\n",
            "\n",
            "-------------   \n",
            "\n",
            "Tatlandırıcıların şekerden daha fazla zararlı olduğu söyleniyor \n",
            "\n",
            "Prediction: OTHER (0.964) | PROBLEM (0.0684) | ANAHTAR (0.00262) | EMIR (0.000287) | TALEP (0.00019) | SORU (7.12e-05)\n",
            "\n",
            "-------------   \n",
            "\n",
            "Metin Bey her gün saat yedi buçukta kalkıyor \n",
            "\n",
            "Prediction: OTHER (1.0) | ANAHTAR (0.000118) | SORU (8.72e-05) | PROBLEM (5.83e-05) | TALEP (1.43e-05) | EMIR (2.57e-06)\n",
            "\n",
            "-------------   \n",
            "\n",
            "Bu hafta vizyona giren filmlere baktın mı \n",
            "\n",
            "Prediction: SORU (0.998) | ANAHTAR (0.0237) | PROBLEM (0.000565) | OTHER (0.000384) | EMIR (0.000325) | TALEP (6.92e-05)\n",
            "\n",
            "-------------   \n",
            "\n",
            "Allah sana uyuz versin de tırnak vermesin \n",
            "\n",
            "Prediction: EMIR (0.884) | OTHER (0.0285) | ANAHTAR (0.0275) | PROBLEM (0.00799) | SORU (0.000368) | TALEP (8.88e-05)\n",
            "\n",
            "-------------   \n",
            "\n",
            "Okuldan sonra televizyon izliyor \n",
            "\n",
            "Prediction: OTHER (1.0) | ANAHTAR (7.23e-05) | PROBLEM (1.84e-05) | SORU (1.48e-05) | TALEP (1.85e-06) | EMIR (3.19e-07)\n",
            "\n",
            "-------------   \n",
            "\n",
            "Her şeyi zamana bırakmış bekliyordu \n",
            "\n",
            "Prediction: OTHER (1.0) | SORU (0.00017) | ANAHTAR (0.000123) | PROBLEM (1.31e-05) | TALEP (2.45e-06) | EMIR (7.7e-07)\n",
            "\n",
            "-------------   \n",
            "\n",
            "Ben ne yapayım şimdi \n",
            "\n",
            "Prediction: SORU (0.986) | TALEP (0.064) | OTHER (0.0111) | PROBLEM (0.00978) | ANAHTAR (0.000793) | EMIR (4.47e-05)\n",
            "\n",
            "-------------   \n",
            "\n",
            "Bugün neden okula gelmedin \n",
            "\n",
            "Prediction: SORU (1.0) | PROBLEM (0.688) | ANAHTAR (0.00114) | TALEP (0.000222) | OTHER (9.09e-06) | EMIR (1.47e-06)\n",
            "\n",
            "-------------   \n",
            "\n",
            "Gitar çalıyorsun \n",
            "\n",
            "Prediction: OTHER (1.0) | ANAHTAR (2.38e-05) | SORU (5.97e-06) | PROBLEM (4.98e-06) | TALEP (4.46e-06) | EMIR (4.11e-07)\n",
            "\n",
            "-------------   \n",
            "\n",
            "Arkadaşlarının onu takip etmesini istedi \n",
            "\n",
            "Prediction: TALEP (0.999) | OTHER (0.000553) | SORU (0.000487) | PROBLEM (0.000441) | EMIR (5.44e-05) | ANAHTAR (4.05e-09)\n",
            "\n",
            "-------------   \n",
            "\n",
            "Bugüne kadar gördüğüm en güzel rüyaydı \n",
            "\n",
            "Prediction: OTHER (1.0) | TALEP (0.000147) | SORU (8.17e-05) | ANAHTAR (2e-05) | PROBLEM (1.81e-05) | EMIR (4.48e-06)\n",
            "\n",
            "-------------   \n",
            "\n",
            "şöminenin önünde televizyon seyrediyorduk \n",
            "\n",
            "Prediction: ANAHTAR (0.936) | OTHER (0.178) | PROBLEM (0.0112) | EMIR (0.00266) | SORU (0.00105) | TALEP (9.97e-06)\n",
            "\n",
            "-------------   \n",
            "\n",
            "Ne olur beni bağışla \n",
            "\n",
            "Prediction: EMIR (0.998) | OTHER (0.00153) | TALEP (0.000408) | PROBLEM (0.000381) | SORU (0.000252) | ANAHTAR (0.000235)\n",
            "\n",
            "-------------   \n",
            "\n",
            "ayak \n",
            "\n",
            "Prediction: ANAHTAR (0.881) | OTHER (0.118) | EMIR (0.0833) | PROBLEM (0.0682) | SORU (0.0175) | TALEP (0.00155)\n",
            "\n",
            "-------------   \n",
            "\n",
            "Hemen şu yemekten tadın \n",
            "\n",
            "Prediction: EMIR (1.0) | PROBLEM (0.000547) | ANAHTAR (0.00015) | OTHER (8.7e-05) | TALEP (6.09e-06) | SORU (1.15e-06)\n",
            "\n",
            "-------------   \n",
            "\n",
            "Nerede buluşacaksınız \n",
            "\n",
            "Prediction: SORU (1.0) | ANAHTAR (0.000191) | PROBLEM (1.96e-05) | TALEP (1.15e-05) | OTHER (1.81e-06) | EMIR (2.11e-07)\n",
            "\n",
            "-------------   \n",
            "\n",
            "devlet \n",
            "\n",
            "Prediction: ANAHTAR (0.993) | OTHER (0.00433) | SORU (0.00123) | PROBLEM (0.000299) | EMIR (0.000254) | TALEP (2.65e-08)\n",
            "\n",
            "-------------   \n",
            "\n",
            "Aynadaki çizgili yüz benim mi \n",
            "\n",
            "Prediction: SORU (0.998) | ANAHTAR (0.0204) | PROBLEM (0.000407) | OTHER (0.00027) | EMIR (8.04e-05) | TALEP (3.27e-05)\n",
            "\n",
            "-------------   \n",
            "\n",
            "arka \n",
            "\n",
            "Prediction: ANAHTAR (0.991) | OTHER (0.0184) | EMIR (0.00149) | SORU (0.00125) | PROBLEM (0.00102) | TALEP (3.96e-07)\n",
            "\n",
            "-------------   \n",
            "\n",
            "Atatürk kaç yılında ölmüştür \n",
            "\n",
            "Prediction: SORU (1.0) | ANAHTAR (0.000811) | PROBLEM (2.93e-05) | TALEP (7.9e-06) | OTHER (2.22e-06) | EMIR (1.28e-06)\n",
            "\n",
            "-------------   \n",
            "\n",
            "Telefonunu bana vermeni istiyorum \n",
            "\n",
            "Prediction: TALEP (1.0) | SORU (0.000274) | OTHER (6.33e-06) | EMIR (3.37e-06) | PROBLEM (1.4e-06) | ANAHTAR (1.76e-11)\n",
            "\n",
            "-------------   \n",
            "\n",
            "saat \n",
            "\n",
            "Prediction: ANAHTAR (0.981) | OTHER (0.0313) | PROBLEM (0.00686) | EMIR (0.0063) | SORU (0.00163) | TALEP (5.24e-06)\n",
            "\n",
            "-------------   \n",
            "\n",
            "Diyet yapmak istemiyorum \n",
            "\n",
            "Prediction: PROBLEM (0.999) | TALEP (0.00613) | SORU (0.00236) | OTHER (0.00131) | EMIR (0.00102) | ANAHTAR (0.000418)\n",
            "\n",
            "-------------   \n",
            "\n",
            "Yaz aylarında Maraş’ta hava, Adana’ya göre serin olur \n",
            "\n",
            "Prediction: OTHER (0.991) | SORU (0.0196) | ANAHTAR (0.00753) | PROBLEM (0.000536) | EMIR (0.000241) | TALEP (2.99e-05)\n",
            "\n",
            "-------------   \n",
            "\n",
            "Yoklama almada başarısız oldu \n",
            "\n",
            "Prediction: PROBLEM (0.934) | OTHER (0.0539) | ANAHTAR (0.0315) | SORU (0.00956) | TALEP (0.000205) | EMIR (0.000188)\n",
            "\n",
            "-------------   \n",
            "\n",
            "Abin hangi bölümde okuyor \n",
            "\n",
            "Prediction: SORU (1.0) | ANAHTAR (0.00194) | PROBLEM (4.9e-05) | OTHER (1.03e-05) | TALEP (7.05e-06) | EMIR (3.26e-06)\n",
            "\n",
            "-------------   \n",
            "\n",
            "Yıllar geçti hala kötü alışkanlıklarına devam ediyorsun \n",
            "\n",
            "Prediction: PROBLEM (1.0) | OTHER (0.000266) | EMIR (0.000115) | ANAHTAR (6.26e-05) | SORU (3.1e-05) | TALEP (2.8e-06)\n",
            "\n",
            "-------------   \n",
            "\n",
            "Yayvan bir tencereye biftekleri dizin \n",
            "\n",
            "Prediction: ANAHTAR (0.797) | OTHER (0.184) | EMIR (0.11) | PROBLEM (0.0648) | SORU (0.0086) | TALEP (0.00208)\n",
            "\n",
            "-------------   \n",
            "\n",
            "Siteye bağlanamadı \n",
            "\n",
            "Prediction: PROBLEM (1.0) | SORU (0.00069) | TALEP (0.000247) | OTHER (7.42e-05) | EMIR (6.07e-05) | ANAHTAR (3.1e-05)\n",
            "\n",
            "-------------   \n",
            "\n",
            "Mantıklı davran \n",
            "\n",
            "Prediction: ANAHTAR (0.875) | OTHER (0.189) | EMIR (0.0347) | PROBLEM (0.0191) | SORU (0.00974) | TALEP (0.000476)\n",
            "\n",
            "-------------   \n",
            "\n",
            "Sonra derin bir keder her yeri kapladı \n",
            "\n",
            "Prediction: OTHER (0.994) | PROBLEM (0.00671) | TALEP (0.000391) | ANAHTAR (0.000312) | EMIR (0.000167) | SORU (1.48e-05)\n",
            "\n",
            "-------------   \n",
            "\n",
            "Eve git \n",
            "\n",
            "Prediction: EMIR (0.998) | PROBLEM (0.00243) | OTHER (0.0017) | TALEP (0.000269) | ANAHTAR (3.69e-05) | SORU (3.34e-06)\n",
            "\n",
            "-------------   \n",
            "\n",
            "ajanda \n",
            "\n",
            "Prediction: ANAHTAR (0.881) | OTHER (0.118) | EMIR (0.0833) | PROBLEM (0.0682) | SORU (0.0175) | TALEP (0.00155)\n",
            "\n",
            "-------------   \n",
            "\n",
            "Fırtınalı havada dikkatli olmamızı istedi \n",
            "\n",
            "Prediction: TALEP (0.991) | OTHER (0.0139) | SORU (0.00156) | EMIR (0.000724) | PROBLEM (0.000274) | ANAHTAR (1.21e-07)\n",
            "\n",
            "-------------   \n",
            "\n",
            "Hangi okuldan mezun oldun \n",
            "\n",
            "Prediction: SORU (1.0) | OTHER (4.48e-05) | ANAHTAR (2.94e-06) | PROBLEM (1.49e-06) | TALEP (1.25e-06) | EMIR (3.89e-09)\n",
            "\n",
            "-------------   \n",
            "\n",
            "Kiminle konuşuyorsun \n",
            "\n",
            "Prediction: SORU (1.0) | ANAHTAR (0.000361) | PROBLEM (4.55e-05) | TALEP (3.03e-05) | OTHER (4.25e-06) | EMIR (6.56e-07)\n",
            "\n",
            "-------------   \n",
            "\n",
            "Sanırım seni cesaretlendirmek istedi \n",
            "\n",
            "Prediction: TALEP (0.984) | OTHER (0.0148) | PROBLEM (0.00119) | SORU (6.29e-05) | EMIR (1.47e-05) | ANAHTAR (1.07e-09)\n",
            "\n",
            "-------------   \n",
            "\n",
            "Kitap okumayı sevmiyorum \n",
            "\n",
            "Prediction: OTHER (0.927) | PROBLEM (0.0781) | TALEP (0.00125) | ANAHTAR (0.00105) | EMIR (0.000436) | SORU (5.17e-05)\n",
            "\n",
            "-------------   \n",
            "\n",
            "Okula nasıl gittin \n",
            "\n",
            "Prediction: SORU (0.995) | ANAHTAR (0.00672) | PROBLEM (0.000352) | OTHER (0.000306) | TALEP (7.3e-07) | EMIR (5.23e-07)\n",
            "\n",
            "-------------   \n",
            "\n",
            "Arkadaşının adı ne \n",
            "\n",
            "Prediction: SORU (1.0) | ANAHTAR (0.00136) | PROBLEM (6.24e-05) | OTHER (2.38e-05) | TALEP (9.3e-06) | EMIR (4.7e-06)\n",
            "\n",
            "-------------   \n",
            "\n",
            "Akşam bize misafirliğe gelir misiniz \n",
            "\n",
            "Prediction: SORU (0.896) | ANAHTAR (0.0961) | OTHER (0.024) | PROBLEM (0.00597) | EMIR (0.00303) | TALEP (0.000818)\n",
            "\n",
            "-------------   \n",
            "\n",
            "Bir sonraki derste sonuçlar açıklandı \n",
            "\n",
            "Prediction: OTHER (0.949) | ANAHTAR (0.0298) | TALEP (0.00932) | EMIR (0.0079) | PROBLEM (0.00515) | SORU (0.00254)\n",
            "\n",
            "-------------   \n",
            "\n",
            "Bugüne kadar kaç kitap okudun \n",
            "\n",
            "Prediction: SORU (1.0) | ANAHTAR (3.12e-06) | PROBLEM (9.5e-08) | TALEP (8.98e-08) | OTHER (4.48e-08) | EMIR (3.71e-10)\n",
            "\n",
            "-------------   \n",
            "\n",
            "Babanın mesleği ne \n",
            "\n",
            "Prediction: SORU (1.0) | ANAHTAR (0.0048) | PROBLEM (0.00024) | TALEP (4.71e-05) | OTHER (4.49e-05) | EMIR (3.58e-05)\n",
            "\n",
            "-------------   \n",
            "\n",
            "Aşağı yukarı aynı kilodayız seninle \n",
            "\n",
            "Prediction: PROBLEM (0.43) | ANAHTAR (0.239) | OTHER (0.144) | EMIR (0.14) | TALEP (0.00458) | SORU (0.0038)\n",
            "\n",
            "-------------   \n",
            "\n",
            "Ablan ben gelene kadar bulaşıkları yıkasın \n",
            "\n",
            "Prediction: OTHER (0.972) | SORU (0.0682) | ANAHTAR (0.00116) | PROBLEM (7.99e-05) | TALEP (1.81e-05) | EMIR (5.5e-06)\n",
            "\n",
            "-------------   \n",
            "\n",
            "Toplantıda alınan kararları beğenmedi \n",
            "\n",
            "Prediction: PROBLEM (1.0) | SORU (0.000208) | TALEP (3.27e-05) | EMIR (1.5e-06) | ANAHTAR (2.15e-07) | OTHER (1.17e-07)\n",
            "\n",
            "-------------   \n",
            "\n",
            "tür \n",
            "\n",
            "Prediction: ANAHTAR (0.993) | OTHER (0.0101) | EMIR (0.00134) | SORU (0.000932) | PROBLEM (0.000817) | TALEP (1.96e-07)\n",
            "\n",
            "-------------   \n",
            "\n",
            "Ahmet, Hasan’dan farklı olarak sınava ek ders alarak hazırlandı fakat Hasan’dan daha düşük not aldı \n",
            "\n",
            "Prediction: OTHER (0.995) | PROBLEM (0.00135) | ANAHTAR (0.000951) | SORU (0.000919) | TALEP (0.000292) | EMIR (7.29e-05)\n",
            "\n",
            "-------------   \n",
            "\n",
            "Cumhurbaşkanı Azerbaycan’ı ziyaret etti \n",
            "\n",
            "Prediction: OTHER (1.0) | TALEP (0.000191) | ANAHTAR (6.02e-05) | SORU (5.28e-05) | PROBLEM (4.86e-05) | EMIR (1.56e-05)\n",
            "\n",
            "-------------   \n",
            "\n",
            "Ayşe, Nihal’den farklı olarak inandırıcılığı ile sahnede ön plana çıkıyor \n",
            "\n",
            "Prediction: SORU (0.976) | OTHER (0.0801) | ANAHTAR (0.00377) | PROBLEM (4.3e-06) | EMIR (2.96e-06) | TALEP (7.92e-07)\n",
            "\n",
            "-------------   \n",
            "\n",
            "Bana su getir \n",
            "\n",
            "Prediction: EMIR (1.0) | OTHER (0.0002) | PROBLEM (9.81e-05) | ANAHTAR (5.38e-05) | TALEP (1.09e-05) | SORU (1.12e-06)\n",
            "\n",
            "-------------   \n",
            "\n",
            "sahip \n",
            "\n",
            "Prediction: ANAHTAR (0.995) | OTHER (0.00932) | SORU (0.000677) | EMIR (0.000571) | PROBLEM (0.00034) | TALEP (4.49e-08)\n",
            "\n",
            "-------------   \n",
            "\n",
            "Ödevini bitir \n",
            "\n",
            "Prediction: EMIR (0.909) | ANAHTAR (0.224) | PROBLEM (0.00442) | OTHER (0.001) | SORU (0.000247) | TALEP (2.42e-05)\n",
            "\n",
            "-------------   \n",
            "\n"
          ],
          "name": "stdout"
        }
      ]
    },
    {
      "cell_type": "code",
      "metadata": {
        "id": "eaPX6JyS_YVS"
      },
      "source": [
        ""
      ],
      "execution_count": null,
      "outputs": []
    },
    {
      "cell_type": "code",
      "metadata": {
        "id": "CVJvGTeaDYX1"
      },
      "source": [
        ""
      ],
      "execution_count": null,
      "outputs": []
    },
    {
      "cell_type": "code",
      "metadata": {
        "id": "1FRcZw3RAed5"
      },
      "source": [
        ""
      ],
      "execution_count": null,
      "outputs": []
    },
    {
      "cell_type": "code",
      "metadata": {
        "id": "Mo-OXszgJjyg"
      },
      "source": [
        ""
      ],
      "execution_count": null,
      "outputs": []
    },
    {
      "cell_type": "code",
      "metadata": {
        "id": "rwTOFk-_T6Gs"
      },
      "source": [
        ""
      ],
      "execution_count": null,
      "outputs": []
    },
    {
      "cell_type": "code",
      "metadata": {
        "id": "hERO5IL9ni4f"
      },
      "source": [
        ""
      ],
      "execution_count": null,
      "outputs": []
    },
    {
      "cell_type": "code",
      "metadata": {
        "id": "EXMTagN8aTW5"
      },
      "source": [
        ""
      ],
      "execution_count": null,
      "outputs": []
    },
    {
      "cell_type": "code",
      "metadata": {
        "id": "L12VshPv9ZIz"
      },
      "source": [
        ""
      ],
      "execution_count": null,
      "outputs": []
    },
    {
      "cell_type": "code",
      "metadata": {
        "id": "zwyeHpkA9YRj"
      },
      "source": [
        ""
      ],
      "execution_count": null,
      "outputs": []
    },
    {
      "cell_type": "code",
      "metadata": {
        "id": "fJ4Is6p_cBMO"
      },
      "source": [
        ""
      ],
      "execution_count": null,
      "outputs": []
    },
    {
      "cell_type": "code",
      "metadata": {
        "id": "pbSEvM87CTG7"
      },
      "source": [
        ""
      ],
      "execution_count": null,
      "outputs": []
    },
    {
      "cell_type": "code",
      "metadata": {
        "id": "E4cIUmXw2LNA"
      },
      "source": [
        ""
      ],
      "execution_count": null,
      "outputs": []
    },
    {
      "cell_type": "code",
      "metadata": {
        "id": "R1QHAF1i2ZSD"
      },
      "source": [
        ""
      ],
      "execution_count": null,
      "outputs": []
    }
  ]
}