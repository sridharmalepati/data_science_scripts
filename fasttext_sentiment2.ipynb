{
  "nbformat": 4,
  "nbformat_minor": 0,
  "metadata": {
    "colab": {
      "name": "fasttext sentiment2",
      "provenance": [],
      "collapsed_sections": [],
      "machine_shape": "hm",
      "authorship_tag": "ABX9TyPPjnpnnPx0hSv9HeMVsWEC",
      "include_colab_link": true
    },
    "kernelspec": {
      "name": "python3",
      "display_name": "Python 3"
    }
  },
  "cells": [
    {
      "cell_type": "markdown",
      "metadata": {
        "id": "view-in-github",
        "colab_type": "text"
      },
      "source": [
        "<a href=\"https://colab.research.google.com/github/DuyguA/data_science_scripts/blob/master/fasttext_sentiment2.ipynb\" target=\"_parent\"><img src=\"https://colab.research.google.com/assets/colab-badge.svg\" alt=\"Open In Colab\"/></a>"
      ]
    },
    {
      "cell_type": "code",
      "metadata": {
        "id": "k0sXqx9ZC4JO",
        "colab": {
          "base_uri": "https://localhost:8080/",
          "height": 384
        },
        "outputId": "6f496532-8f74-42d8-af22-1fbbc15f83d8"
      },
      "source": [
        "!!pip3 install fasttext"
      ],
      "execution_count": null,
      "outputs": [
        {
          "output_type": "execute_result",
          "data": {
            "text/plain": [
              "['Collecting fasttext',\n",
              " '\\x1b[?25l  Downloading https://files.pythonhosted.org/packages/f8/85/e2b368ab6d3528827b147fdb814f8189acc981a4bc2f99ab894650e05c40/fasttext-0.9.2.tar.gz (68kB)',\n",
              " '',\n",
              " '\\x1b[K     |████▊                           | 10kB 20.0MB/s eta 0:00:01',\n",
              " '\\x1b[K     |█████████▌                      | 20kB 1.7MB/s eta 0:00:01',\n",
              " '\\x1b[K     |██████████████▎                 | 30kB 2.5MB/s eta 0:00:01',\n",
              " '\\x1b[K     |███████████████████             | 40kB 3.2MB/s eta 0:00:01',\n",
              " '\\x1b[K     |███████████████████████▉        | 51kB 2.0MB/s eta 0:00:01',\n",
              " '\\x1b[K     |████████████████████████████▋   | 61kB 2.4MB/s eta 0:00:01',\n",
              " '\\x1b[K     |████████████████████████████████| 71kB 2.1MB/s ',\n",
              " '\\x1b[?25hRequirement already satisfied: pybind11>=2.2 in /usr/local/lib/python3.6/dist-packages (from fasttext) (2.5.0)',\n",
              " 'Requirement already satisfied: setuptools>=0.7.0 in /usr/local/lib/python3.6/dist-packages (from fasttext) (46.1.3)',\n",
              " 'Requirement already satisfied: numpy in /usr/local/lib/python3.6/dist-packages (from fasttext) (1.18.3)',\n",
              " 'Building wheels for collected packages: fasttext',\n",
              " '  Building wheel for fasttext (setup.py) ... \\x1b[?25l\\x1b[?25hdone',\n",
              " '  Created wheel for fasttext: filename=fasttext-0.9.2-cp36-cp36m-linux_x86_64.whl size=3016211 sha256=ec338df41bfd3deccda6d3c88c0299a6382642fbb89fea8628f47888cecc903c',\n",
              " '  Stored in directory: /root/.cache/pip/wheels/98/ba/7f/b154944a1cf5a8cee91c154b75231136cc3a3321ab0e30f592',\n",
              " 'Successfully built fasttext',\n",
              " 'Installing collected packages: fasttext',\n",
              " 'Successfully installed fasttext-0.9.2']"
            ]
          },
          "metadata": {
            "tags": []
          },
          "execution_count": 3
        }
      ]
    },
    {
      "cell_type": "code",
      "metadata": {
        "id": "uzobhMIbDCel"
      },
      "source": [
        "import fasttext"
      ],
      "execution_count": null,
      "outputs": []
    },
    {
      "cell_type": "code",
      "metadata": {
        "id": "xlOrTTPNDOJo",
        "colab": {
          "base_uri": "https://localhost:8080/",
          "height": 208
        },
        "outputId": "c16e05f5-cff0-4468-efc9-d7b55b107b9e"
      },
      "source": [
        "!wget https://dl.fbaipublicfiles.com/fasttext/vectors-crawl/cc.tr.300.bin.gz"
      ],
      "execution_count": null,
      "outputs": [
        {
          "output_type": "stream",
          "text": [
            "--2020-05-02 22:41:22--  https://dl.fbaipublicfiles.com/fasttext/vectors-crawl/cc.tr.300.bin.gz\n",
            "Resolving dl.fbaipublicfiles.com (dl.fbaipublicfiles.com)... 104.22.74.142, 104.22.75.142, 2606:4700:10::6816:4b8e, ...\n",
            "Connecting to dl.fbaipublicfiles.com (dl.fbaipublicfiles.com)|104.22.74.142|:443... connected.\n",
            "HTTP request sent, awaiting response... 200 OK\n",
            "Length: 4506977940 (4.2G) [application/octet-stream]\n",
            "Saving to: ‘cc.tr.300.bin.gz’\n",
            "\n",
            "cc.tr.300.bin.gz    100%[===================>]   4.20G  14.1MB/s    in 5m 7s   \n",
            "\n",
            "2020-05-02 22:46:29 (14.0 MB/s) - ‘cc.tr.300.bin.gz’ saved [4506977940/4506977940]\n",
            "\n"
          ],
          "name": "stdout"
        }
      ]
    },
    {
      "cell_type": "code",
      "metadata": {
        "id": "mNN_hKGkDavB"
      },
      "source": [
        "!gzip -d cc.tr.300.bin.gz"
      ],
      "execution_count": null,
      "outputs": []
    },
    {
      "cell_type": "code",
      "metadata": {
        "id": "2ynYKIM2DbIv",
        "colab": {
          "base_uri": "https://localhost:8080/",
          "height": 34
        },
        "outputId": "1abe8d26-5323-4e93-dce0-3abdd23c7229"
      },
      "source": [
        "m = fasttext.load_model(\"cc.tr.300.bin\")"
      ],
      "execution_count": null,
      "outputs": [
        {
          "output_type": "stream",
          "text": [
            "Warning : `load_model` does not return WordVectorModel or SupervisedModel any more, but a `FastText` object which is very similar.\n"
          ],
          "name": "stderr"
        }
      ]
    },
    {
      "cell_type": "code",
      "metadata": {
        "id": "KXbX2sPCDbZz",
        "colab": {
          "base_uri": "https://localhost:8080/",
          "height": 1000
        },
        "outputId": "a195ee71-f5b3-457d-8bd3-80f93c6ffea5"
      },
      "source": [
        "dir(m)"
      ],
      "execution_count": null,
      "outputs": [
        {
          "output_type": "execute_result",
          "data": {
            "text/plain": [
              "['__class__',\n",
              " '__contains__',\n",
              " '__delattr__',\n",
              " '__dict__',\n",
              " '__dir__',\n",
              " '__doc__',\n",
              " '__eq__',\n",
              " '__format__',\n",
              " '__ge__',\n",
              " '__getattribute__',\n",
              " '__getitem__',\n",
              " '__gt__',\n",
              " '__hash__',\n",
              " '__init__',\n",
              " '__init_subclass__',\n",
              " '__le__',\n",
              " '__lt__',\n",
              " '__module__',\n",
              " '__ne__',\n",
              " '__new__',\n",
              " '__reduce__',\n",
              " '__reduce_ex__',\n",
              " '__repr__',\n",
              " '__setattr__',\n",
              " '__sizeof__',\n",
              " '__str__',\n",
              " '__subclasshook__',\n",
              " '__weakref__',\n",
              " '_labels',\n",
              " '_words',\n",
              " 'f',\n",
              " 'get_analogies',\n",
              " 'get_dimension',\n",
              " 'get_input_matrix',\n",
              " 'get_input_vector',\n",
              " 'get_label_id',\n",
              " 'get_labels',\n",
              " 'get_line',\n",
              " 'get_meter',\n",
              " 'get_nearest_neighbors',\n",
              " 'get_output_matrix',\n",
              " 'get_sentence_vector',\n",
              " 'get_subword_id',\n",
              " 'get_subwords',\n",
              " 'get_word_id',\n",
              " 'get_word_vector',\n",
              " 'get_words',\n",
              " 'is_quantized',\n",
              " 'labels',\n",
              " 'predict',\n",
              " 'quantize',\n",
              " 'save_model',\n",
              " 'set_args',\n",
              " 'set_matrices',\n",
              " 'test',\n",
              " 'test_label',\n",
              " 'words']"
            ]
          },
          "metadata": {
            "tags": []
          },
          "execution_count": 8
        }
      ]
    },
    {
      "cell_type": "code",
      "metadata": {
        "id": "SEm98caKDbpf"
      },
      "source": [
        ""
      ],
      "execution_count": null,
      "outputs": []
    },
    {
      "cell_type": "code",
      "metadata": {
        "id": "Z7B3xFoQrwyg"
      },
      "source": [
        "import re\n",
        "\n",
        "#from emoticon_smiley import replace_smileys\n",
        "\n",
        "opponents = [\"bimcell\", \"pttcell\", \"ttnet\", \"vodafone\", \"avea\", \"netcell\", \"vestelcell\", \"turk telekom\", \"turktelekom\", \"turknet\"]\n",
        "opp_regex = r\"@?(\" + r\"|\".join(opponents) + r\")(\\w+)?\"\n",
        "\n",
        "def replace_ceo(sentence):\n",
        "  sentence = re.sub(r\"(@?Kaan_?Terzio[gğ]lu|\\bkaan\\b)\", \"CEO\", sentence, flags=re.I)\n",
        "  return sentence\n",
        "\n",
        "def replace_opponents(sentence):\n",
        "  sentence = re.sub(opp_regex, \" rakip şirket \", sentence, flags=re.I)\n",
        "  return sentence\n",
        "\n",
        "def replace_self_mentions(sentence):\n",
        "  sentence = re.sub(\"t.?rkcll?\", \"turkcell\", sentence)\n",
        "  return sentence\n",
        "\n",
        "def replace_entities(sentence):\n",
        "  sentence = replace_ceo(sentence)\n",
        "  sentence = replace_opponents(sentence)\n",
        "  sentence = replace_self_mentions(sentence)\n",
        "  return sentence\n",
        "\n",
        "def replace_dots(sentence):\n",
        "  sentence = sentence.replace(u\"\\u2026\", \"...\").replace(u\"\\u2025\", \"..\").replace(u\"\\u1427\", \".\")\n",
        "  return sentence\n",
        "\n",
        "def replace_brackets(sentence):\n",
        "  sentence = sentence.replace(\"}\", \" \").replace(\"{\", \" \").replace(\"]\", \" \").replace(\"[\", \" \")\n",
        "  return sentence\n",
        "\n",
        "def replace_quotation_marks(sentence):\n",
        "  rlist = [ u\"\\u2018\", u\"\\u201c\", u\"\\u201d\", '\"', u\"\\u0060\", u\"\\u00b4\", u\"\\u2019\"]\n",
        "  for r in rlist:\n",
        "    sentence = sentence.replace(r, \" \")\n",
        "  return sentence\n",
        "\n",
        "def replace_url(sentence):\n",
        "  url_string = r\"(http:\\/\\/www\\.|https:\\/\\/www\\.|http:\\/\\/|https:\\/\\/)?[a-z0-9]+([\\-\\.]{1}[a-z0-9]+)*\\.[a-z]{2,5}(:[0-9]{1,5})?(\\/.*)?\"\n",
        "  return re.sub(url_string, \" websitesi \", sentence)\n",
        "\n",
        "def replace_underscore(sentence):\n",
        "  sentence = re.sub(r\"(?<=\\s)_(?=\\s)\", \" \", sentence)\n",
        "  sentence = re.sub(r\"(?<=\\w)([,:;])\", r\" \\1\", sentence)\n",
        "  sentence = re.sub(r\"(?<=[\\w\\s])([|<>/-])(?=[\\w\\s])\" , \" \", sentence)\n",
        "  return sentence\n",
        "\n",
        "def process_quotation(sentence):\n",
        "  sentence = re.sub(r\"(?<![.\\d])\\.\", \" .\", sentence)\n",
        "  sentence = re.sub(r\"\\.(?![.\\d])\", \". \", sentence)\n",
        "  sentence = sentence.replace(\"?\", \" ? \").replace(\"!\", \" ! \")\n",
        "  sentence = re.sub(r\"[\\s#\\@]\", \" \", sentence)\n",
        "  return sentence\n",
        "\n",
        "\n",
        "def preprocess(sentence):\n",
        "  sentence = sentence.strip()\n",
        "  sentence = sentence.lower()\n",
        "  sentence = replace_url(sentence)\n",
        "  sentence = replace_entities(sentence)\n",
        "  sentence = replace_dots(sentence)\n",
        "  sentence = replace_brackets(sentence)\n",
        "  sentence = replace_quotation_marks(sentence)\n",
        "  sentence = replace_underscore(sentence)\n",
        "  sentence = process_quotation(sentence)\n",
        "  tokens = sentence.strip().split()\n",
        "  #t = replace_smileys(tokens)\n",
        "  return  tokens"
      ],
      "execution_count": null,
      "outputs": []
    },
    {
      "cell_type": "code",
      "metadata": {
        "id": "eyi7XqSXsbc1"
      },
      "source": [
        "from google.colab import files"
      ],
      "execution_count": null,
      "outputs": []
    },
    {
      "cell_type": "code",
      "metadata": {
        "id": "ZxRcCjH6sbvA",
        "colab": {
          "resources": {
            "http://localhost:8080/nbextensions/google.colab/files.js": {
              "data": "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",
              "ok": true,
              "headers": [
                [
                  "content-type",
                  "application/javascript"
                ]
              ],
              "status": 200,
              "status_text": "OK"
            }
          },
          "base_uri": "https://localhost:8080/",
          "height": 83
        },
        "outputId": "860eb304-c539-4690-b508-1d744c85a4be"
      },
      "source": [
        "uploaded = files.upload()"
      ],
      "execution_count": null,
      "outputs": [
        {
          "output_type": "display_data",
          "data": {
            "text/html": [
              "\n",
              "     <input type=\"file\" id=\"files-ed4041c0-7ead-4892-ba7a-a4a07d25fd9a\" name=\"files[]\" multiple disabled />\n",
              "     <output id=\"result-ed4041c0-7ead-4892-ba7a-a4a07d25fd9a\">\n",
              "      Upload widget is only available when the cell has been executed in the\n",
              "      current browser session. Please rerun this cell to enable.\n",
              "      </output>\n",
              "      <script src=\"/nbextensions/google.colab/files.js\"></script> "
            ],
            "text/plain": [
              "<IPython.core.display.HTML object>"
            ]
          },
          "metadata": {
            "tags": []
          }
        },
        {
          "output_type": "stream",
          "text": [
            "Saving all_train.csv to all_train.csv\n"
          ],
          "name": "stdout"
        }
      ]
    },
    {
      "cell_type": "code",
      "metadata": {
        "id": "u0sc7dmQscCz"
      },
      "source": [
        "import pandas as pd\n",
        "import numpy as np"
      ],
      "execution_count": null,
      "outputs": []
    },
    {
      "cell_type": "code",
      "metadata": {
        "id": "-LZneeHtncUa"
      },
      "source": [
        "sentences = []\n",
        "y = []"
      ],
      "execution_count": null,
      "outputs": []
    },
    {
      "cell_type": "code",
      "metadata": {
        "id": "-UYyffRNs-nm"
      },
      "source": [
        ""
      ],
      "execution_count": null,
      "outputs": []
    },
    {
      "cell_type": "code",
      "metadata": {
        "id": "e5rK794ki4W0"
      },
      "source": [
        "with open(\"all.csv\", \"r\", encoding=\"utf-8\") as file:\n",
        "    for line in file:\n",
        "        l = line.strip()\n",
        "        s, res = l.rsplit(\"\\t\", 1)\n",
        "        sentences.append(s)\n",
        "        y.append(int(res))"
      ],
      "execution_count": null,
      "outputs": []
    },
    {
      "cell_type": "code",
      "metadata": {
        "id": "gMutdd-ToNVR"
      },
      "source": [
        ""
      ],
      "execution_count": null,
      "outputs": []
    },
    {
      "cell_type": "code",
      "metadata": {
        "id": "HK77usaFKeco"
      },
      "source": [
        "test_sentences = []\n",
        "test_y = []\n",
        "\n",
        "with open(\"all_twitter_test.csv\", \"r\", encoding=\"utf-8\") as file:\n",
        "    for line in file:\n",
        "        l = line.strip()\n",
        "        s, res = l.rsplit(\"\\t\", 1)\n",
        "        test_sentences.append(s)\n",
        "        test_y.append(int(res))\n",
        "  "
      ],
      "execution_count": null,
      "outputs": []
    },
    {
      "cell_type": "code",
      "metadata": {
        "id": "BBY9ZgrvGdCx"
      },
      "source": [
        "test_sixclass_sentences = []\n",
        "test_sixclass_y = []\n",
        "\n",
        "with open(\"all_sixclass_test.csv\", \"r\", encoding=\"utf-8\") as file:\n",
        "    for line in file:\n",
        "        l = line.strip()\n",
        "        s, res = l.rsplit(\"\\t\", 1)\n",
        "        test_sixclass_sentences.append(s)\n",
        "        test_sixclass_y.append(int(res))\n",
        "  "
      ],
      "execution_count": null,
      "outputs": []
    },
    {
      "cell_type": "code",
      "metadata": {
        "id": "LCQaVHn9s-8b"
      },
      "source": [
        "words = set()\n",
        "for sentence in sequences:\n",
        "    for word in sentence:\n",
        "        words.add(word)\n",
        "\n",
        "for sentence in test_seqs:\n",
        "  for word in sentence:\n",
        "    words.add(word)\n",
        "\n",
        "\n",
        "n_words = len(words)"
      ],
      "execution_count": null,
      "outputs": []
    },
    {
      "cell_type": "code",
      "metadata": {
        "id": "Kbeg-BB_4PwA",
        "colab": {
          "base_uri": "https://localhost:8080/",
          "height": 34
        },
        "outputId": "f39101d6-701a-49a9-e564-8566a97da2db"
      },
      "source": [
        "n_words"
      ],
      "execution_count": null,
      "outputs": [
        {
          "output_type": "execute_result",
          "data": {
            "text/plain": [
              "29483"
            ]
          },
          "metadata": {
            "tags": []
          },
          "execution_count": 142
        }
      ]
    },
    {
      "cell_type": "code",
      "metadata": {
        "id": "dARL26YSoZDo"
      },
      "source": [
        ""
      ],
      "execution_count": null,
      "outputs": []
    },
    {
      "cell_type": "code",
      "metadata": {
        "id": "EIvDF6fcrxW-"
      },
      "source": [
        "sequences = [preprocess(sentence) for sentence in sentences]\n",
        "#test_seqs = [preprocess(t_sentence) for t_sentence in test_sentences]  "
      ],
      "execution_count": null,
      "outputs": []
    },
    {
      "cell_type": "code",
      "metadata": {
        "id": "lr1c49tlGyu2"
      },
      "source": [
        "test_sixclass_seqs = [preprocess(t_sentence) for t_sentence in test_sixclass_sentences]  "
      ],
      "execution_count": null,
      "outputs": []
    },
    {
      "cell_type": "code",
      "metadata": {
        "id": "Y8FNCtB7xggr"
      },
      "source": [
        ""
      ],
      "execution_count": null,
      "outputs": []
    },
    {
      "cell_type": "code",
      "metadata": {
        "id": "Vc0cJMg6tvc9"
      },
      "source": [
        "from keras.preprocessing.text import Tokenizer\n",
        "from keras.preprocessing.sequence import pad_sequences\n",
        "from keras.layers import Dense, Input, LSTM, Embedding, Dropout, Activation\n",
        "from keras.layers import Bidirectional, GlobalMaxPool1D, TimeDistributed\n",
        "from keras.models import Model\n",
        "from keras.initializers import Constant\n",
        "from keras import initializers, regularizers, constraints, optimizers, layers"
      ],
      "execution_count": null,
      "outputs": []
    },
    {
      "cell_type": "code",
      "metadata": {
        "id": "mdbKDaWOuuMb"
      },
      "source": [
        "%tensorflow_version 2.x"
      ],
      "execution_count": null,
      "outputs": []
    },
    {
      "cell_type": "code",
      "metadata": {
        "id": "tOatna3ZuugK"
      },
      "source": [
        "tok = Tokenizer(n_words+1, lower=True)\n",
        "tok.fit_on_texts(sequences )\n",
        "X_word = tok.texts_to_sequences(sequences)\n",
        "X_word = pad_sequences(X_word, maxlen=MAX_LEN, padding=\"post\")"
      ],
      "execution_count": null,
      "outputs": []
    },
    {
      "cell_type": "code",
      "metadata": {
        "id": "rrbFZ_tM4Bwp"
      },
      "source": [
        "test_sequences = tok.texts_to_sequences(test_seqs)\n",
        "X_test = pad_sequences(test_sequences, MAX_LEN, padding=\"post\")\n",
        "\n",
        "X_test = np.array(X_test)\n",
        "test_y = np.array(test_y)"
      ],
      "execution_count": null,
      "outputs": []
    },
    {
      "cell_type": "code",
      "metadata": {
        "id": "98iYqbydGtoh"
      },
      "source": [
        "test_sixclass_sequences = tok.texts_to_sequences(test_sixclass_seqs)\n",
        "X_sc_test = pad_sequences(test_sixclass_sequences, MAX_LEN, padding=\"post\")\n",
        "\n",
        "X_sc_test = np.array(X_sc_test)\n",
        "test_sixclass_y = np.array(test_sixclass_y)"
      ],
      "execution_count": null,
      "outputs": []
    },
    {
      "cell_type": "code",
      "metadata": {
        "id": "z2Yuza8svgDD",
        "colab": {
          "base_uri": "https://localhost:8080/",
          "height": 34
        },
        "outputId": "064d00fa-99c4-4861-aff6-e3895a24535e"
      },
      "source": [
        "n_words"
      ],
      "execution_count": null,
      "outputs": [
        {
          "output_type": "execute_result",
          "data": {
            "text/plain": [
              "29333"
            ]
          },
          "metadata": {
            "tags": []
          },
          "execution_count": 86
        }
      ]
    },
    {
      "cell_type": "code",
      "metadata": {
        "id": "fva_c95vv7TM"
      },
      "source": [
        "MAX_LEN =60"
      ],
      "execution_count": null,
      "outputs": []
    },
    {
      "cell_type": "code",
      "metadata": {
        "id": "UkFLUb_9wAfZ"
      },
      "source": [
        "word_index = tok.word_index\n",
        "embed_size=300\n",
        "embedding_matrix = np.zeros((n_words+1, embed_size))\n",
        "for word, i in word_index.items():\n",
        "    if i >= n_words: continue\n",
        "    embedding_vector = m.get_word_vector(word)\n",
        "    if embedding_vector is not None: embedding_matrix[i] = embedding_vector"
      ],
      "execution_count": null,
      "outputs": []
    },
    {
      "cell_type": "code",
      "metadata": {
        "id": "lIoRIdyMxZcp"
      },
      "source": [
        "X_word = np.array(X_word)\n",
        "y = np.array(y)"
      ],
      "execution_count": null,
      "outputs": []
    },
    {
      "cell_type": "code",
      "metadata": {
        "id": "YtHjH6439BdF"
      },
      "source": [
        "word_in = Input(shape=(MAX_LEN,))\n",
        "x = Embedding(n_words+1, embed_size, embeddings_initializer=Constant(embedding_matrix), input_length=MAX_LEN, trainable=True)(word_in)\n",
        "x = Bidirectional(LSTM(100, return_sequences=True, dropout=0.1, recurrent_dropout=0.1))(x)\n",
        "x = GlobalMaxPool1D()(x)\n",
        "x = Dense(100, activation=\"relu\")(x)\n",
        "x = Dropout(0.1)(x)\n",
        "x = Dense(1, activation=\"sigmoid\")(x)\n",
        "model = Model(inputs=word_in, outputs=x)\n",
        "model.compile(loss='binary_crossentropy', optimizer='adam', metrics=['accuracy'])"
      ],
      "execution_count": null,
      "outputs": []
    },
    {
      "cell_type": "code",
      "metadata": {
        "id": "JB82A27u9IA6"
      },
      "source": [
        ""
      ],
      "execution_count": null,
      "outputs": []
    },
    {
      "cell_type": "code",
      "metadata": {
        "id": "V3mKMDnO9IR3",
        "colab": {
          "base_uri": "https://localhost:8080/",
          "height": 245
        },
        "outputId": "cb11cc11-8503-4c5d-c9df-d5b7bea2a100"
      },
      "source": [
        "history = model.fit(X_word, y, batch_size=32, epochs=5, verbose=1)"
      ],
      "execution_count": null,
      "outputs": [
        {
          "output_type": "stream",
          "text": [
            "/usr/local/lib/python3.6/dist-packages/tensorflow/python/framework/indexed_slices.py:434: UserWarning: Converting sparse IndexedSlices to a dense Tensor of unknown shape. This may consume a large amount of memory.\n",
            "  \"Converting sparse IndexedSlices to a dense Tensor of unknown shape. \"\n"
          ],
          "name": "stderr"
        },
        {
          "output_type": "stream",
          "text": [
            "Epoch 1/5\n",
            "17543/17543 [==============================] - 103s 6ms/step - loss: 0.3965 - accuracy: 0.8160\n",
            "Epoch 2/5\n",
            "17543/17543 [==============================] - 101s 6ms/step - loss: 0.1296 - accuracy: 0.9532\n",
            "Epoch 3/5\n",
            "17543/17543 [==============================] - 101s 6ms/step - loss: 0.0423 - accuracy: 0.9867\n",
            "Epoch 4/5\n",
            "17543/17543 [==============================] - 101s 6ms/step - loss: 0.0219 - accuracy: 0.9924\n",
            "Epoch 5/5\n",
            "17543/17543 [==============================] - 101s 6ms/step - loss: 0.0143 - accuracy: 0.9942\n"
          ],
          "name": "stdout"
        }
      ]
    },
    {
      "cell_type": "code",
      "metadata": {
        "id": "C0uEO0i29RGf",
        "colab": {
          "base_uri": "https://localhost:8080/",
          "height": 34
        },
        "outputId": "b3da4303-8b2e-465c-b702-a2af2a1023e2"
      },
      "source": [
        "results = model.evaluate(X_test, test_y, batch_size=32)"
      ],
      "execution_count": null,
      "outputs": [
        {
          "output_type": "stream",
          "text": [
            "451/451 [==============================] - 0s 1ms/step\n"
          ],
          "name": "stdout"
        }
      ]
    },
    {
      "cell_type": "code",
      "metadata": {
        "id": "1HVuCFgBN20O",
        "colab": {
          "base_uri": "https://localhost:8080/",
          "height": 34
        },
        "outputId": "4d535e77-7baf-4939-af57-d7e6ab309a13"
      },
      "source": [
        "results"
      ],
      "execution_count": null,
      "outputs": [
        {
          "output_type": "execute_result",
          "data": {
            "text/plain": [
              "[0.39887135092264814, 0.9401330351829529]"
            ]
          },
          "metadata": {
            "tags": []
          },
          "execution_count": 92
        }
      ]
    },
    {
      "cell_type": "code",
      "metadata": {
        "id": "aVm9k_IrwDdG"
      },
      "source": [
        "incorrects = np.nonzero(np.round(model.predict(X_test).reshape((-1,))).astype(int) != test_y)"
      ],
      "execution_count": null,
      "outputs": []
    },
    {
      "cell_type": "code",
      "metadata": {
        "id": "-PZ4yuo2XUUG",
        "colab": {
          "base_uri": "https://localhost:8080/",
          "height": 34
        },
        "outputId": "76295edf-4ec1-474e-d106-644f0fd14578"
      },
      "source": [
        "len(test_y)"
      ],
      "execution_count": null,
      "outputs": [
        {
          "output_type": "execute_result",
          "data": {
            "text/plain": [
              "451"
            ]
          },
          "metadata": {
            "tags": []
          },
          "execution_count": 73
        }
      ]
    },
    {
      "cell_type": "code",
      "metadata": {
        "id": "wYL-8jNCHZJ0",
        "colab": {
          "base_uri": "https://localhost:8080/",
          "height": 34
        },
        "outputId": "8f4a289b-aeba-4e3e-dad6-935fc92bfc81"
      },
      "source": [
        "len(incorrects[0])"
      ],
      "execution_count": null,
      "outputs": [
        {
          "output_type": "execute_result",
          "data": {
            "text/plain": [
              "27"
            ]
          },
          "metadata": {
            "tags": []
          },
          "execution_count": 94
        }
      ]
    },
    {
      "cell_type": "code",
      "metadata": {
        "id": "aH1251wqyi4a",
        "colab": {
          "base_uri": "https://localhost:8080/",
          "height": 486
        },
        "outputId": "7e65342b-e918-44de-891b-6877cd2340ad"
      },
      "source": [
        "for i in incorrects[0]:\n",
        "  print(test_sentences[i])"
      ],
      "execution_count": null,
      "outputs": [
        {
          "output_type": "stream",
          "text": [
            "@TurkcellHizmet @MehmetEminilog2  Sorunların Giderilmedigi Tek GSM operatöru Turkcell.\n",
            "turkcell bu aralar aldatan sevgili gibi. çok iyi davraniyo habire hediye biseyler yolluyo kim bilir ne çikacak altindan\n",
            "#turkcell platinum müşterisi olmak gercekten mikemmel! Ama hala Turkcell beni sesimden tanır demek zorundayim.bi de bunu çözün.\n",
            "turkcell in turbo internetini kullanabilen varmı ..... http://fb.me/20OJVN2IN\n",
            "Hem kızla ilgilenme hem de ilgi bekle. Yok canım o işe turkcell bakıyo.\n",
            "__Allah Cezanı Vermesin Turkcell Bile Senden Daha Çok Mesaj Atıyor ??\n",
            "\"@turkcell harika bir fikrim var \"\" turkcell \"\t\" akp'li kayyumlarıyla beraber yabancı kayyumlara devredilsin \"\"\"\n",
            "Duygusal bir insan değilim ama turkcell reklamlarında ağlarım\n",
            "son zamanlarda cok bok atIlan bir sirket olsa da turkcell ise alim sureclerinde gOrdUGUm en profesyonel sirket.\n",
            "Bundan Sonraki Turkcell Reklamlarını Mahsun Kırmızıgül'ün Çekmesinde Fayda Görüyorum. İki De Selocan Vurdular Mı Tamamdır.\n",
            "13 senedir Aynı telefon numarasını kullanıyorum..TURKCELL bana plaket falan vermesi lazım\n",
            "Turkcell teşekkür kabul etmiyo &lt;3 https://t.co/FOUmvnlLJY\n",
            "Turkcell ve Koç işlemlerinden 3 kişiye SPK cezası\n",
            "\"Turkcell'in Emily-Emine reklamı bir \"\"reklam\"\" ise\"\t biz de hiçbir şey olamazsak reklamcı oluruz\t bundan daha kötüsü mümkün değil çünkü...\n",
            "ARKADAŞLAR TÜRK TELEKOM FİBER İNTERNEK KULLANAN ARKADAŞLAR VARMI MEMNUNMUSUNUZ BEN TURKCELL SUPERONLİNE DAN GEÇİCEMDE SORUYORUM.\n",
            "Turkcellin 25 yas alti kampanyalrini  25 yas ustu gelin adaylrina uyarlasniz keske\t gelin paketi mesla eve katkiniz olur sevap :) @Turkcell\n",
            "Turkcell bayisine gitmek zorundaymışım ???\n",
            "Lan turkcell sen salla kazanı geri getirdin benim niye şimdi haberim oluyor ??\n",
            "Hayir aglamiyorum gozume turkcell reklami kacti :'(\n",
            "Turkcell Platinum ayrıcalıkları artık cebimde!Sinema bileti avantajları ile\t sinema keyfi yaşamak çok kolay.http://trcll.im/platinum\n",
            "Böyle bir dönemde Turkcell Özgür Kız'la kendisine en çok para kazandıracak kitleye oynadı mantıklı olarak. Sonra kitle genişledi.\n",
            "Annemin turkcell t40 ile siteye girdim çıkış yapamıyorum sitede mahsur kaldım acil yardım\n",
            "@zekikayahan #zekirdek hattımi değiştirmek isterdim (turkcell)\n",
            "Turkcell benim terbiyemi bozuyorsun bebeyim\n",
            "Buranın kralı benim ???? (@ Turkcell Yetkili Satis Noktasi Tim Telekom in Ankara\t cankaya) https://t.co/RKoDYYlHQT\n",
            "\"turkcell genel müdürü; \"\"4\"\t\"5g bağlantı ile müşterilerin kota sorunu yaşamayacağını\"\" şeklinde röportaj vermiş. deneyip göreceğiz\"\n",
            "Turkcell'e yine Salla Kazan gelmiş ?????\n"
          ],
          "name": "stdout"
        }
      ]
    },
    {
      "cell_type": "code",
      "metadata": {
        "id": "S9xH4AQdUUmE"
      },
      "source": [
        ""
      ],
      "execution_count": null,
      "outputs": []
    },
    {
      "cell_type": "code",
      "metadata": {
        "id": "eLkX6KBVUU5M"
      },
      "source": [
        "examples = [\n",
        "            \":)\",\n",
        "            \":))\",\n",
        "            \"😚\",\n",
        "            \"turkcell :)\",\n",
        "            \"seni seviyorum turkcell\",\n",
        "            \"turkcell her yerde cekiyor\",\n",
        "            \"turkcell her yerde çekiyor\",\n",
        "            \"turkcell candır\",\n",
        "            \"turkcell candir\",\n",
        "            \"🙁\",\n",
        "            \"turkcell berbat\",\n",
        "            \"turkcell rezilsin\",\n",
        "            \"rezilsin turkcell\",\n",
        "            \"turkcell 🙁\"\n",
        "]"
      ],
      "execution_count": null,
      "outputs": []
    },
    {
      "cell_type": "code",
      "metadata": {
        "id": "AUdF55RKUU5b",
        "colab": {
          "base_uri": "https://localhost:8080/",
          "height": 1000
        },
        "outputId": "46e41d40-1ae2-40c0-84cf-fd937b1b3334"
      },
      "source": [
        "for ex in examples:\n",
        "    tt = tok.texts_to_sequences([ex])\n",
        "    ptt = pad_sequences(tt, MAX_LEN, padding=\"post\")\n",
        "    pred = model.predict(ptt)\n",
        "    print(ex)\n",
        "    print(np.round(pred[0]).astype(int))\n",
        "    print(\"---------------\")\n",
        "    print(\"\\n\")"
      ],
      "execution_count": null,
      "outputs": [
        {
          "output_type": "stream",
          "text": [
            ":)\n",
            "[1]\n",
            "---------------\n",
            "\n",
            "\n",
            ":))\n",
            "[1]\n",
            "---------------\n",
            "\n",
            "\n",
            "😚\n",
            "[1]\n",
            "---------------\n",
            "\n",
            "\n",
            "turkcell :)\n",
            "[1]\n",
            "---------------\n",
            "\n",
            "\n",
            "seni seviyorum turkcell\n",
            "[1]\n",
            "---------------\n",
            "\n",
            "\n",
            "turkcell her yerde cekiyor\n",
            "[1]\n",
            "---------------\n",
            "\n",
            "\n",
            "turkcell her yerde çekiyor\n",
            "[1]\n",
            "---------------\n",
            "\n",
            "\n",
            "turkcell candır\n",
            "[1]\n",
            "---------------\n",
            "\n",
            "\n",
            "turkcell candir\n",
            "[1]\n",
            "---------------\n",
            "\n",
            "\n",
            "🙁\n",
            "[0]\n",
            "---------------\n",
            "\n",
            "\n",
            "turkcell berbat\n",
            "[0]\n",
            "---------------\n",
            "\n",
            "\n",
            "turkcell rezilsin\n",
            "[0]\n",
            "---------------\n",
            "\n",
            "\n",
            "rezilsin turkcell\n",
            "[0]\n",
            "---------------\n",
            "\n",
            "\n",
            "turkcell 🙁\n",
            "[0]\n",
            "---------------\n",
            "\n",
            "\n"
          ],
          "name": "stdout"
        }
      ]
    },
    {
      "cell_type": "code",
      "metadata": {
        "id": "81Ge8TKs1EPU",
        "colab": {
          "base_uri": "https://localhost:8080/",
          "height": 54
        },
        "outputId": "9761cebc-352b-44c4-8c29-f5fd90c1fdd5"
      },
      "source": [
        "from keras.preprocessing.text import Tokenizer\n",
        "from keras.preprocessing.sequence import pad_sequences\n",
        "from keras.layers import Dense, Input, LSTM, Embedding, Dropout, Activation\n",
        "from keras.layers import Bidirectional, GlobalMaxPool1D, TimeDistributed\n",
        "from keras.models import Model\n",
        "from keras.initializers import Constant\n",
        "from keras import initializers, regularizers, constraints, optimizers, layers\n",
        "from keras.layers import Conv1D, MaxPooling1D, GlobalMaxPooling1D, GlobalAveragePooling1D, concatenate, BatchNormalization\n",
        "from keras.optimizers import Adam\n",
        "\n",
        "weight_decay = 1e-4\n",
        "num_filters=64\n",
        "\n",
        "word_in = Input(shape=(MAX_LEN,))\n",
        "x = Embedding(n_words+1, embed_size, embeddings_initializer=Constant(embedding_matrix), input_length=MAX_LEN, trainable=True)(word_in)\n",
        "conv = Conv1D(num_filters, 7, activation='relu', padding='same')(x)\n",
        "mp1 = MaxPooling1D(2)(conv)\n",
        "conv1 = Conv1D(num_filters, 7, activation='relu', padding='same')(mp1)\n",
        "mp2 = GlobalMaxPooling1D()(conv1)\n",
        "dp1 = Dropout(0.5)(mp2)\n",
        "dense1  = Dense(32, activation='relu', kernel_regularizer=regularizers.l2(weight_decay))(dp1)\n",
        "dense2 = Dense(1, activation='sigmoid')(dense1)\n",
        "\n",
        "adam = optimizers.Adam(lr=0.001, beta_1=0.9, beta_2=0.999, epsilon=1e-08, decay=0.0)\n",
        "model = Model(input=word_in, outputs=dense2)\n",
        "model.compile(loss='binary_crossentropy', optimizer=adam, metrics=['accuracy'])"
      ],
      "execution_count": null,
      "outputs": [
        {
          "output_type": "stream",
          "text": [
            "/usr/local/lib/python3.6/dist-packages/ipykernel_launcher.py:25: UserWarning: Update your `Model` call to the Keras 2 API: `Model(outputs=Tensor(\"de..., inputs=Tensor(\"in...)`\n"
          ],
          "name": "stderr"
        }
      ]
    },
    {
      "cell_type": "code",
      "metadata": {
        "id": "9UFJi89o1Lgn",
        "colab": {
          "base_uri": "https://localhost:8080/",
          "height": 436
        },
        "outputId": "39096b1d-510b-4bcd-ab19-89d5ff21cbaa"
      },
      "source": [
        "model.fit(X_word,y, batch_size=32, epochs=10)"
      ],
      "execution_count": null,
      "outputs": [
        {
          "output_type": "stream",
          "text": [
            "/usr/local/lib/python3.6/dist-packages/tensorflow/python/framework/indexed_slices.py:434: UserWarning: Converting sparse IndexedSlices to a dense Tensor of unknown shape. This may consume a large amount of memory.\n",
            "  \"Converting sparse IndexedSlices to a dense Tensor of unknown shape. \"\n"
          ],
          "name": "stderr"
        },
        {
          "output_type": "stream",
          "text": [
            "Epoch 1/10\n",
            "17543/17543 [==============================] - 54s 3ms/step - loss: 0.4204 - accuracy: 0.8078\n",
            "Epoch 2/10\n",
            "17543/17543 [==============================] - 54s 3ms/step - loss: 0.1438 - accuracy: 0.9509\n",
            "Epoch 3/10\n",
            "17543/17543 [==============================] - 53s 3ms/step - loss: 0.0499 - accuracy: 0.9856\n",
            "Epoch 4/10\n",
            "17543/17543 [==============================] - 53s 3ms/step - loss: 0.0249 - accuracy: 0.9934\n",
            "Epoch 5/10\n",
            "17543/17543 [==============================] - 53s 3ms/step - loss: 0.0175 - accuracy: 0.9948\n",
            "Epoch 6/10\n",
            "17543/17543 [==============================] - 54s 3ms/step - loss: 0.0164 - accuracy: 0.9940\n",
            "Epoch 7/10\n",
            "17543/17543 [==============================] - 53s 3ms/step - loss: 0.0176 - accuracy: 0.9941\n",
            "Epoch 8/10\n",
            "17543/17543 [==============================] - 53s 3ms/step - loss: 0.0135 - accuracy: 0.9952\n",
            "Epoch 9/10\n",
            "17543/17543 [==============================] - 53s 3ms/step - loss: 0.0095 - accuracy: 0.9956\n",
            "Epoch 10/10\n",
            "17543/17543 [==============================] - 54s 3ms/step - loss: 0.0104 - accuracy: 0.9957\n"
          ],
          "name": "stdout"
        },
        {
          "output_type": "execute_result",
          "data": {
            "text/plain": [
              "<keras.callbacks.callbacks.History at 0x7f7ca0fdb4a8>"
            ]
          },
          "metadata": {
            "tags": []
          },
          "execution_count": 151
        }
      ]
    },
    {
      "cell_type": "code",
      "metadata": {
        "id": "rW5nqDiXWCR4",
        "colab": {
          "base_uri": "https://localhost:8080/",
          "height": 34
        },
        "outputId": "11e873a2-dbe8-4c7a-b90f-0536b981a2c3"
      },
      "source": [
        "results = model.evaluate(X_test, test_y, batch_size=32)"
      ],
      "execution_count": null,
      "outputs": [
        {
          "output_type": "stream",
          "text": [
            "451/451 [==============================] - 0s 236us/step\n"
          ],
          "name": "stdout"
        }
      ]
    },
    {
      "cell_type": "code",
      "metadata": {
        "id": "lFARbqmzagZT",
        "colab": {
          "base_uri": "https://localhost:8080/",
          "height": 34
        },
        "outputId": "c26930d2-2869-4c0b-c4ce-a8f8b250462a"
      },
      "source": [
        "results"
      ],
      "execution_count": null,
      "outputs": [
        {
          "output_type": "execute_result",
          "data": {
            "text/plain": [
              "[0.6443494333394653, 0.9246119856834412]"
            ]
          },
          "metadata": {
            "tags": []
          },
          "execution_count": 110
        }
      ]
    },
    {
      "cell_type": "code",
      "metadata": {
        "id": "6AW5B2043rPS"
      },
      "source": [
        "incorrects = np.nonzero(np.round(model.predict(X_test).reshape((-1,))).astype(int) != test_y)"
      ],
      "execution_count": null,
      "outputs": []
    },
    {
      "cell_type": "code",
      "metadata": {
        "id": "Papg1RPG3vC9",
        "colab": {
          "base_uri": "https://localhost:8080/",
          "height": 34
        },
        "outputId": "6d4a937e-6c81-45d9-9fe0-b71033b5f192"
      },
      "source": [
        "len(incorrects[0])"
      ],
      "execution_count": null,
      "outputs": [
        {
          "output_type": "execute_result",
          "data": {
            "text/plain": [
              "34"
            ]
          },
          "metadata": {
            "tags": []
          },
          "execution_count": 112
        }
      ]
    },
    {
      "cell_type": "code",
      "metadata": {
        "id": "YHlRW2WV3w5q",
        "colab": {
          "base_uri": "https://localhost:8080/",
          "height": 607
        },
        "outputId": "f30ae78f-5c50-489d-d5e3-5d9d6407cfb4"
      },
      "source": [
        "for i in incorrects[0]:\n",
        "  print(test_sentences[i], \"\\t\", test_y[i])"
      ],
      "execution_count": null,
      "outputs": [
        {
          "output_type": "stream",
          "text": [
            "@TurkcellHizmet @MehmetEminilog2  Sorunların Giderilmedigi Tek GSM operatöru Turkcell. \t 0\n",
            "turkcell bu aralar aldatan sevgili gibi. çok iyi davraniyo habire hediye biseyler yolluyo kim bilir ne çikacak altindan \t 0\n",
            "#turkcell platinum müşterisi olmak gercekten mikemmel! Ama hala Turkcell beni sesimden tanır demek zorundayim.bi de bunu çözün. \t 1\n",
            "turkcell in turbo internetini kullanabilen varmı ..... http://fb.me/20OJVN2IN \t 0\n",
            "Hem kızla ilgilenme hem de ilgi bekle. Yok canım o işe turkcell bakıyo. \t 0\n",
            "__Allah Cezanı Vermesin Turkcell Bile Senden Daha Çok Mesaj Atıyor ?? \t 1\n",
            "\"@turkcell harika bir fikrim var \"\" turkcell \"\t\" akp'li kayyumlarıyla beraber yabancı kayyumlara devredilsin \"\"\" \t 0\n",
            "turkcell’den ankara’ya 551 milyon lira yatırım \t 1\n",
            "Turkcell icra takip buyrun ?? \t 0\n",
            "Bir tane şöyle tümden paket yok lan uygun Turkcell'de. \t 0\n",
            "Turkcell sanirim suan Yesilkoy'de bizim eve ugramiyor. Babam ve benim telefonumda servis yok diyor \t 0\n",
            "Duygusal bir insan değilim ama turkcell reklamlarında ağlarım \t 1\n",
            "son zamanlarda cok bok atIlan bir sirket olsa da turkcell ise alim sureclerinde gOrdUGUm en profesyonel sirket. \t 1\n",
            "Bundan Sonraki Turkcell Reklamlarını Mahsun Kırmızıgül'ün Çekmesinde Fayda Görüyorum. İki De Selocan Vurdular Mı Tamamdır. \t 0\n",
            "+ Komili\t Kırlangıç\t Banvit\t Türk Telekom\t Telsim\t Turkcell; Mersin\t İzmir\t Kuşadası Limanları ve daha bir çokları yabancılara satıldı. \t 0\n",
            "ya 6 gb net 2 hafta gitmiyo turkcell sOvUyorum sana \t 0\n",
            "13 senedir Aynı telefon numarasını kullanıyorum..TURKCELL bana plaket falan vermesi lazım \t 1\n",
            "Turkcell teşekkür kabul etmiyo &lt;3 https://t.co/FOUmvnlLJY \t 0\n",
            "Turkcell ve Koç işlemlerinden 3 kişiye SPK cezası \t 0\n",
            "\"Turkcell'in Emily-Emine reklamı bir \"\"reklam\"\" ise\"\t biz de hiçbir şey olamazsak reklamcı oluruz\t bundan daha kötüsü mümkün değil çünkü... \t 0\n",
            "ARKADAŞLAR TÜRK TELEKOM FİBER İNTERNEK KULLANAN ARKADAŞLAR VARMI MEMNUNMUSUNUZ BEN TURKCELL SUPERONLİNE DAN GEÇİCEMDE SORUYORUM. \t 0\n",
            "Turkcellin 25 yas alti kampanyalrini  25 yas ustu gelin adaylrina uyarlasniz keske\t gelin paketi mesla eve katkiniz olur sevap :) @Turkcell \t 0\n",
            "Turkcell bayisine gitmek zorundaymışım ??? \t 0\n",
            "Lan turkcell sen salla kazanı geri getirdin benim niye şimdi haberim oluyor ?? \t 0\n",
            "Hayir aglamiyorum gozume turkcell reklami kacti :'( \t 1\n",
            "Turkcell'in belkide tek kıyağı #gncfest ! Sıla'yı dinlemeye git-me-li-yim! \t 1\n",
            "Turkcell bile çekmiyor arkadaş deli etti yada yoğunluk mu var neci \t 0\n",
            "Böyle bir dönemde Turkcell Özgür Kız'la kendisine en çok para kazandıracak kitleye oynadı mantıklı olarak. Sonra kitle genişledi. \t 1\n",
            "Beni ekonomik olarak çökertsede ayrılamadığım Turkcell Allah seni de bildiği gibi yapsın. \t 0\n",
            "Gece Turkcell'e evet yazıp gönderdim ve bana dönmedi. O da unuttu beni. \t 0\n",
            "Turkcell'in çekim gücü her yerde çektiği falan hepsi yalan.. \t 0\n",
            "Buranın kralı benim ???? (@ Turkcell Yetkili Satis Noktasi Tim Telekom in Ankara\t cankaya) https://t.co/RKoDYYlHQT \t 1\n",
            "\"turkcell genel müdürü; \"\"4\"\t\"5g bağlantı ile müşterilerin kota sorunu yaşamayacağını\"\" şeklinde röportaj vermiş. deneyip göreceğiz\" \t 1\n",
            "@1mental_patient @helisates @slonate56 su an anlayamIyorum ki tatlim. e de cekiyo turkcell. OdediGim 100 ta le ye yazik be ya \t 0\n"
          ],
          "name": "stdout"
        }
      ]
    },
    {
      "cell_type": "code",
      "metadata": {
        "id": "AZa8Mt65HQTJ",
        "colab": {
          "base_uri": "https://localhost:8080/",
          "height": 34
        },
        "outputId": "1fa08249-f707-4393-c7f9-8f9002d63233"
      },
      "source": [
        "results2 = model.evaluate(X_sc_test, test_sixclass_y, batch_size=32)"
      ],
      "execution_count": null,
      "outputs": [
        {
          "output_type": "stream",
          "text": [
            "500/500 [==============================] - 0s 233us/step\n"
          ],
          "name": "stdout"
        }
      ]
    },
    {
      "cell_type": "code",
      "metadata": {
        "id": "_5LYyjuFHVjo",
        "colab": {
          "base_uri": "https://localhost:8080/",
          "height": 34
        },
        "outputId": "ad2faf56-21d0-4bcf-d497-c264725c85a7"
      },
      "source": [
        "results2"
      ],
      "execution_count": null,
      "outputs": [
        {
          "output_type": "execute_result",
          "data": {
            "text/plain": [
              "[0.017740452893078327, 0.9900000095367432]"
            ]
          },
          "metadata": {
            "tags": []
          },
          "execution_count": 121
        }
      ]
    },
    {
      "cell_type": "code",
      "metadata": {
        "id": "xTiNoIjLJKxC"
      },
      "source": [
        "examples = [\n",
        "            \":)\",\n",
        "            \":))\",\n",
        "            \"😚\",\n",
        "            \"turkcell :)\",\n",
        "            \"seni seviyorum turkcell\",\n",
        "            \"turkcell her yerde cekiyor\",\n",
        "            \"turkcell her yerde çekiyor\",\n",
        "            \"turkcell candır\",\n",
        "            \"turkcell candir\",\n",
        "            \"🙁\",\n",
        "            \"turkcell berbat\",\n",
        "            \"turkcell rezilsin\",\n",
        "            \"rezilsin turkcell\",\n",
        "            \"turkcell 🙁\"\n",
        "]"
      ],
      "execution_count": null,
      "outputs": []
    },
    {
      "cell_type": "code",
      "metadata": {
        "id": "lO4SKvY1IXR1",
        "colab": {
          "base_uri": "https://localhost:8080/",
          "height": 1000
        },
        "outputId": "0472f11c-825a-4e24-cfaa-5162f285f7d9"
      },
      "source": [
        "for ex in examples:\n",
        "    tt = tok.texts_to_sequences([ex])\n",
        "    ptt = pad_sequences(tt, MAX_LEN, padding=\"post\")\n",
        "    pred = model.predict(ptt)\n",
        "    print(ex)\n",
        "    print(np.round(pred[0]).astype(int))\n",
        "    print(\"---------------\")\n",
        "    print(\"\\n\")"
      ],
      "execution_count": null,
      "outputs": [
        {
          "output_type": "stream",
          "text": [
            ":)\n",
            "[0]\n",
            "---------------\n",
            "\n",
            "\n",
            ":))\n",
            "[0]\n",
            "---------------\n",
            "\n",
            "\n",
            "😚\n",
            "[1]\n",
            "---------------\n",
            "\n",
            "\n",
            "turkcell :)\n",
            "[1]\n",
            "---------------\n",
            "\n",
            "\n",
            "seni seviyorum turkcell\n",
            "[1]\n",
            "---------------\n",
            "\n",
            "\n",
            "turkcell her yerde cekiyor\n",
            "[1]\n",
            "---------------\n",
            "\n",
            "\n",
            "turkcell her yerde çekiyor\n",
            "[1]\n",
            "---------------\n",
            "\n",
            "\n",
            "turkcell candır\n",
            "[1]\n",
            "---------------\n",
            "\n",
            "\n",
            "turkcell candir\n",
            "[1]\n",
            "---------------\n",
            "\n",
            "\n",
            "🙁\n",
            "[0]\n",
            "---------------\n",
            "\n",
            "\n",
            "turkcell berbat\n",
            "[0]\n",
            "---------------\n",
            "\n",
            "\n",
            "turkcell rezilsin\n",
            "[0]\n",
            "---------------\n",
            "\n",
            "\n",
            "rezilsin turkcell\n",
            "[0]\n",
            "---------------\n",
            "\n",
            "\n",
            "turkcell 🙁\n",
            "[0]\n",
            "---------------\n",
            "\n",
            "\n"
          ],
          "name": "stdout"
        }
      ]
    },
    {
      "cell_type": "code",
      "metadata": {
        "id": "xpaC0t9667fC"
      },
      "source": [
        ""
      ],
      "execution_count": null,
      "outputs": []
    },
    {
      "cell_type": "code",
      "metadata": {
        "id": "g43lxLQq675l"
      },
      "source": [
        "model.save(\"sentiment_model.hd5\")\n",
        "\n",
        "import json, codecs\n",
        "\n",
        "tokenizer_json = tok.to_json()\n",
        "with codecs.open('sentiment_tokenizer.json', 'w', encoding='utf-8') as f:\n",
        "    f.write(json.dumps(tokenizer_json, ensure_ascii=False))"
      ],
      "execution_count": null,
      "outputs": []
    },
    {
      "cell_type": "code",
      "metadata": {
        "id": "eaPX6JyS_YVS"
      },
      "source": [
        ""
      ],
      "execution_count": null,
      "outputs": []
    },
    {
      "cell_type": "code",
      "metadata": {
        "id": "1FRcZw3RAed5"
      },
      "source": [
        ""
      ],
      "execution_count": null,
      "outputs": []
    },
    {
      "cell_type": "code",
      "metadata": {
        "id": "Mo-OXszgJjyg"
      },
      "source": [
        ""
      ],
      "execution_count": null,
      "outputs": []
    },
    {
      "cell_type": "code",
      "metadata": {
        "id": "hERO5IL9ni4f"
      },
      "source": [
        ""
      ],
      "execution_count": null,
      "outputs": []
    },
    {
      "cell_type": "code",
      "metadata": {
        "id": "EXMTagN8aTW5"
      },
      "source": [
        ""
      ],
      "execution_count": null,
      "outputs": []
    },
    {
      "cell_type": "code",
      "metadata": {
        "id": "L12VshPv9ZIz"
      },
      "source": [
        ""
      ],
      "execution_count": null,
      "outputs": []
    },
    {
      "cell_type": "code",
      "metadata": {
        "id": "zwyeHpkA9YRj"
      },
      "source": [
        ""
      ],
      "execution_count": null,
      "outputs": []
    },
    {
      "cell_type": "code",
      "metadata": {
        "id": "fJ4Is6p_cBMO"
      },
      "source": [
        ""
      ],
      "execution_count": null,
      "outputs": []
    },
    {
      "cell_type": "code",
      "metadata": {
        "id": "pbSEvM87CTG7"
      },
      "source": [
        ""
      ],
      "execution_count": null,
      "outputs": []
    },
    {
      "cell_type": "code",
      "metadata": {
        "id": "E4cIUmXw2LNA"
      },
      "source": [
        ""
      ],
      "execution_count": null,
      "outputs": []
    },
    {
      "cell_type": "code",
      "metadata": {
        "id": "R1QHAF1i2ZSD"
      },
      "source": [
        ""
      ],
      "execution_count": null,
      "outputs": []
    }
  ]
}