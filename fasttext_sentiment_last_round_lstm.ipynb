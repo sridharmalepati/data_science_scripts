{
  "nbformat": 4,
  "nbformat_minor": 0,
  "metadata": {
    "colab": {
      "name": "fasttext sentiment last round lstm",
      "provenance": [],
      "collapsed_sections": [],
      "machine_shape": "hm",
      "authorship_tag": "ABX9TyO3zXnNUvwtWGnGn3ZCDW+M",
      "include_colab_link": true
    },
    "kernelspec": {
      "name": "python3",
      "display_name": "Python 3"
    }
  },
  "cells": [
    {
      "cell_type": "markdown",
      "metadata": {
        "id": "view-in-github",
        "colab_type": "text"
      },
      "source": [
        "<a href=\"https://colab.research.google.com/github/DuyguA/data_science_scripts/blob/master/fasttext_sentiment_last_round_lstm.ipynb\" target=\"_parent\"><img src=\"https://colab.research.google.com/assets/colab-badge.svg\" alt=\"Open In Colab\"/></a>"
      ]
    },
    {
      "cell_type": "code",
      "metadata": {
        "id": "k0sXqx9ZC4JO",
        "colab": {
          "base_uri": "https://localhost:8080/",
          "height": 384
        },
        "outputId": "12a1650c-a44d-4666-8fd7-1f3f50879f65"
      },
      "source": [
        "!!pip3 install fasttext"
      ],
      "execution_count": null,
      "outputs": [
        {
          "output_type": "execute_result",
          "data": {
            "text/plain": [
              "['Collecting fasttext',\n",
              " '\\x1b[?25l  Downloading https://files.pythonhosted.org/packages/f8/85/e2b368ab6d3528827b147fdb814f8189acc981a4bc2f99ab894650e05c40/fasttext-0.9.2.tar.gz (68kB)',\n",
              " '',\n",
              " '\\x1b[K     |████▊                           | 10kB 21.3MB/s eta 0:00:01',\n",
              " '\\x1b[K     |█████████▌                      | 20kB 6.0MB/s eta 0:00:01',\n",
              " '\\x1b[K     |██████████████▎                 | 30kB 7.1MB/s eta 0:00:01',\n",
              " '\\x1b[K     |███████████████████             | 40kB 8.1MB/s eta 0:00:01',\n",
              " '\\x1b[K     |███████████████████████▉        | 51kB 6.6MB/s eta 0:00:01',\n",
              " '\\x1b[K     |████████████████████████████▋   | 61kB 7.1MB/s eta 0:00:01',\n",
              " '\\x1b[K     |████████████████████████████████| 71kB 4.6MB/s ',\n",
              " '\\x1b[?25hRequirement already satisfied: pybind11>=2.2 in /usr/local/lib/python3.6/dist-packages (from fasttext) (2.5.0)',\n",
              " 'Requirement already satisfied: setuptools>=0.7.0 in /usr/local/lib/python3.6/dist-packages (from fasttext) (47.1.1)',\n",
              " 'Requirement already satisfied: numpy in /usr/local/lib/python3.6/dist-packages (from fasttext) (1.18.4)',\n",
              " 'Building wheels for collected packages: fasttext',\n",
              " '  Building wheel for fasttext (setup.py) ... \\x1b[?25l\\x1b[?25hdone',\n",
              " '  Created wheel for fasttext: filename=fasttext-0.9.2-cp36-cp36m-linux_x86_64.whl size=3014633 sha256=b5ba13092cfcb500eb6143e2b7b4866ff5d53b9314eb66db76254b94e219780d',\n",
              " '  Stored in directory: /root/.cache/pip/wheels/98/ba/7f/b154944a1cf5a8cee91c154b75231136cc3a3321ab0e30f592',\n",
              " 'Successfully built fasttext',\n",
              " 'Installing collected packages: fasttext',\n",
              " 'Successfully installed fasttext-0.9.2']"
            ]
          },
          "metadata": {
            "tags": []
          },
          "execution_count": 2
        }
      ]
    },
    {
      "cell_type": "code",
      "metadata": {
        "id": "uzobhMIbDCel"
      },
      "source": [
        "import fasttext"
      ],
      "execution_count": null,
      "outputs": []
    },
    {
      "cell_type": "code",
      "metadata": {
        "id": "xlOrTTPNDOJo",
        "colab": {
          "base_uri": "https://localhost:8080/",
          "height": 208
        },
        "outputId": "7027c048-a157-48a1-ae92-9130d794c8e8"
      },
      "source": [
        "!wget https://dl.fbaipublicfiles.com/fasttext/vectors-crawl/cc.tr.300.bin.gz"
      ],
      "execution_count": null,
      "outputs": [
        {
          "output_type": "stream",
          "text": [
            "--2020-06-07 16:34:12--  https://dl.fbaipublicfiles.com/fasttext/vectors-crawl/cc.tr.300.bin.gz\n",
            "Resolving dl.fbaipublicfiles.com (dl.fbaipublicfiles.com)... 104.22.74.142, 104.22.75.142, 172.67.9.4, ...\n",
            "Connecting to dl.fbaipublicfiles.com (dl.fbaipublicfiles.com)|104.22.74.142|:443... connected.\n",
            "HTTP request sent, awaiting response... 200 OK\n",
            "Length: 4506977940 (4.2G) [application/octet-stream]\n",
            "Saving to: ‘cc.tr.300.bin.gz’\n",
            "\n",
            "cc.tr.300.bin.gz    100%[===================>]   4.20G  10.5MB/s    in 6m 57s  \n",
            "\n",
            "2020-06-07 16:41:10 (10.3 MB/s) - ‘cc.tr.300.bin.gz’ saved [4506977940/4506977940]\n",
            "\n"
          ],
          "name": "stdout"
        }
      ]
    },
    {
      "cell_type": "code",
      "metadata": {
        "id": "mNN_hKGkDavB"
      },
      "source": [
        "!gzip -d cc.tr.300.bin.gz"
      ],
      "execution_count": null,
      "outputs": []
    },
    {
      "cell_type": "code",
      "metadata": {
        "id": "2ynYKIM2DbIv",
        "colab": {
          "base_uri": "https://localhost:8080/",
          "height": 34
        },
        "outputId": "81688197-4cc8-4cc4-d04a-247d2d2e0c0e"
      },
      "source": [
        "m = fasttext.load_model(\"cc.tr.300.bin\")"
      ],
      "execution_count": null,
      "outputs": [
        {
          "output_type": "stream",
          "text": [
            "Warning : `load_model` does not return WordVectorModel or SupervisedModel any more, but a `FastText` object which is very similar.\n"
          ],
          "name": "stderr"
        }
      ]
    },
    {
      "cell_type": "code",
      "metadata": {
        "id": "KXbX2sPCDbZz",
        "colab": {
          "base_uri": "https://localhost:8080/",
          "height": 1000
        },
        "outputId": "a1d04faa-d11d-4e73-8bb4-585676a8c838"
      },
      "source": [
        "dir(m)"
      ],
      "execution_count": null,
      "outputs": [
        {
          "output_type": "execute_result",
          "data": {
            "text/plain": [
              "['__class__',\n",
              " '__contains__',\n",
              " '__delattr__',\n",
              " '__dict__',\n",
              " '__dir__',\n",
              " '__doc__',\n",
              " '__eq__',\n",
              " '__format__',\n",
              " '__ge__',\n",
              " '__getattribute__',\n",
              " '__getitem__',\n",
              " '__gt__',\n",
              " '__hash__',\n",
              " '__init__',\n",
              " '__init_subclass__',\n",
              " '__le__',\n",
              " '__lt__',\n",
              " '__module__',\n",
              " '__ne__',\n",
              " '__new__',\n",
              " '__reduce__',\n",
              " '__reduce_ex__',\n",
              " '__repr__',\n",
              " '__setattr__',\n",
              " '__sizeof__',\n",
              " '__str__',\n",
              " '__subclasshook__',\n",
              " '__weakref__',\n",
              " '_labels',\n",
              " '_words',\n",
              " 'f',\n",
              " 'get_analogies',\n",
              " 'get_dimension',\n",
              " 'get_input_matrix',\n",
              " 'get_input_vector',\n",
              " 'get_label_id',\n",
              " 'get_labels',\n",
              " 'get_line',\n",
              " 'get_meter',\n",
              " 'get_nearest_neighbors',\n",
              " 'get_output_matrix',\n",
              " 'get_sentence_vector',\n",
              " 'get_subword_id',\n",
              " 'get_subwords',\n",
              " 'get_word_id',\n",
              " 'get_word_vector',\n",
              " 'get_words',\n",
              " 'is_quantized',\n",
              " 'labels',\n",
              " 'predict',\n",
              " 'quantize',\n",
              " 'save_model',\n",
              " 'set_args',\n",
              " 'set_matrices',\n",
              " 'test',\n",
              " 'test_label',\n",
              " 'words']"
            ]
          },
          "metadata": {
            "tags": []
          },
          "execution_count": 7
        }
      ]
    },
    {
      "cell_type": "code",
      "metadata": {
        "id": "SEm98caKDbpf"
      },
      "source": [
        ""
      ],
      "execution_count": null,
      "outputs": []
    },
    {
      "cell_type": "code",
      "metadata": {
        "id": "Z7B3xFoQrwyg"
      },
      "source": [
        "import re\n",
        "\n",
        "#from emoticon_smiley import replace_smileys\n",
        "\n",
        "opponents = [\"bimcell\", \"pttcell\", \"ttnet\", \"vodafone\", \"avea\", \"netcell\", \"vestelcell\", \"turk telekom\", \"turktelekom\", \"turknet\"]\n",
        "opp_regex = r\"@?(\" + r\"|\".join(opponents) + r\")(\\w+)?\"\n",
        "\n",
        "def replace_ceo(sentence):\n",
        "  sentence = re.sub(r\"(@?Kaan_?Terzio[gğ]lu|\\bkaan\\b)\", \"CEO\", sentence, flags=re.I)\n",
        "  return sentence\n",
        "\n",
        "def replace_opponents(sentence):\n",
        "  sentence = re.sub(opp_regex, \" rakip şirket \", sentence, flags=re.I)\n",
        "  return sentence\n",
        "\n",
        "def replace_self_mentions(sentence):\n",
        "  sentence = re.sub(\"t.?rkcll?\", \"turkcell\", sentence)\n",
        "  return sentence\n",
        "\n",
        "def replace_entities(sentence):\n",
        "  sentence = replace_ceo(sentence)\n",
        "  sentence = replace_opponents(sentence)\n",
        "  sentence = replace_self_mentions(sentence)\n",
        "  return sentence\n",
        "\n",
        "def replace_dots(sentence):\n",
        "  sentence = sentence.replace(u\"\\u2026\", \"...\").replace(u\"\\u2025\", \"..\").replace(u\"\\u1427\", \".\")\n",
        "  return sentence\n",
        "\n",
        "def replace_brackets(sentence):\n",
        "  sentence = sentence.replace(\"}\", \" \").replace(\"{\", \" \").replace(\"]\", \" \").replace(\"[\", \" \")\n",
        "  return sentence\n",
        "\n",
        "def replace_quotation_marks(sentence):\n",
        "  rlist = [ u\"\\u2018\", u\"\\u201c\", u\"\\u201d\", '\"', u\"\\u0060\", u\"\\u00b4\", u\"\\u2019\"]\n",
        "  for r in rlist:\n",
        "    sentence = sentence.replace(r, \" \")\n",
        "  return sentence\n",
        "\n",
        "def replace_url(sentence):\n",
        "  url_string = r\"(http:\\/\\/www\\.|https:\\/\\/www\\.|http:\\/\\/|https:\\/\\/)?[a-z0-9]+([\\-\\.]{1}[a-z0-9]+)*\\.[a-z]{2,5}(:[0-9]{1,5})?(\\/.*)?\"\n",
        "  return re.sub(url_string, \" websitesi \", sentence)\n",
        "\n",
        "def replace_underscore(sentence):\n",
        "  sentence = re.sub(r\"[.]{3,}\", \"...\", sentence)\n",
        "  sentence = re.sub(r\"(?<=\\s)_(?=\\s)\", \" \", sentence)\n",
        "  sentence = re.sub(r\"(?<=\\w)([,:;])\", r\" \\1\", sentence)\n",
        "  sentence = re.sub(r\"(?<=[\\w\\s])([|<>/-])(?=[\\w\\s])\" , \" \", sentence)\n",
        "  return sentence\n",
        "\n",
        "def process_quotation(sentence):\n",
        "  sentence = re.sub(r\"(?<![.\\d])\\.\", \" .\", sentence)\n",
        "  sentence = re.sub(r\"\\.(?![.\\d])\", \". \", sentence)\n",
        "  sentence = sentence.replace(\"?\", \" ? \").replace(\"!\", \" ! \").replace(\",\", \", \").replace(\"...\", \"... \")\n",
        "  sentence = re.sub(r\"[\\s#\\@&]\", \" \", sentence)\n",
        "  return sentence\n",
        "\n",
        "def replace_html(sentence):\n",
        "  sentence = sentence.replace(\"&lt;\", \"<\")\n",
        "  sentence = sentence.replace(\"&gt;\", \">\")\n",
        "  return sentence\n",
        "\n",
        "\n",
        "def preprocess(sentence):\n",
        "  sentence = sentence.strip()\n",
        "  sentence = sentence.lower()\n",
        "  sentence = replace_html(sentence)\n",
        "  sentence = replace_url(sentence)\n",
        "  sentence = replace_entities(sentence)\n",
        "  sentence = replace_dots(sentence)\n",
        "  sentence = replace_brackets(sentence)\n",
        "  sentence = replace_quotation_marks(sentence)\n",
        "  sentence = replace_underscore(sentence)\n",
        "  sentence = process_quotation(sentence)\n",
        "  tokens = sentence.strip().split()\n",
        "  #t = replace_smileys(tokens)\n",
        "  return  tokens"
      ],
      "execution_count": null,
      "outputs": []
    },
    {
      "cell_type": "code",
      "metadata": {
        "id": "eyi7XqSXsbc1",
        "colab": {
          "base_uri": "https://localhost:8080/",
          "height": 34
        },
        "outputId": "112aca88-1f07-4e07-ac22-eeead6d9907b"
      },
      "source": [
        "preprocess(\":D\")"
      ],
      "execution_count": null,
      "outputs": [
        {
          "output_type": "execute_result",
          "data": {
            "text/plain": [
              "[':d']"
            ]
          },
          "metadata": {
            "tags": []
          },
          "execution_count": 11
        }
      ]
    },
    {
      "cell_type": "code",
      "metadata": {
        "id": "u0sc7dmQscCz"
      },
      "source": [
        "import pandas as pd\n",
        "import numpy as np"
      ],
      "execution_count": null,
      "outputs": []
    },
    {
      "cell_type": "code",
      "metadata": {
        "id": "-LZneeHtncUa"
      },
      "source": [
        "sentences = []\n",
        "y = []"
      ],
      "execution_count": null,
      "outputs": []
    },
    {
      "cell_type": "code",
      "metadata": {
        "id": "-UYyffRNs-nm"
      },
      "source": [
        ""
      ],
      "execution_count": null,
      "outputs": []
    },
    {
      "cell_type": "code",
      "metadata": {
        "id": "e5rK794ki4W0"
      },
      "source": [
        "with open(\"all_sentiment_train.csv\", \"r\", encoding=\"utf-8\") as file:\n",
        "    for line in file:\n",
        "        l = line.strip()\n",
        "        s, res = l.rsplit(\"\\t\", 1)\n",
        "        sentences.append(s)\n",
        "        y.append(int(res))"
      ],
      "execution_count": null,
      "outputs": []
    },
    {
      "cell_type": "code",
      "metadata": {
        "id": "gMutdd-ToNVR"
      },
      "source": [
        ""
      ],
      "execution_count": null,
      "outputs": []
    },
    {
      "cell_type": "code",
      "metadata": {
        "id": "HK77usaFKeco"
      },
      "source": [
        "test_sentences = []\n",
        "test_y = []\n",
        "\n",
        "with open(\"all_twitter_test.csv\", \"r\", encoding=\"utf-8\") as file:\n",
        "    for line in file:\n",
        "        l = line.strip()\n",
        "        s, res = l.rsplit(\"\\t\", 1)\n",
        "        test_sentences.append(s)\n",
        "        test_y.append(int(res))\n",
        "  "
      ],
      "execution_count": null,
      "outputs": []
    },
    {
      "cell_type": "code",
      "metadata": {
        "id": "BBY9ZgrvGdCx"
      },
      "source": [
        "test_cust_sentences = []\n",
        "test_cust_y = []\n",
        "\n",
        "with open(\"all_customer_test.csv\", \"r\", encoding=\"utf-8\") as file:\n",
        "    for line in file:\n",
        "        l = line.strip()\n",
        "        s, res = l.rsplit(\"\\t\", 1)\n",
        "        test_cust_sentences.append(s)\n",
        "        test_cust_y.append(int(res))\n",
        "  "
      ],
      "execution_count": null,
      "outputs": []
    },
    {
      "cell_type": "code",
      "metadata": {
        "id": "9UKsTvB_GH_S"
      },
      "source": [
        "test_twit_sentences = []\n",
        "test_twit_y = []\n",
        "\n",
        "with open(\"all_twitter_test.csv\", \"r\", encoding=\"utf-8\") as file:\n",
        "    for line in file:\n",
        "        l = line.strip()\n",
        "        s, res = l.rsplit(\"\\t\", 1)\n",
        "        test_twit_sentences.append(s)\n",
        "        test_twit_y.append(int(res))\n",
        "  "
      ],
      "execution_count": null,
      "outputs": []
    },
    {
      "cell_type": "code",
      "metadata": {
        "id": "LCQaVHn9s-8b"
      },
      "source": [
        "words = set()\n",
        "for sentence in sequences:\n",
        "    for word in sentence:\n",
        "        words.add(word)\n",
        "\n",
        "for sentence in test_cust_seqs:\n",
        "  for word in sentence:\n",
        "    words.add(word)\n",
        "\n",
        "for sentence in test_twit_seqs:\n",
        "  for word in sentence:\n",
        "    words.add(word)\n",
        "\n",
        "\n",
        "n_words = len(words)"
      ],
      "execution_count": null,
      "outputs": []
    },
    {
      "cell_type": "code",
      "metadata": {
        "id": "Kbeg-BB_4PwA",
        "colab": {
          "base_uri": "https://localhost:8080/",
          "height": 34
        },
        "outputId": "7da0eeac-3642-49e1-d4dc-036979181487"
      },
      "source": [
        "n_words"
      ],
      "execution_count": null,
      "outputs": [
        {
          "output_type": "execute_result",
          "data": {
            "text/plain": [
              "87073"
            ]
          },
          "metadata": {
            "tags": []
          },
          "execution_count": 16
        }
      ]
    },
    {
      "cell_type": "code",
      "metadata": {
        "id": "dARL26YSoZDo"
      },
      "source": [
        ""
      ],
      "execution_count": null,
      "outputs": []
    },
    {
      "cell_type": "code",
      "metadata": {
        "id": "EIvDF6fcrxW-"
      },
      "source": [
        "sequences = [preprocess(sentence) for sentence in sentences]\n",
        "#test_seqs = [preprocess(t_sentence) for t_sentence in test_sentences]  "
      ],
      "execution_count": null,
      "outputs": []
    },
    {
      "cell_type": "code",
      "metadata": {
        "id": "lr1c49tlGyu2"
      },
      "source": [
        "test_cust_seqs = [preprocess(t_sentence) for t_sentence in test_cust_sentences]  \n",
        "test_twit_seqs = [preprocess(t_sentence) for t_sentence in test_twit_sentences]  "
      ],
      "execution_count": null,
      "outputs": []
    },
    {
      "cell_type": "code",
      "metadata": {
        "id": "f4Pqxtnx5xOW"
      },
      "source": [
        ""
      ],
      "execution_count": null,
      "outputs": []
    },
    {
      "cell_type": "code",
      "metadata": {
        "id": "Y8FNCtB7xggr"
      },
      "source": [
        ""
      ],
      "execution_count": null,
      "outputs": []
    },
    {
      "cell_type": "code",
      "metadata": {
        "id": "Vc0cJMg6tvc9",
        "colab": {
          "base_uri": "https://localhost:8080/",
          "height": 34
        },
        "outputId": "157fa1c3-d676-4891-a92a-8106a783526e"
      },
      "source": [
        "from keras.preprocessing.text import Tokenizer\n",
        "from keras.preprocessing.sequence import pad_sequences\n",
        "from keras.layers import Dense, Input, LSTM, Embedding, Dropout, Activation\n",
        "from keras.layers import Bidirectional, GlobalMaxPool1D, TimeDistributed\n",
        "from keras.models import Model\n",
        "from keras.initializers import Constant\n",
        "from keras import initializers, regularizers, constraints, optimizers, layers"
      ],
      "execution_count": null,
      "outputs": [
        {
          "output_type": "stream",
          "text": [
            "Using TensorFlow backend.\n"
          ],
          "name": "stderr"
        }
      ]
    },
    {
      "cell_type": "code",
      "metadata": {
        "id": "mdbKDaWOuuMb"
      },
      "source": [
        "%tensorflow_version 2.x"
      ],
      "execution_count": null,
      "outputs": []
    },
    {
      "cell_type": "code",
      "metadata": {
        "id": "tOatna3ZuugK"
      },
      "source": [
        "tok = Tokenizer(n_words+1, lower=True)\n",
        "tok.fit_on_texts(sequences )\n",
        "X_word = tok.texts_to_sequences(sequences)\n",
        "X_word = pad_sequences(X_word, maxlen=MAX_LEN, padding=\"post\")"
      ],
      "execution_count": null,
      "outputs": []
    },
    {
      "cell_type": "code",
      "metadata": {
        "id": "rrbFZ_tM4Bwp"
      },
      "source": [
        "test_twitter_sequences = tok.texts_to_sequences(test_twit_seqs)\n",
        "X_twitter_test = pad_sequences(test_twitter_sequences, MAX_LEN, padding=\"post\")\n",
        "\n",
        "X_twitter_test = np.array(X_twitter_test)\n",
        "test_twit_y = np.array(test_twit_y)"
      ],
      "execution_count": null,
      "outputs": []
    },
    {
      "cell_type": "code",
      "metadata": {
        "id": "98iYqbydGtoh"
      },
      "source": [
        "test_cust_sequences = tok.texts_to_sequences(test_cust_seqs)\n",
        "X_cust_test = pad_sequences(test_cust_sequences, MAX_LEN, padding=\"post\")\n",
        "\n",
        "X_cust_test = np.array(X_cust_test)\n",
        "test_cust_y = np.array(test_cust_y)"
      ],
      "execution_count": null,
      "outputs": []
    },
    {
      "cell_type": "code",
      "metadata": {
        "id": "z2Yuza8svgDD",
        "colab": {
          "base_uri": "https://localhost:8080/",
          "height": 34
        },
        "outputId": "c60f0ce1-a5a7-48ac-9380-7b35f0a4cebf"
      },
      "source": [
        "max(len(sent) for sent in sequences)"
      ],
      "execution_count": null,
      "outputs": [
        {
          "output_type": "execute_result",
          "data": {
            "text/plain": [
              "339"
            ]
          },
          "metadata": {
            "tags": []
          },
          "execution_count": 26
        }
      ]
    },
    {
      "cell_type": "code",
      "metadata": {
        "id": "fva_c95vv7TM"
      },
      "source": [
        "MAX_LEN =350"
      ],
      "execution_count": null,
      "outputs": []
    },
    {
      "cell_type": "code",
      "metadata": {
        "id": "UkFLUb_9wAfZ"
      },
      "source": [
        "word_index = tok.word_index\n",
        "embed_size=300\n",
        "embedding_matrix = np.zeros((n_words+1, embed_size))\n",
        "for word, i in word_index.items():\n",
        "    if i >= n_words: continue\n",
        "    embedding_vector = m.get_word_vector(word)\n",
        "    if embedding_vector is not None: embedding_matrix[i] = embedding_vector"
      ],
      "execution_count": null,
      "outputs": []
    },
    {
      "cell_type": "code",
      "metadata": {
        "id": "lIoRIdyMxZcp"
      },
      "source": [
        "X_word = np.array(X_word)\n",
        "y = np.array(y)"
      ],
      "execution_count": null,
      "outputs": []
    },
    {
      "cell_type": "code",
      "metadata": {
        "id": "YtHjH6439BdF"
      },
      "source": [
        "word_in = Input(shape=(MAX_LEN,))\n",
        "x = Embedding(n_words+1, embed_size, embeddings_initializer=Constant(embedding_matrix), input_length=MAX_LEN, trainable=True)(word_in)\n",
        "x = Bidirectional(LSTM(100, return_sequences=True, dropout=0.1, recurrent_dropout=0.1))(x)\n",
        "x = GlobalMaxPool1D()(x)\n",
        "x = Dense(100, activation=\"relu\")(x)\n",
        "x = Dropout(0.1)(x)\n",
        "x = Dense(1, activation=\"sigmoid\")(x)\n",
        "model = Model(inputs=word_in, outputs=x)\n",
        "model.compile(loss='binary_crossentropy', optimizer='adam', metrics=['accuracy'])"
      ],
      "execution_count": null,
      "outputs": []
    },
    {
      "cell_type": "code",
      "metadata": {
        "id": "JB82A27u9IA6",
        "colab": {
          "base_uri": "https://localhost:8080/",
          "height": 72
        },
        "outputId": "1e4254ca-0d45-4b09-adb3-2e6bf0919ff0"
      },
      "source": [
        "from keras.callbacks import TensorBoard\n",
        "tensorboard_callback = TensorBoard(log_dir=\"wordLSTM\", histogram_freq=1, write_graph=True, write_images=True, embeddings_freq=1)"
      ],
      "execution_count": null,
      "outputs": [
        {
          "output_type": "stream",
          "text": [
            "/usr/local/lib/python3.6/dist-packages/keras/callbacks/tensorboard_v2.py:102: UserWarning: The TensorBoard callback does not support embeddings display when using TensorFlow 2.0. Embeddings-related arguments are ignored.\n",
            "  warnings.warn('The TensorBoard callback does not support '\n"
          ],
          "name": "stderr"
        }
      ]
    },
    {
      "cell_type": "code",
      "metadata": {
        "id": "V3mKMDnO9IR3",
        "colab": {
          "base_uri": "https://localhost:8080/",
          "height": 263
        },
        "outputId": "5431263f-7644-4f1f-bf32-b86132f218e3"
      },
      "source": [
        "history = model.fit(X_word, y, batch_size=256, epochs=5, verbose=1, validation_data=[X_twitter_test, test_twit_y])"
      ],
      "execution_count": null,
      "outputs": [
        {
          "output_type": "stream",
          "text": [
            "/usr/local/lib/python3.6/dist-packages/tensorflow/python/framework/indexed_slices.py:434: UserWarning: Converting sparse IndexedSlices to a dense Tensor of unknown shape. This may consume a large amount of memory.\n",
            "  \"Converting sparse IndexedSlices to a dense Tensor of unknown shape. \"\n"
          ],
          "name": "stderr"
        },
        {
          "output_type": "stream",
          "text": [
            "Train on 53746 samples, validate on 451 samples\n",
            "Epoch 1/5\n",
            "53746/53746 [==============================] - 668s 12ms/step - loss: 0.4185 - accuracy: 0.7932 - val_loss: 0.1502 - val_accuracy: 0.9579\n",
            "Epoch 2/5\n",
            "53746/53746 [==============================] - 659s 12ms/step - loss: 0.1834 - accuracy: 0.9336 - val_loss: 0.0342 - val_accuracy: 0.9867\n",
            "Epoch 3/5\n",
            "53746/53746 [==============================] - 658s 12ms/step - loss: 0.0567 - accuracy: 0.9809 - val_loss: 0.0093 - val_accuracy: 1.0000\n",
            "Epoch 4/5\n",
            "53746/53746 [==============================] - 658s 12ms/step - loss: 0.0255 - accuracy: 0.9921 - val_loss: 0.0015 - val_accuracy: 1.0000\n",
            "Epoch 5/5\n",
            "53746/53746 [==============================] - 663s 12ms/step - loss: 0.0167 - accuracy: 0.9950 - val_loss: 0.0026 - val_accuracy: 1.0000\n"
          ],
          "name": "stdout"
        }
      ]
    },
    {
      "cell_type": "code",
      "metadata": {
        "id": "C0uEO0i29RGf",
        "colab": {
          "base_uri": "https://localhost:8080/",
          "height": 34
        },
        "outputId": "0ca1d214-a23f-491b-a492-89a7f60b6b46"
      },
      "source": [
        "results = model.evaluate(X_cust_test, test_cust_y, batch_size=32)"
      ],
      "execution_count": null,
      "outputs": [
        {
          "output_type": "stream",
          "text": [
            "2734/2734 [==============================] - 12s 4ms/step\n"
          ],
          "name": "stdout"
        }
      ]
    },
    {
      "cell_type": "code",
      "metadata": {
        "id": "1HVuCFgBN20O",
        "colab": {
          "base_uri": "https://localhost:8080/",
          "height": 34
        },
        "outputId": "126ad0ae-0d91-4729-a080-9cc210c89e8a"
      },
      "source": [
        "results"
      ],
      "execution_count": null,
      "outputs": [
        {
          "output_type": "execute_result",
          "data": {
            "text/plain": [
              "[0.318739204470616, 0.9136795997619629]"
            ]
          },
          "metadata": {
            "tags": []
          },
          "execution_count": 29
        }
      ]
    },
    {
      "cell_type": "code",
      "metadata": {
        "id": "aVm9k_IrwDdG"
      },
      "source": [
        "incorrects = np.nonzero(np.round(model.predict(X_cust_test).reshape((-1,))).astype(int) != test_cust_y)"
      ],
      "execution_count": null,
      "outputs": []
    },
    {
      "cell_type": "code",
      "metadata": {
        "id": "-PZ4yuo2XUUG",
        "colab": {
          "base_uri": "https://localhost:8080/",
          "height": 34
        },
        "outputId": "1f992895-328d-4423-8a1d-4ed877bd39c9"
      },
      "source": [
        "len(test_cust_y), len(incorrects[0])"
      ],
      "execution_count": null,
      "outputs": [
        {
          "output_type": "execute_result",
          "data": {
            "text/plain": [
              "(2734, 236)"
            ]
          },
          "metadata": {
            "tags": []
          },
          "execution_count": 31
        }
      ]
    },
    {
      "cell_type": "code",
      "metadata": {
        "id": "wYL-8jNCHZJ0"
      },
      "source": [
        ""
      ],
      "execution_count": null,
      "outputs": []
    },
    {
      "cell_type": "code",
      "metadata": {
        "id": "aH1251wqyi4a",
        "colab": {
          "base_uri": "https://localhost:8080/",
          "height": 1000
        },
        "outputId": "0623af39-0d78-4859-e556-c38ef1411f37"
      },
      "source": [
        "for i in incorrects[0]:\n",
        "  print(test_cust_sentences[i], test_cust_y[i])"
      ],
      "execution_count": null,
      "outputs": [
        {
          "output_type": "stream",
          "text": [
            "uzun zamandır kullanıyorum hala murekkep almadım. sankı murekkepı harcamıyor, kokluyor.. 1\n",
            "beğenmedim.resimde daha büyüktü. 0\n",
            "Ürünü diğer ürünlerden ayıran özelliği kalitesi ve kullanım ömrü 1\n",
            "16 gb dahili hafıza çok yetersiz hafıza kartı ile dahili hafızada birleştirilemiyormuş o yüzden almayacağım 0\n",
            "Ürün çok hafif pil ömrü uzun fiyatına göre alınır 1\n",
            "ÜRÜN GÜZEL FAKAT ÇOK KÜÇÜK VE RESİMDE DAHA GÜZEL GÖRÜNÜYOR 0\n",
            "Ürün gayet başarılı okuma ve yazma hızı olarak, 2016 yılında f/p ürünüydü. Ah be döviz kuru sen nelere kadirsin... 1\n",
            "Ürün güzel ancak belirtilen sureden erken ama yinede elime geç ulaştı 0\n",
            "İş görürmü görür ama cok kaliteli değil calışırken demirin sesleri çıkıyor 0\n",
            "Aynı gün kargoya verildi , ertesi gün elime ulaştı. Rakiplerine göre fiyatı daha uygun. 1\n",
            "Çok memnun kaldık. Bütün printer işlerimizi hallediyoruz. 1\n",
            "O kadar küçük ki. Kaybedebilirsiniz. Araba teybine taktım. Belli bile olmuyor. 1\n",
            "Biraz ağır 1\n",
            "Evet, pazarlama harikası bir ürün. Japonlar yapmış.. Bravo! 0\n",
            "Bir farkını göremedim ama hediye olarak gönderildiği için teşekkürler. 0\n",
            "Ürün iyi fakat pes ve fifa 16 da sağ analog ile iş göremiyorsunuz onun dışında güzel... 0\n",
            "yer değişikliğinde 300-400 gr farklılıklar oluyor 0\n",
            "pil çok iyi genel itibariyle almayıp ne yapican kardeşim ?? 1\n",
            "malzeme kalitesi daha iyi olmalıydı. 0\n",
            "Süreyi çok uzatmıyor kısmen başarılı bir ürün. 0\n",
            "Ürünü 2 sene önce yarı fiyatına almıştım hala kullanıyorum. 1\n",
            "bence iyi biraz küçük ama sıkıntı olmuyor 1\n",
            "sıcak tutuyo tamam ama terleme yapıyo 0\n",
            "göründüğü gibi..standart 1\n",
            "Sadece yavaş sağlam bi malzeme kullanılmış başarılı 1\n",
            "Fiyatına göre fena degil 0\n",
            "Daha zarif olacagini dusundum. Ayrica Kutusu guzel degil. Ucuz duruyor 0\n",
            "güzel yapışmıyor 0\n",
            "biraz ufak gibi. platformu da çok basit.. biraz daha ucuz olabilir 0\n",
            "Parasinin karsiligini veriyo. 1\n",
            "çekinerek aldım fiat ucuz ama kediler beğenmediler.bu yüzden new cat mamasını tavsiye etmiyorum.fiat iyi kalite rezalet 0\n",
            "beklediğim kadar hızlı değil, ama tavsiye edebileceğim bir ürün... 1\n",
            "Biraz fazla esnek.Kapağını kapatmak için biraz uğraşmanız gerekiyor. 0\n",
            "Üründe bir sorun yok. Eksiksiz geldi. Aras kargo iyidir! Aras'tan vazgeçmeyin 1\n",
            "ürün olarak toz olanlar ile sıvı olanlar tercih edilebilir. Güçlü ve doğal bir ürünse kaçırmayın derim 1\n",
            "Hızlı şarj özelliği yok o yüzden beğenmedim! 1\n",
            "Fiyatını sürekli arttırmasalar daha iyi olacak. Düşmesini bekleyeceğim. 0\n",
            "Ürün eski model ve internette hemen hemen aynı fiyat, dolu kartuş avantaj, kablo cıkmaması dejavantaj 1\n",
            "Ürun hem uygun hemde cok memnum kaldim. 1\n",
            "kaybetmemek için özen istiyor.biraz fazla ısınıyor 1\n",
            "İş görür. 0\n",
            "Aldıktan bir hafta sonra misafirim yerde uyandı. AL MA YIN. 0\n",
            "Bende 3 tane vardı. 4. Yü aldım. İhtiyacım olursa tekrar aynısını alacağım. Fiyatı çok iyiydi. Hemen aldım. Canavar gibi 1\n",
            "Magaza magaza dolasıp uygun fiyat aramayın. En uygun fiyat burda... 1\n",
            "Çok çabuk elime ulaştı. Ürünü mağazadan satın alamayanlar için en ideal yol, hatta belkide daha da kolay. 1\n",
            "Ürün uzun menzili ile tatmin ediyor fakat modemin yanında aldığınız hızı daha uzaklarda full çekse bile beklemeyin. 1\n",
            "pc artık tv gibi açılıyor oyun yüklemeleri bölüm geçişleri çok kısa daha ne denebilirki 1\n",
            "Eşimin hb sepetinde bekliyordu. Bende alıp ona hediye ettim??. Çok beğendi. Severek kullanıyor. 1\n",
            "KISA SÜREDE ELİME ULAŞTI SORUN YOK 1\n",
            "6 aydır kullanıyorum. Hiç bir sorunu yok. 1\n",
            "Karanlıkta, loş ışıkta hiç görünmüyor. Işığını yakmak için yanına gitmek gerekiyor. 0\n",
            "fiyat performans ürünü. keşke içinde ıphone içinde kablo seçeneği olsa. 20-30 liraya kablo masrafına sokuyor insanı. 1\n",
            "Ucuz çalışan bir kulaklık istiyorsanız alın gitsin. 1\n",
            "Mikrofonu agziniza sokmaniz gerek iyi ses alabilmek icin 0\n",
            "İdareli 0\n",
            "Fırsat sitelerinden IMAX dahil olan 3D versiyonunu alabiliyorsunuz, IMAX dışında kullanabilirsiniz.. 0\n",
            "Ürün güzel ve hızlı .fakat bazen cihazı takmakta zorlanıyorsun. Flasın u.ç kısımları içeri kaçmakta.puanı ordan kırdım. 1\n",
            "Hızlı kargo kolay kurulum elveda hücresel ???? 1\n",
            "Bazı sd kartları formatlamadan çalışmıyor. Fakat bu ürün direkt olarak çalıştı. Teşekkürler. 1\n",
            "Bi sikinti cikmadi. Taktim direk kullandim 1\n",
            "Ürünüm zamanında ve düzgün teslim edildi. 1\n",
            "Beklenenen hemen kesim olsun isteniyor ama 30 dk uğraşıyorsun?? 0\n",
            "Kargo hızlı malzeme kaliteli. Daha ne diyim. Baş parmağımın tırnağı kadar bişey:))) 1\n",
            "Kablonun olmayışına dikkat edin bi liralık şeyi koymamışlar neden anlamıyorum 1\n",
            "Fiyat performans son derece yüksek.. 1\n",
            "İstanbul da aynı gün içinde teslim edildi. kurulumu zahmetsiz ve hemen çalıştı. 1\n",
            "Ürün güzel ama fatura gelmedi 1\n",
            "iPhone 7 de şarja başladıktan bir süre sonra çıkartıp takmış gibi şarj sesi geliyor 3 kere garanti şarj ediyor 1\n",
            "SJ4000 wifi için yedek aldım, uygun fiyat, kapıma kadar geldi.daha ne olsun 1\n",
            "sadece biraz ağır.. 1\n",
            "Çok kötü değil ama çok iyi cekim gücü yok 0\n",
            "mouse çok iyi satıcı firmada aynı gün kargoya veriyor. pekiyi :) 1\n",
            "fiyatına göre idare eder 0\n",
            "INKJETLERDEN HEP KORKARDIM. KORKUMU YENMEME SEBEP OLDU. 1\n",
            "Fena değil 1\n",
            "bir haftadır kullanıyorum şikayet yok. 1\n",
            "fena degil 1\n",
            "Note 4 le arasında fark yok hatta Note 4 ün bazı özellikleri daha iyi :) 0\n",
            "Bi çok özelliği iyi ama ön kamerası bu markaya yakışmıyor.Gece floresan ışığında yetersiz fotoğraflar. 1\n",
            "Benim yaşadığım bölgede internet yavaş olduğu için hızı biraz düşük fakat mağazalarda 200 TL ye satılıyor. 1\n",
            "ses guzel ama ben bass seven biri olarak bass beni hic tatmin etmiyor ancak yuruyus yaparken dinlemelik bi kulaklik 0\n",
            "F/P ürünü.Çokta bi şey beklemeyin 1\n",
            "Fiyat performans ürünü bu fiyatta daha iyi bi ürün yok 1\n",
            "Sadece eksisi hafif degil biraz agir 1\n",
            "Bu efsanevi tecrübe için teşekkürler. 0\n",
            "Bu fiyata fazla bence daha iyisi alınabilir 0\n",
            "şubat 2016 da aldım gecen ay bozulmustu sağ tuş tıklanmıyordu servise verdim 1 hatfa içinde yenisi verdiler. 1\n",
            "Çok iyi çok aldım yine alacagım 1\n",
            "Çok beğendim. Bu paraya bu kalite harika!!! 1\n",
            "Gerçekten hızlı şarj ediyor.Birazcık ağır.Birde nasıl kapanıyor çözemedim daha:) 1\n",
            "Urun 128 olarak satış yapılıyor ama 60 li 2 paket geldi 8 adet kaybınız oluyor almayı düşünenlerin dikkatine 0\n",
            "Ürün güzel ve beğendim. ama güzel paketlenmemişti ve ürün zarar görebilirdi. 0\n",
            "kulaklık çıkmadı içinden. telefonu daha kullanmadım ama görntü ve kurulum için kullandığımda tatmin edici geldi. 1\n",
            "biraz küçük gibi ama kumaşı iyi 0\n",
            "Gerçek fiyatına ulaştığında alıcısı çok olacak bir ürün.. 1\n",
            "Eh işte.. 1\n",
            "Paket içeriğinde Lightning - 3,5 mm Kulaklık Jakı Adaptörü bulunmamakta. 1\n",
            "hesaplı oldugu sürece alışveriş yapacagım ürün başka yerde yok 1\n",
            "çok memnun kaldım 3 hafta sonra elime ulaştı. düzenli olarak kullandım çok işime yaradı:) 0\n",
            "ses kalitesi ii fakat ses yüksekliği yeterli değil parasına göre alinabilir bir ürün kullanışlı 1\n",
            "henüz kullanmadım ama uygun fiat ve iyi hizmet olduğunu düşünüyorum. 1\n",
            "kargo takibinde kısmi problemler yaşamama rağmen telefon fiyatına göre gayet tatmin edici 1\n",
            "Fakat adım saymada biraz hatası var. Ama uzun süre yürüyünce hata payı azalıyor. 1\n",
            "İlk geldiğinde cok güzel parlak tası vardı Zamanla parlaklığı kayboldu 0\n",
            "Çocuklar için ideal. 0\n",
            "fiyatı makul uzun süreli kullanmadım ama telefonla gayet uyumlu düzgün çalışıyor kargolama hızlı 1\n",
            "Yazma hızı 13-14 mb. Okuma hızı 36mb civarı. Buna göre tercih edebilirsiniz 1\n",
            "M.L beden aldım XS beden gibi. 0\n",
            "iyi kullanışlı alınabilir sıkıntı yok. 1\n",
            "Kurulumu basit kendisi de işlevsel bir ürün 1\n",
            "Resimde bakınca güzel sanılıyor.Ama çok küçük kullanışlı değil. 0\n",
            "Uzun süre kullanımda faydalı olabilir 0\n",
            "Ürünü kalitesi zaman içinde belli olur ama uygulaması ingilizce ve biraz karışık 1\n",
            "İyi gibi de şarjı çok yiyor 1\n",
            "ürün orta seviye kullanıcıların alabileceği en iyi ürünlerden birisi hem marka hem kalite hehde pil uzun gidiyor 1\n",
            "bu paraya bu kalite fazla soze gerek yok 1\n",
            "Beklediğimden çok daha sessiz çalışıyor. Soğutma performansı da yeterli i5'i süper soğutuyor. harika bir ürün 1\n",
            "değişim kolay. ekonomik sayılır. 1\n",
            "Çok memnun kaldım tavsiye ederim alacak olan arkadaşlara 1\n",
            "dışarıya çok ses veriyor, baslar o kadar iyi diğil, ama parasına göre gayet güzel 1\n",
            "Gayet estetik dizayn edilmiş ; çekim gücü yetersiz. 1\n",
            "bilgisayar kullanacaklar için süper ürün ama telefondan bağlanamadım malesef bu üzücü 1\n",
            "27-03-2016 pazar akşamı siparişimi verdim 29- 03-2016 saat 16:00 da elime ulaştı .. 1\n",
            "Orijinal ürün. Son tüketim tarihi 2018. Uygundur.... 1\n",
            "ürün fena değil 1\n",
            "Hem bedava kargo hem de çok hızlı geldi fakat siz yinede bir iple anahtarlığınıza bağlayın . 1\n",
            "Hem hızlı çıktı alıyor hemde toneri az yiyor ve dolumu çok kolay eve almıştım şimdide iş yerine aldım 1\n",
            "idare eder FİYAT performans ürünü 1\n",
            "Teşekkürler.Nedense pakete fatura konulmuyor! 1\n",
            "Üründen çok memnun kaldık. Ciddi derecede iş görüyor. 1\n",
            "Çift taraflı bant kullanın daha iyi 0\n",
            "içinde rekli kartuş ta çıktı 5 yildiz 1\n",
            "Beklediğim gibi, fiyat fayda oranı açısından tatmin edici bir ürün. 1\n",
            "Ürün çok güzel ve sağlam malzemeden olduğu belli, ama elime biraz küçük geldi tam oturmadı, 1\n",
            "yazıcı gayet güzel ancak a5 boyutu basmıyor. alırken dikkat edilmeli a5 kullanılacaksa. 1\n",
            "Fena değil idare eder sipariş kuralları ve hızı çok iyi teşekkürler.. 0\n",
            "Ürün çabuk geldi çok şık bir görünüme sahip ama boyası ele çıkıyor geri sökmeyi düşünüyorum. 0\n",
            "Kamerasını begenmedim onun dışında fena değil 1\n",
            "Asfalt yolda giderseniz performansı iyi. Stabize yolda telefon düşüyor. 1\n",
            "Orta kalitede faydalı bir ürün, android cihazınınız (OTG-etkin) destekleyip desteklemediğini kontrol etmelisiniz... 1\n",
            "telefon ben kullanıyorum ama çok güzel deyil ama yinede bataryası için alınır 0\n",
            "Ürün çok kötü kokuyor.Rahatlık yönünden iyi 0\n",
            "İçinden bilgisayara bağlama kablosu çıkmıyor ı yüzden 1 yıldız kestim. Garip ama art arda çekince yoruluyor. 1\n",
            "Yavas yazma hızı ancak oldukça kullanışlı bir ürün 1\n",
            "Kaliteli bir ürün fakat bana biraz büyük ve ağırlığı fazla geldi. 1\n",
            "Daha ucuz olabilir en iyi fiyatları beklemekteyiz 0\n",
            "ürün sipariş hızınız fiyatlarınız harika tebrikler 1\n",
            "idare eder 1\n",
            "Eko modu açık olmasa mikrofon un açık olduğunu anlamayacağım. Sesi çok az 0\n",
            "Genelde iyi ama ses bazen gidiyo geliyor 0\n",
            "kargosu çok hızlı, hızlı şarj yapıyor fakat içinden çıkan kablosu çok kaliteli değil bide içinden adaptör çıkmıyor 1\n",
            "Oğluma aldım. 1 günde teslim edildi. Kaliteli güzel bir telefon ama kendime alacak olsam bu kadar para vermezdim. 1\n",
            "ürün 2 gun icinde geldi ulastırma ii ürünü daha kullanmadım 1\n",
            "Kaliteli, uykuda rahatsızlık hissi vermiyor. Bekleneni karşılıyor. Android uygulamasıda kullanışlı. 1\n",
            "göründüğü gibi tam araba teypleri için 1\n",
            "Iyi has ama ucuz degil kablosu farkli ve kisa piyasada zor bulunur 1\n",
            "kulağı terletmesi ve mikrofonun sesi boğuk vermesi dışında diğer özelleri iyi. 0\n",
            "çOK GÜZEL BİR ŞEY DEĞİL. Ancak hızlı gönderi mükemmel. 0\n",
            "abartıldığı kadar olmasada güzel bir ürün 0\n",
            "Ben aldım, harika ürün 6 yıllık laptopum uçmaya başladı. 1\n",
            "Yanında birde klonloma proğramı verseler.. 1\n",
            "Ethernet girişi olmayan modeline kıyasla bu çok daha iyi ve kurulumu daha kolay. 1\n",
            "Aldım kullandım şarjı felan herşey iyi derken bir anda iletişimsizlik oldu şimdi kenara koydum 0\n",
            "Bildiğin camsilden farkı yok. Fantezi arayanlar için ideal. 0\n",
            "hız olarak 10mb\\s yazma 48mb\\s okuma. orta seviye akıllı telefonlar için uygundur. 1\n",
            "2008 den beri Iphone kullaniyorum. Bi ara samsung aldim 1 hafta sonra iade ettim. Dokunmatik ekranda iphone 1 numara. 1\n",
            "Dehşetül-Vahşet bir ürün 0\n",
            "fiyat ve teslimatı mükemmel teşekkürler 0\n",
            "TAM ARADIĞIM 1\n",
            "makine fantomdu f35 oldu o derece 1\n",
            "Bu micro sd kartı ikinci kez alıyorum çok memnun kaldım. Tavsiye ederim.. 1\n",
            "Super hızlı 5 günde gelir ?????????????? 0\n",
            "10 yıllık laptopu mezardan kaldırdı çayırlarda koşturdu. 1\n",
            "2011 yılında buradan almıştım .Hâlâ sapasağlam. Görüntüsü de hiç bozulmadı. 1\n",
            "Dolar çıktı Hepsi düşürdü. Yurt dışı garantisiz, Hepsi orijinal :) 1\n",
            "Kartuş fiyatına yazıcı. Az kullanımlar için yeterli bir yazıcı, sadece işlemcisi düşük eski bilgisayarda çalışmıyor. 1\n",
            "Fena degil is gorur 1\n",
            "bana göre mouse biraz ağır 450 gr. 1\n",
            "kısa sureli kullanımlar için ideal 0\n",
            "arada 50metre ve duvar olan bı yerden bıle sinyal alıp dagıtıyor alt kat üst kat güzel çekiyor 1\n",
            "Fiat perfermonsa cisindan memnunim 1\n",
            "Hız kalite tasarruf dolum garanti altında 1\n",
            "1 dakikada zor açılan laptop 16 saniyede aciliyor 2009 model laptobu ayağa kaldırdı. 1\n",
            "Siz de, satıcı da mükemmelsiniz.Çok hızlısınız. 1\n",
            "Ürün iyi fakat Teknoraks şirketinin ürünü göndermesi 5 gün sürdü. Satıcısı Hepsiburada olanlar 1 gün de geliyor. 1\n",
            "Yani bildiginiz iPhone, umarim performansi boyle devam eder, yavaslamaz 1\n",
            "Eğer Fiyatı 5 tl olsaydı harika bir ürün diyebilirdim... 0\n",
            "Ürünü günümüz akıllı telefonların çağrı cihazı olarak düşünebilirsiniz fakat ios için programının geliştirilmesi gerek 1\n",
            "kullanmak için dikkat ve zaman lazım. yorucu bir alet. biraz daha rahat kullanımlı birşeyler iyi olurdu. 0\n",
            "ürünün en güzel özelliği diğer mause ların aksine yüzük parmağı ve serçe parmağın konforuna özen gösterilmiş olması.:) 1\n",
            "Ürünü çocuk odasından başka bir yere koymanız uygun olmaz. Basit bir duvar saati 0\n",
            "Aradım aradım gerçekten daha ucuzu yok. Bulamadım. Kalitesi hakkında bir fikrim yok. Alınca göreceğiz. Hayırlısı... 1\n",
            "prizden kolayca kablo ile birlikte çıkıyor 0\n",
            "Urun çok iyi herşeyi ile lakin çok çabuk ısınıyor hemde oyun oynarken 10 dakka içinde... 1\n",
            "urun cok iyi.samsung note 4 icin aldim.bazi yonleri eksik ama is goruyor.yolda takip film izliyorum 1\n",
            "23/11/17 SAAT 23:00'DA VERDİĞİM SİPARİŞİM 24/11/17 SAAT 13:00'DA TESLİM EDİLDİ. 1\n",
            "Ürün şık ancak kapağı tam tutmuyor 1\n",
            "fiyatına göre bir ürün 0\n",
            "olabildiğince küçük ve de şık duruyor metal kısım da sağlam tavsiye ederim 1\n",
            "Güzel, zamanında teslim edildi, indirimden de faydalandım 6 Tl ye geldi. 1\n",
            "PLASTİK VE YER KAPLAYAN ŞEYLERİ SEVİYORSANIZ SATIN ALMAK İÇİN ACELE EDİN 0\n",
            "genaral mobile android one 4g ye uyumlumu daha once baska marka aldim ama uuymadi 1\n",
            "USB 2.0 dan geçiş yaptım ve şuan ürün bana çok hızlı geliyor. Fakat ilerde bu da yavaş kalacak 1\n",
            "fiyatı çok uygun. eski laptopıma taktım ciddi bir hız artışı var 1\n",
            "Harika birşey beklemeyin fiyatına göre iyi 0\n",
            "tamam ürün küçük işler için iş görür esas mesele kartuşları iki kartuşun fiyatı makinadan daha pahalı olması 1\n",
            "Kalıcı değil.Koku güzel 0\n",
            "wifi şebekesi beklediğim gibi ortalama 50 60 mt rahat çekiyor sonrası pert :) 1\n",
            "Biraz yumusak icim 0\n",
            "Arkadaşlar iphone 7 plus ve apple watch 1 kaç kere şarj eder ? 1\n",
            "Ürün malzeme kalitesi çokiyi fakat ses konusunda çokta tatmin edici bulmadım. 1\n",
            "hep en ucuzundan alıyoruz. kartuşları ölünce yeniden yazıcı alıp eskisini atıyoruz. en ucuz yöntem bu.. 1\n",
            "fiyatına göre iyi sunta kalitesi biraz daha iyi olablir 0\n",
            ".kullanmaya basladım henüz bir etkisi yok.ama bakalım belki daha sonra görülür etkisi.teşekkürler. 0\n",
            "Ürünün hızı tam da istediğim gibi değil. İdare eder bu fiyata.. 0\n",
            "Bu üründe harici sd kart girişi yok yalnız... Hepsiburadanın bu kısmı gözden geçirmesi gerek... 1\n",
            "süper hızlı gönderim denilen ürün 5 günde elime ulaştı teşekkürler. 0\n",
            "Androidden sıkılıp sınıf atlamak isteyenlere... 1\n",
            "Telefonumu sarj etmek için aldım . Alet tam sarjla 5 gün telefonu doldurdu biraz büyük olsada memnunum 1\n",
            "Sanki biraz küçük, hafif ve çok zıplıyor. Kargo hızlı geldi. Plastik top hissiyatı verdiği iddiasına katıyorum. 0\n",
            "Baskı kalitesi iyi değil ama iş görür 0\n",
            "Gereksiz pahalı mouse almak yerine tercih edebilirsiniz. Gayet başarılı. Boş ve gereksiz laflara itina göstermeyin. 1\n",
            "Henüz çok yeni aldım. Ancak, bir sorun yaşamadım. Umarım yaşamamda. 1\n",
            "henüz kullanmadım ama gelen ürün herşeyiyle burdayım diyo bide işin içinde hepsibudur ailesi olunca daha ne olsun 1\n",
            "Eşim için almıştım. Taşıması kolay ve ince yapısı neredeyse slimlerle yarışır. Çok memnun kaldık. 1\n",
            "İlk dakikalarda çıktı tekerlikler 0\n",
            "Gözü çok ağrıtıyor ama güzel ürün 0\n",
            "ürünün şarj tarzı uygun deyil.dönüştürücü gerek.dönüştürücüyle birlikte fiyat artıyor. 0\n",
            "tek eksik kronometre 1\n",
            "Ürün tam olarak beklediğim gibi linux işletim sisteminde çok işime yarıyor ;) 1\n",
            "bu ürünü oğullarım istedi.memnun kaldık,fiyatı çok iyi. 1\n",
            "Arkasındaki mekanizma yerinden kolayca çıktı ve oldukca kalitesiz tek artı yanı görünümü 0\n",
            "Yani çok gerekli değil 0\n",
            "Iphone için app bulunmuyor. Ama olsun hiç önemli değil. Önemli olan Batuhan' ın mutlu olmasıydı ve oldu. 0\n",
            "sıkıntı yok 1\n",
            "Fena değil bu paraya iyi 0\n"
          ],
          "name": "stdout"
        }
      ]
    },
    {
      "cell_type": "code",
      "metadata": {
        "id": "S9xH4AQdUUmE"
      },
      "source": [
        ""
      ],
      "execution_count": null,
      "outputs": []
    },
    {
      "cell_type": "code",
      "metadata": {
        "id": "eLkX6KBVUU5M"
      },
      "source": [
        "examples = [\n",
        "            \":)\",\n",
        "            \":))\",\n",
        "            \"😚\",\n",
        "            \"turkcell :)\",\n",
        "            \"seni seviyorum turkcell\",\n",
        "            \"gayet güzel\",\n",
        "            \"güzel\",\n",
        "            \"çok güzel\",\n",
        "            \"çok iyi\",\n",
        "            \"gayet güzel\",\n",
        "            \"güzeldi\",\n",
        "            \"güzelmiş\",\n",
        "            \"çok güzeldi\",\n",
        "            \"çok güzelmiş\",\n",
        "            \"beğendim\",\n",
        "            \"beğendik\",\n",
        "            \"beğendi\",\n",
        "            \"çok beğendim\",\n",
        "            \"çok beğendik\",\n",
        "            \"çok beğendik!!!\",\n",
        "            \"sevdim\",\n",
        "            \"sevdik\",\n",
        "            \"çok sevdim\",\n",
        "            \"hiç kötü değil\",\n",
        "            \"kötü değil\",\n",
        "            \"kötü değildi\",\n",
        "            \"kötü değilmiş\",\n",
        "            \"turkcell candır\",\n",
        "            \"turkcell candir\",\n",
        "            \":(\",\n",
        "            \":((\",\n",
        "            \"🙁\",\n",
        "            \"turkcell berbat\",\n",
        "            \"turkcell rezilsin\",\n",
        "            \"rezilsin turkcell\",\n",
        "            \"turkcell 🙁\",\n",
        "            \"rezillik\",\n",
        "            \"berbat\",\n",
        "            \"berbattı\",\n",
        "            \"rezildi\",\n",
        "            \"paramızla rezil olduk\",\n",
        "            \"kötü\",\n",
        "            \"çok kötü\",\n",
        "            \"çok kötü!!!!\",\n",
        "            \"kötüydü\",\n",
        "            \"çok kötüydü\",\n",
        "            \"güzel değil\",\n",
        "            \"güzel değildi\",\n",
        "            \"iyi değil\",\n",
        "            \"iyi değildi\",\n",
        "            \"hiç güzel değil\",\n",
        "            \"hiç güzel değildi\",\n",
        "            \"pek güzel değildi\",\n",
        "            \"pek güzel sayılmaz\",\n",
        "            \"pek de güzel sayılmaz\",\n",
        "            \"begenmedim\",\n",
        "            \"beğenmedim\",\n",
        "            \"pek beğenmedim\",\n",
        "            \"hiç beğenmedim\",\n",
        "            \"sevmedim\",\n",
        "            \"sevemedim\", \n",
        "            \n",
        "]"
      ],
      "execution_count": null,
      "outputs": []
    },
    {
      "cell_type": "code",
      "metadata": {
        "id": "AUdF55RKUU5b",
        "colab": {
          "base_uri": "https://localhost:8080/",
          "height": 1000
        },
        "outputId": "5b9cdd0a-7ba9-48dd-f80d-a685b722a871"
      },
      "source": [
        "for ex in examples:\n",
        "    tt = tok.texts_to_sequences([preprocess(ex)])\n",
        "    ptt = pad_sequences(tt, MAX_LEN, padding=\"post\")\n",
        "    pred = model.predict(ptt)\n",
        "    print(ex)\n",
        "    print(np.round(pred[0]).astype(int))\n",
        "    print(\"---------------\")\n",
        "    print(\"\\n\")"
      ],
      "execution_count": null,
      "outputs": [
        {
          "output_type": "stream",
          "text": [
            ":)\n",
            "[1]\n",
            "---------------\n",
            "\n",
            "\n",
            ":))\n",
            "[1]\n",
            "---------------\n",
            "\n",
            "\n",
            "😚\n",
            "[1]\n",
            "---------------\n",
            "\n",
            "\n",
            "turkcell :)\n",
            "[1]\n",
            "---------------\n",
            "\n",
            "\n",
            "seni seviyorum turkcell\n",
            "[1]\n",
            "---------------\n",
            "\n",
            "\n",
            "gayet güzel\n",
            "[1]\n",
            "---------------\n",
            "\n",
            "\n",
            "güzel\n",
            "[1]\n",
            "---------------\n",
            "\n",
            "\n",
            "çok güzel\n",
            "[1]\n",
            "---------------\n",
            "\n",
            "\n",
            "çok iyi\n",
            "[1]\n",
            "---------------\n",
            "\n",
            "\n",
            "gayet güzel\n",
            "[1]\n",
            "---------------\n",
            "\n",
            "\n",
            "güzeldi\n",
            "[1]\n",
            "---------------\n",
            "\n",
            "\n",
            "güzelmiş\n",
            "[1]\n",
            "---------------\n",
            "\n",
            "\n",
            "çok güzeldi\n",
            "[1]\n",
            "---------------\n",
            "\n",
            "\n",
            "çok güzelmiş\n",
            "[1]\n",
            "---------------\n",
            "\n",
            "\n",
            "beğendim\n",
            "[1]\n",
            "---------------\n",
            "\n",
            "\n",
            "beğendik\n",
            "[1]\n",
            "---------------\n",
            "\n",
            "\n",
            "beğendi\n",
            "[1]\n",
            "---------------\n",
            "\n",
            "\n",
            "çok beğendim\n",
            "[1]\n",
            "---------------\n",
            "\n",
            "\n",
            "çok beğendik\n",
            "[1]\n",
            "---------------\n",
            "\n",
            "\n",
            "çok beğendik!!!\n",
            "[0]\n",
            "---------------\n",
            "\n",
            "\n",
            "sevdim\n",
            "[1]\n",
            "---------------\n",
            "\n",
            "\n",
            "sevdik\n",
            "[1]\n",
            "---------------\n",
            "\n",
            "\n",
            "çok sevdim\n",
            "[1]\n",
            "---------------\n",
            "\n",
            "\n",
            "hiç kötü değil\n",
            "[1]\n",
            "---------------\n",
            "\n",
            "\n",
            "kötü değil\n",
            "[1]\n",
            "---------------\n",
            "\n",
            "\n",
            "kötü değildi\n",
            "[1]\n",
            "---------------\n",
            "\n",
            "\n",
            "kötü değilmiş\n",
            "[1]\n",
            "---------------\n",
            "\n",
            "\n",
            "turkcell candır\n",
            "[1]\n",
            "---------------\n",
            "\n",
            "\n",
            "turkcell candir\n",
            "[1]\n",
            "---------------\n",
            "\n",
            "\n",
            ":(\n",
            "[0]\n",
            "---------------\n",
            "\n",
            "\n",
            ":((\n",
            "[0]\n",
            "---------------\n",
            "\n",
            "\n",
            "🙁\n",
            "[0]\n",
            "---------------\n",
            "\n",
            "\n",
            "turkcell berbat\n",
            "[0]\n",
            "---------------\n",
            "\n",
            "\n",
            "turkcell rezilsin\n",
            "[0]\n",
            "---------------\n",
            "\n",
            "\n",
            "rezilsin turkcell\n",
            "[0]\n",
            "---------------\n",
            "\n",
            "\n",
            "turkcell 🙁\n",
            "[0]\n",
            "---------------\n",
            "\n",
            "\n",
            "rezillik\n",
            "[0]\n",
            "---------------\n",
            "\n",
            "\n",
            "berbat\n",
            "[0]\n",
            "---------------\n",
            "\n",
            "\n",
            "berbattı\n",
            "[0]\n",
            "---------------\n",
            "\n",
            "\n",
            "rezildi\n",
            "[0]\n",
            "---------------\n",
            "\n",
            "\n",
            "paramızla rezil olduk\n",
            "[0]\n",
            "---------------\n",
            "\n",
            "\n",
            "kötü\n",
            "[0]\n",
            "---------------\n",
            "\n",
            "\n",
            "çok kötü\n",
            "[0]\n",
            "---------------\n",
            "\n",
            "\n",
            "çok kötü!!!!\n",
            "[0]\n",
            "---------------\n",
            "\n",
            "\n",
            "kötüydü\n",
            "[0]\n",
            "---------------\n",
            "\n",
            "\n",
            "çok kötüydü\n",
            "[0]\n",
            "---------------\n",
            "\n",
            "\n",
            "güzel değil\n",
            "[0]\n",
            "---------------\n",
            "\n",
            "\n",
            "güzel değildi\n",
            "[0]\n",
            "---------------\n",
            "\n",
            "\n",
            "iyi değil\n",
            "[0]\n",
            "---------------\n",
            "\n",
            "\n",
            "iyi değildi\n",
            "[0]\n",
            "---------------\n",
            "\n",
            "\n",
            "hiç güzel değil\n",
            "[0]\n",
            "---------------\n",
            "\n",
            "\n",
            "hiç güzel değildi\n",
            "[0]\n",
            "---------------\n",
            "\n",
            "\n",
            "pek güzel değildi\n",
            "[0]\n",
            "---------------\n",
            "\n",
            "\n",
            "pek güzel sayılmaz\n",
            "[0]\n",
            "---------------\n",
            "\n",
            "\n",
            "pek de güzel sayılmaz\n",
            "[0]\n",
            "---------------\n",
            "\n",
            "\n",
            "begenmedim\n",
            "[0]\n",
            "---------------\n",
            "\n",
            "\n",
            "beğenmedim\n",
            "[0]\n",
            "---------------\n",
            "\n",
            "\n",
            "pek beğenmedim\n",
            "[0]\n",
            "---------------\n",
            "\n",
            "\n",
            "hiç beğenmedim\n",
            "[0]\n",
            "---------------\n",
            "\n",
            "\n",
            "sevmedim\n",
            "[0]\n",
            "---------------\n",
            "\n",
            "\n",
            "sevemedim\n",
            "[0]\n",
            "---------------\n",
            "\n",
            "\n"
          ],
          "name": "stdout"
        }
      ]
    },
    {
      "cell_type": "code",
      "metadata": {
        "id": "xpaC0t9667fC"
      },
      "source": [
        ""
      ],
      "execution_count": null,
      "outputs": []
    },
    {
      "cell_type": "code",
      "metadata": {
        "id": "eaPX6JyS_YVS"
      },
      "source": [
        ""
      ],
      "execution_count": null,
      "outputs": []
    },
    {
      "cell_type": "code",
      "metadata": {
        "id": "1FRcZw3RAed5"
      },
      "source": [
        ""
      ],
      "execution_count": null,
      "outputs": []
    },
    {
      "cell_type": "code",
      "metadata": {
        "id": "hERO5IL9ni4f"
      },
      "source": [
        ""
      ],
      "execution_count": null,
      "outputs": []
    },
    {
      "cell_type": "code",
      "metadata": {
        "id": "EXMTagN8aTW5"
      },
      "source": [
        ""
      ],
      "execution_count": null,
      "outputs": []
    },
    {
      "cell_type": "code",
      "metadata": {
        "id": "pbSEvM87CTG7"
      },
      "source": [
        ""
      ],
      "execution_count": null,
      "outputs": []
    },
    {
      "cell_type": "code",
      "metadata": {
        "id": "Q9x5g6s-hPjW"
      },
      "source": [
        ""
      ],
      "execution_count": null,
      "outputs": []
    }
  ]
}